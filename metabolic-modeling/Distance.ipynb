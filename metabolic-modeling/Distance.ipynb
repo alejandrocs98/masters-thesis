{
 "cells": [
  {
   "cell_type": "code",
   "execution_count": 10,
   "metadata": {},
   "outputs": [
    {
     "ename": "ImportError",
     "evalue": "cannot import name 'upgma' from 'skbio.tree' (/home/acs98/anaconda3/envs/matrix-analysis/lib/python3.11/site-packages/skbio/tree/__init__.py)",
     "output_type": "error",
     "traceback": [
      "\u001b[0;31m---------------------------------------------------------------------------\u001b[0m",
      "\u001b[0;31mImportError\u001b[0m                               Traceback (most recent call last)",
      "Cell \u001b[0;32mIn[10], line 5\u001b[0m\n\u001b[1;32m      3\u001b[0m \u001b[39mimport\u001b[39;00m \u001b[39mnumpy\u001b[39;00m \u001b[39mas\u001b[39;00m \u001b[39mnp\u001b[39;00m\n\u001b[1;32m      4\u001b[0m \u001b[39mfrom\u001b[39;00m \u001b[39mskbio\u001b[39;00m \u001b[39mimport\u001b[39;00m DistanceMatrix\n\u001b[0;32m----> 5\u001b[0m \u001b[39mfrom\u001b[39;00m \u001b[39mskbio\u001b[39;00m\u001b[39m.\u001b[39;00m\u001b[39mtree\u001b[39;00m \u001b[39mimport\u001b[39;00m nj, TreeNode, upgma\n",
      "\u001b[0;31mImportError\u001b[0m: cannot import name 'upgma' from 'skbio.tree' (/home/acs98/anaconda3/envs/matrix-analysis/lib/python3.11/site-packages/skbio/tree/__init__.py)"
     ]
    }
   ],
   "source": [
    "import pandas as pd\n",
    "from scipy.spatial.distance import squareform\n",
    "import numpy as np\n",
    "from skbio import DistanceMatrix\n",
    "from skbio.tree import nj, TreeNode, upgma"
   ]
  },
  {
   "cell_type": "code",
   "execution_count": 3,
   "metadata": {},
   "outputs": [],
   "source": [
    "pretty_names_dir = {'B_caccae': 'Bca',\n",
    "                'B_cellulosilyticus_WH2': 'Bce',\n",
    "                'B_ovatus': 'Bov',\n",
    "                'B_thetaiotaomicron': 'Bth',\n",
    "                'B_uniformis': 'Bun',\n",
    "                'B_vulgatus': 'Bvu',\n",
    "                'C_aerofaciens': 'Cae',\n",
    "                'C_scindens': 'Csc',\n",
    "                'C_spiroforme': 'Csp',\n",
    "                # 'D_longicatena': 'Dlo',\n",
    "                'P_distasonis': 'Pdi',\n",
    "                'R_obeum': 'Rob'\n",
    "                }"
   ]
  },
  {
   "cell_type": "code",
   "execution_count": 4,
   "metadata": {},
   "outputs": [],
   "source": [
    "metdist = pd.read_table('metabolic-metrics/metdist_KOs.tsv', index_col=0)\n",
    "metdist.columns = metdist.columns.map(pretty_names_dir)\n",
    "metdist.index = metdist.index.map(pretty_names_dir)"
   ]
  },
  {
   "cell_type": "code",
   "execution_count": 5,
   "metadata": {},
   "outputs": [
    {
     "data": {
      "text/plain": [
       "array([[0.        , 0.21358543, 0.13124534, 0.11831198, 0.19676946,\n",
       "        0.18450185, 0.65621079, 0.61403509, 0.71146822, 0.25244073,\n",
       "        0.60240275],\n",
       "       [0.21358543, 0.        , 0.16851595, 0.17980636, 0.18047753,\n",
       "        0.21034483, 0.65505021, 0.62113127, 0.73736702, 0.25561427,\n",
       "        0.61173936],\n",
       "       [0.13124534, 0.16851595, 0.        , 0.11717613, 0.20070671,\n",
       "        0.17596567, 0.65784726, 0.61559433, 0.72489684, 0.25771812,\n",
       "        0.61129386],\n",
       "       [0.11831198, 0.17980636, 0.11717613, 0.        , 0.19815341,\n",
       "        0.18888097, 0.6640625 , 0.62200436, 0.72052705, 0.25791246,\n",
       "        0.61394838],\n",
       "       [0.19676946, 0.18047753, 0.20070671, 0.19815341, 0.        ,\n",
       "        0.1791697 , 0.65058751, 0.61491375, 0.71965933, 0.25017182,\n",
       "        0.60583942],\n",
       "       [0.18450185, 0.21034483, 0.17596567, 0.18888097, 0.1791697 ,\n",
       "        0.        , 0.64643963, 0.60414334, 0.71682044, 0.25700615,\n",
       "        0.59570864],\n",
       "       [0.65621079, 0.65505021, 0.65784726, 0.6640625 , 0.65058751,\n",
       "        0.64643963, 0.        , 0.55673524, 0.64545455, 0.65461121,\n",
       "        0.54722036],\n",
       "       [0.61403509, 0.62113127, 0.61559433, 0.62200436, 0.61491375,\n",
       "        0.60414334, 0.55673524, 0.        , 0.67964732, 0.60571115,\n",
       "        0.3774574 ],\n",
       "       [0.71146822, 0.73736702, 0.72489684, 0.72052705, 0.71965933,\n",
       "        0.71682044, 0.64545455, 0.67964732, 0.        , 0.73274094,\n",
       "        0.66243465],\n",
       "       [0.25244073, 0.25561427, 0.25771812, 0.25791246, 0.25017182,\n",
       "        0.25700615, 0.65461121, 0.60571115, 0.73274094, 0.        ,\n",
       "        0.60440771],\n",
       "       [0.60240275, 0.61173936, 0.61129386, 0.61394838, 0.60583942,\n",
       "        0.59570864, 0.54722036, 0.3774574 , 0.66243465, 0.60440771,\n",
       "        0.        ]])"
      ]
     },
     "execution_count": 5,
     "metadata": {},
     "output_type": "execute_result"
    }
   ],
   "source": [
    "matrix = metdist.values\n",
    "matrix"
   ]
  },
  {
   "cell_type": "code",
   "execution_count": 9,
   "metadata": {},
   "outputs": [
    {
     "ename": "NameError",
     "evalue": "name 'upgma' is not defined",
     "output_type": "error",
     "traceback": [
      "\u001b[0;31m---------------------------------------------------------------------------\u001b[0m",
      "\u001b[0;31mNameError\u001b[0m                                 Traceback (most recent call last)",
      "Cell \u001b[0;32mIn[9], line 4\u001b[0m\n\u001b[1;32m      1\u001b[0m dist_matrix \u001b[39m=\u001b[39m DistanceMatrix(metdist\u001b[39m.\u001b[39mvalues, ids\u001b[39m=\u001b[39mmetdist\u001b[39m.\u001b[39mindex)\n\u001b[1;32m      3\u001b[0m \u001b[39m# Construct a tree using neighbor joining method\u001b[39;00m\n\u001b[0;32m----> 4\u001b[0m tree \u001b[39m=\u001b[39m upgma(dist_matrix)\n\u001b[1;32m      6\u001b[0m \u001b[39m# Convert tree to Newick format and save to file\u001b[39;00m\n\u001b[1;32m      7\u001b[0m \u001b[39mwith\u001b[39;00m \u001b[39mopen\u001b[39m(\u001b[39m\"\u001b[39m\u001b[39mtree.nwk\u001b[39m\u001b[39m\"\u001b[39m, \u001b[39m\"\u001b[39m\u001b[39mw\u001b[39m\u001b[39m\"\u001b[39m) \u001b[39mas\u001b[39;00m output_file:\n",
      "\u001b[0;31mNameError\u001b[0m: name 'upgma' is not defined"
     ]
    }
   ],
   "source": [
    "dist_matrix = DistanceMatrix(metdist.values, ids=metdist.index)\n",
    "\n",
    "# Construct a tree using neighbor joining method\n",
    "tree = upgma(dist_matrix)\n",
    "\n",
    "# Convert tree to Newick format and save to file\n",
    "with open(\"tree.nwk\", \"w\") as output_file:\n",
    "    output_file.write(tree.to_newick())"
   ]
  }
 ],
 "metadata": {
  "kernelspec": {
   "display_name": "biopython",
   "language": "python",
   "name": "python3"
  },
  "language_info": {
   "codemirror_mode": {
    "name": "ipython",
    "version": 3
   },
   "file_extension": ".py",
   "mimetype": "text/x-python",
   "name": "python",
   "nbconvert_exporter": "python",
   "pygments_lexer": "ipython3",
   "version": "3.11.2"
  },
  "orig_nbformat": 4
 },
 "nbformat": 4,
 "nbformat_minor": 2
}
