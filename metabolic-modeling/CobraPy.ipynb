{
 "cells": [
  {
   "cell_type": "code",
   "execution_count": 1,
   "metadata": {},
   "outputs": [],
   "source": [
    "import cobra\n",
    "from cobra.io import load_model\n",
    "from pathlib import Path\n",
    "from cobra.io import load_json_model, save_json_model, load_matlab_model, save_matlab_model, read_sbml_model, write_sbml_model\n",
    "import logging\n",
    "from cobra import Model, Reaction, Metabolite"
   ]
  },
  {
   "cell_type": "code",
   "execution_count": 9,
   "metadata": {},
   "outputs": [],
   "source": [
    "yuca = read_sbml_model('B_cellulosilyticus.xml')"
   ]
  },
  {
   "cell_type": "code",
   "execution_count": 2,
   "metadata": {},
   "outputs": [],
   "source": [
    "taxa = ['B_cellulosilyticus_WH2', \n",
    "        'B_caccae', \n",
    "        'B_vulgatus', \n",
    "        'B_thetaiotaomicron', \n",
    "        'B_ovatus', \n",
    "        'R_obeum', \n",
    "        'B_uniformis', \n",
    "        'P_distasonis', \n",
    "        'C_scindens', \n",
    "        'C_aerofaciens', \n",
    "        'C_spiroforme', \n",
    "        'D_longicatena']\n",
    "\n",
    "cols = ['#016bff',\n",
    "        '#b91f1c',\n",
    "        '#308937',\n",
    "        '#ff8137',\n",
    "        '#6f4fc7',\n",
    "        '#d4b300',\n",
    "        '#893a2b',\n",
    "        '#ff6c79',\n",
    "        '#16c4ff',\n",
    "        '#766f41',\n",
    "        '#00c800',\n",
    "        '#af3261']\n",
    "\n",
    "pretty_names_dir = {'B_caccae': '$B. caccae$',\n",
    "                'B_cellulosilyticus_WH2': '$B. cellulosilyticus$',\n",
    "                'B_ovatus': '$B. ovatus$',\n",
    "                'B_thetaiotaomicron': '$B. thetaiotaomicron$',\n",
    "                'B_uniformis': '$B. uniformis$',\n",
    "                'B_vulgatus': '$B. vulgatus$',\n",
    "                'C_aerofaciens': '$C. aerofaciens$',\n",
    "                'C_scindens': '$C. scindens$',\n",
    "                'C_spiroforme': '$C. spiroforme$',\n",
    "                'D_longicatena': '$D. longicatena$',\n",
    "                'P_distasonis': '$P. distasonis$',\n",
    "                'R_obeum': '$R. obeum$'}\n",
    "\n",
    "cols_species_map = dict(zip(taxa, cols))"
   ]
  },
  {
   "cell_type": "code",
   "execution_count": 3,
   "metadata": {},
   "outputs": [],
   "source": [
    "gems = [read_sbml_model(f'carveme/{taxon}.xml') for taxon in taxa]"
   ]
  },
  {
   "cell_type": "code",
   "execution_count": 15,
   "metadata": {},
   "outputs": [
    {
     "data": {
      "text/html": [
       "\n",
       "        <table>\n",
       "            <tr>\n",
       "                <td><strong>Name</strong></td>\n",
       "                <td>B_cellulosilyticus</td>\n",
       "            </tr><tr>\n",
       "                <td><strong>Memory address</strong></td>\n",
       "                <td>7f2e0fb40b80</td>\n",
       "            </tr><tr>\n",
       "                <td><strong>Number of metabolites</strong></td>\n",
       "                <td>1450</td>\n",
       "            </tr><tr>\n",
       "                <td><strong>Number of reactions</strong></td>\n",
       "                <td>2163</td>\n",
       "            </tr><tr>\n",
       "                <td><strong>Number of genes</strong></td>\n",
       "                <td>816</td>\n",
       "            </tr><tr>\n",
       "                <td><strong>Number of groups</strong></td>\n",
       "                <td>0</td>\n",
       "            </tr><tr>\n",
       "                <td><strong>Objective expression</strong></td>\n",
       "                <td>1.0*Growth - 1.0*Growth_reverse_699ae</td>\n",
       "            </tr><tr>\n",
       "                <td><strong>Compartments</strong></td>\n",
       "                <td>cytosol, periplasm, extracellular space</td>\n",
       "            </tr>\n",
       "          </table>"
      ],
      "text/plain": [
       "<Model B_cellulosilyticus at 0x7f2e0fb40b80>"
      ]
     },
     "execution_count": 15,
     "metadata": {},
     "output_type": "execute_result"
    }
   ],
   "source": [
    "gems[0]"
   ]
  },
  {
   "cell_type": "code",
   "execution_count": 5,
   "metadata": {},
   "outputs": [],
   "source": [
    "solutions = [gem.optimize() for gem in gems]"
   ]
  },
  {
   "cell_type": "code",
   "execution_count": 13,
   "metadata": {},
   "outputs": [
    {
     "name": "stdout",
     "output_type": "stream",
     "text": [
      "B_cellulosilyticus_WH2: 58.41860615054348\n",
      "B_caccae: 38.358747934563645\n",
      "B_vulgatus: 43.05283661852808\n",
      "B_thetaiotaomicron: 55.16639271976866\n",
      "B_ovatus: 58.617369796739915\n",
      "R_obeum: 34.37550407061362\n",
      "B_uniformis: 47.06638171354344\n",
      "P_distasonis: 38.8040492677319\n",
      "C_scindens: 46.818417747538746\n",
      "C_aerofaciens: 24.659343634879164\n",
      "C_spiroforme: 31.465267290857636\n",
      "D_longicatena: 49.08612217962263\n"
     ]
    }
   ],
   "source": [
    "objective_values = [solution.objective_value for solution in solutions]\n",
    "for i in range(len(objective_values)):\n",
    "    print(f'{taxa[i]}: {objective_values[i]}')"
   ]
  },
  {
   "cell_type": "code",
   "execution_count": 14,
   "metadata": {},
   "outputs": [
    {
     "name": "stdout",
     "output_type": "stream",
     "text": [
      "B_cellulosilyticus_WH2: 53\n",
      "B_caccae: 46\n",
      "B_vulgatus: 46\n",
      "B_thetaiotaomicron: 57\n",
      "B_ovatus: 49\n",
      "R_obeum: 35\n",
      "B_uniformis: 55\n",
      "P_distasonis: 34\n",
      "C_scindens: 21\n",
      "C_aerofaciens: 21\n",
      "C_spiroforme: 14\n",
      "D_longicatena: 19\n"
     ]
    }
   ],
   "source": [
    "blocked_rxns = [cobra.flux_analysis.find_blocked_reactions(gem) for gem in gems]\n",
    "for i in range(len(blocked_rxns)):\n",
    "    print(f'{taxa[i]}: {len(blocked_rxns[i])}')"
   ]
  }
 ],
 "metadata": {
  "kernelspec": {
   "display_name": "cobrapy",
   "language": "python",
   "name": "python3"
  },
  "language_info": {
   "codemirror_mode": {
    "name": "ipython",
    "version": 3
   },
   "file_extension": ".py",
   "mimetype": "text/x-python",
   "name": "python",
   "nbconvert_exporter": "python",
   "pygments_lexer": "ipython3",
   "version": "3.10.9"
  },
  "orig_nbformat": 4,
  "vscode": {
   "interpreter": {
    "hash": "f503bf263170fc4f6f09ae680a70e644061548ee2c46818c3d64a9a0b2a926b7"
   }
  }
 },
 "nbformat": 4,
 "nbformat_minor": 2
}
