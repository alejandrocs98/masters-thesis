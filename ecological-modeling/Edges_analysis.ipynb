{
 "cells": [
  {
   "cell_type": "code",
   "execution_count": 1,
   "metadata": {},
   "outputs": [],
   "source": [
    "import numpy as np\n",
    "import pandas as pd\n",
    "from pathlib import Path\n",
    "import matplotlib.pyplot as plt; plt.rc('font', size=12)\n",
    "import matplotlib.cm as cm\n",
    "import seaborn as sns\n",
    "from scipy.spatial import procrustes\n",
    "from scipy.stats import percentileofscore\n",
    "from mlxtend.evaluate import permutation_test\n",
    "import re\n",
    "from collections import Counter"
   ]
  },
  {
   "cell_type": "code",
   "execution_count": 2,
   "metadata": {},
   "outputs": [
    {
     "data": {
      "text/plain": [
       "['Bca', 'Bce', 'Bov', 'Bth', 'Bun', 'Bvu', 'Cae', 'Csc', 'Csp', 'Pdi', 'Rob']"
      ]
     },
     "execution_count": 2,
     "metadata": {},
     "output_type": "execute_result"
    }
   ],
   "source": [
    "taxa = ['B_caccae',\n",
    "        'B_cellulosilyticus_WH2',\n",
    "        'B_ovatus',\n",
    "        'B_thetaiotaomicron',\n",
    "        'B_uniformis',\n",
    "        'B_vulgatus',\n",
    "        'C_aerofaciens',\n",
    "        'C_scindens',\n",
    "        'C_spiroforme',\n",
    "        # 'D_longicatena',\n",
    "        'P_distasonis',\n",
    "        'R_obeum'\n",
    "        ]\n",
    "\n",
    "pretty_names_dir = {'B_caccae': '$B. caccae$',\n",
    "                'B_cellulosilyticus_WH2': '$B. cellulosilyticus$',\n",
    "                'B_ovatus': '$B. ovatus$',\n",
    "                'B_thetaiotaomicron': '$B. thetaiotaomicron$',\n",
    "                'B_uniformis': '$B. uniformis$',\n",
    "                'B_vulgatus': '$B. vulgatus$',\n",
    "                'C_aerofaciens': '$C. aerofaciens$',\n",
    "                'C_scindens': '$C. scindens$',\n",
    "                'C_spiroforme': '$C. spiroforme$',\n",
    "                # 'D_longicatena': '$D. longicatena$',\n",
    "                'P_distasonis': '$P. distasonis$',\n",
    "                'R_obeum': '$R. obeum$'\n",
    "                }\n",
    "\n",
    "abbr_names_dir = {'B_caccae': 'Bca',\n",
    "                'B_cellulosilyticus_WH2': 'Bce',\n",
    "                'B_ovatus': 'Bov',\n",
    "                'B_thetaiotaomicron': 'Bth',\n",
    "                'B_uniformis': 'Bun',\n",
    "                'B_vulgatus': 'Bvu',\n",
    "                'C_aerofaciens': 'Cae',\n",
    "                'C_scindens': 'Csc',\n",
    "                'C_spiroforme': 'Csp',\n",
    "                # 'D_longicatena': 'Dlo',\n",
    "                'P_distasonis': 'Pdi',\n",
    "                'R_obeum': 'Rob'\n",
    "                }\n",
    "\n",
    "pretty_names = [pretty_names_dir[taxa] for taxa in taxa]\n",
    "pretty_names\n",
    "abbr_names = [abbr_names_dir[taxa] for taxa in taxa]\n",
    "abbr_names"
   ]
  },
  {
   "cell_type": "code",
   "execution_count": 3,
   "metadata": {},
   "outputs": [],
   "source": [
    "input_path_lf0 = Path(f'mcnulty-results/best-chains/mcnulty-LF0-seed53/inference/posteriors/interactions_matrices')\n",
    "input_path_hf0 = Path(f'mcnulty-results/best-chains/mcnulty-HF0-seed3/inference/posteriors/interactions_matrices')"
   ]
  },
  {
   "cell_type": "code",
   "execution_count": 4,
   "metadata": {},
   "outputs": [],
   "source": [
    "inter_bayes_lf0 = pd.read_table(f'{input_path_lf0}/bayes_factors_matrix.tsv', index_col=0)\n",
    "interactions_lf0 = pd.read_table(f'{input_path_lf0}/median_matrix.tsv', index_col=0)\n",
    "inter_bayes_hf0 = pd.read_table(f'{input_path_hf0}/bayes_factors_matrix.tsv', index_col=0)\n",
    "interactions_hf0 = pd.read_table(f'{input_path_hf0}/median_matrix.tsv', index_col=0)"
   ]
  },
  {
   "cell_type": "code",
   "execution_count": 5,
   "metadata": {},
   "outputs": [],
   "source": [
    "def mask_by_bayes(interactions, inter_bayes):\n",
    "    inter_bayes = inter_bayes.copy()\n",
    "    interactions = interactions.copy()\n",
    "\n",
    "    inter_bayes_mask = inter_bayes > np.sqrt(10)\n",
    "    inter_bayes_mask = inter_bayes_mask.values\n",
    "    \n",
    "    interactions_matrix = interactions.values\n",
    "    interactions_masked = np.ma.masked_array(interactions_matrix, mask=~inter_bayes_mask)\n",
    "    interactions_masked = interactions_masked.filled(np.nan)\n",
    "    return interactions_masked\n",
    "\n",
    "def get_smallest_order_of_magnitude(x):\n",
    "    return int(np.floor(np.log10(np.nanmin(np.abs(x)))))\n",
    "\n",
    "# def max_min_swap(x):\n",
    "#     x = x.copy()\n",
    "#     x_min = np.nanmin(x)\n",
    "#     x_max = np.nanmax(x)\n",
    "#     for i in range(x.shape[0]):\n",
    "#         for j in range(x.shape[1]):\n",
    "#             if np.isnan(x[i,j]):\n",
    "#                 continue\n",
    "#             x[i,j] = x_max + x_min - x[i,j]\n",
    "#     return x\n",
    "\n",
    "# def tranform_interaction_matrix(interactions, inter_bayes):\n",
    "#     interactions_masked = mask_by_bayes(interactions, inter_bayes)\n",
    "#     transformed_interaction_matrix = max_min_swap(np.absolute(np.log10(np.absolute(interactions_masked)))) * np.sign(interactions_masked)\n",
    "#     return transformed_interaction_matrix\n",
    "\n",
    "def tranform_interaction_matrix(interactions, inter_bayes):\n",
    "    interactions_masked = mask_by_bayes(interactions, inter_bayes)\n",
    "    smallest_order_of_magnitude = get_smallest_order_of_magnitude(interactions_masked)\n",
    "    transformed_interaction_matrix = np.log10(np.abs(interactions_masked * 10**(-1*smallest_order_of_magnitude))) * np.sign(interactions_masked)\n",
    "    return transformed_interaction_matrix\n",
    "\n",
    "# def min_max_norm(x):\n",
    "#     x = x.values.copy()\n",
    "#     x_max = np.nanmax(x)\n",
    "#     x_min = np.nanmin(x)\n",
    "#     for i in range(x.shape[0]):\n",
    "#         for j in range(x.shape[1]):\n",
    "#             if np.isnan(x[i,j]):\n",
    "#                 continue\n",
    "#             x[i,j] = (x[i,j] - x_min) / (x_max - x_min)\n",
    "#     return x"
   ]
  },
  {
   "cell_type": "code",
   "execution_count": 6,
   "metadata": {},
   "outputs": [],
   "source": [
    "masked_lf0 = pd.DataFrame(mask_by_bayes(interactions_lf0, inter_bayes_lf0),\n",
    "                          index=pretty_names, \n",
    "                          columns=pretty_names)\n",
    "masked_hf0 = pd.DataFrame(mask_by_bayes(interactions_hf0, inter_bayes_hf0), \n",
    "                            index=pretty_names,\n",
    "                            columns=pretty_names)"
   ]
  },
  {
   "cell_type": "code",
   "execution_count": 7,
   "metadata": {},
   "outputs": [
    {
     "name": "stdout",
     "output_type": "stream",
     "text": [
      "1.0573290484610336e-09\n",
      "2.044223738858441e-07\n"
     ]
    }
   ],
   "source": [
    "print(np.nanmin(np.abs(masked_lf0)))\n",
    "print(np.nanmax(np.abs(masked_lf0)))"
   ]
  },
  {
   "cell_type": "code",
   "execution_count": 8,
   "metadata": {},
   "outputs": [
    {
     "name": "stdout",
     "output_type": "stream",
     "text": [
      "2.13049086558384e-09\n",
      "1.2454877778773537e-07\n"
     ]
    }
   ],
   "source": [
    "print(np.nanmin(np.abs(masked_hf0)))\n",
    "print(np.nanmax(np.abs(masked_hf0)))"
   ]
  },
  {
   "cell_type": "code",
   "execution_count": 9,
   "metadata": {},
   "outputs": [
    {
     "name": "stdout",
     "output_type": "stream",
     "text": [
      "00: 7.2727272727272725 %\n",
      "pn: 9.090909090909092 %\n",
      "n0: 21.818181818181817 %\n",
      "nn: 47.27272727272727 %\n",
      "p0: 10.909090909090908 %\n",
      "pp: 3.6363636363636362 %\n"
     ]
    }
   ],
   "source": [
    "ints = []\n",
    "for i in range(masked_lf0.shape[0]):\n",
    "    for j in range(masked_lf0.shape[1]):\n",
    "        if i != j:\n",
    "            if (masked_lf0.iloc[i,j] > 0) and (masked_lf0.iloc[j,i] > 0):\n",
    "                ints.append('pp')\n",
    "            elif (masked_lf0.iloc[i,j] < 0) and (masked_lf0.iloc[j,i] < 0):\n",
    "                ints.append('nn')\n",
    "            elif (masked_lf0.iloc[i,j] > 0) and (masked_lf0.iloc[j,i] < 0):\n",
    "                ints.append('pn')\n",
    "            elif (masked_lf0.iloc[i,j] < 0) and (masked_lf0.iloc[j,i] > 0):\n",
    "                ints.append('pn')\n",
    "            elif (masked_lf0.iloc[i,j] > 0) and (np.isnan(masked_lf0.iloc[j,i])):\n",
    "                ints.append('p0')\n",
    "            elif (masked_lf0.iloc[i,j] < 0) and (np.isnan(masked_lf0.iloc[j,i])):\n",
    "                ints.append('n0')\n",
    "            elif (np.isnan(masked_lf0.iloc[i,j])) and (masked_lf0.iloc[j,i] > 0):\n",
    "                ints.append('p0')\n",
    "            elif (np.isnan(masked_lf0.iloc[i,j])) and (masked_lf0.iloc[j,i] < 0):\n",
    "                ints.append('n0')\n",
    "            elif (np.isnan(masked_lf0.iloc[i,j])) and (np.isnan(masked_lf0.iloc[j,i])):\n",
    "                ints.append('00')\n",
    "tot = sum(Counter(ints).values())\n",
    "for key,values in Counter(ints).items():\n",
    "    print(f'{key}: {(values/tot)*100} %')"
   ]
  },
  {
   "cell_type": "code",
   "execution_count": 10,
   "metadata": {},
   "outputs": [
    {
     "name": "stdout",
     "output_type": "stream",
     "text": [
      "n0: 14.545454545454545 %\n",
      "00: 61.81818181818181 %\n",
      "p0: 21.818181818181817 %\n",
      "pn: 1.8181818181818181 %\n"
     ]
    }
   ],
   "source": [
    "ints = []\n",
    "for i in range(masked_hf0.shape[0]):\n",
    "    for j in range(masked_hf0.shape[1]):\n",
    "        if i != j:\n",
    "            if (masked_hf0.iloc[i,j] > 0) and (masked_hf0.iloc[j,i] > 0):\n",
    "                ints.append('pp')\n",
    "            elif (masked_hf0.iloc[i,j] < 0) and (masked_hf0.iloc[j,i] < 0):\n",
    "                ints.append('nn')\n",
    "            elif (masked_hf0.iloc[i,j] > 0) and (masked_hf0.iloc[j,i] < 0):\n",
    "                ints.append('pn')\n",
    "            elif (masked_hf0.iloc[i,j] < 0) and (masked_hf0.iloc[j,i] > 0):\n",
    "                ints.append('pn')\n",
    "            elif (masked_hf0.iloc[i,j] > 0) and (np.isnan(masked_hf0.iloc[j,i])):\n",
    "                ints.append('p0')\n",
    "            elif (masked_hf0.iloc[i,j] < 0) and (np.isnan(masked_hf0.iloc[j,i])):\n",
    "                ints.append('n0')\n",
    "            elif (np.isnan(masked_hf0.iloc[i,j])) and (masked_hf0.iloc[j,i] > 0):\n",
    "                ints.append('p0')\n",
    "            elif (np.isnan(masked_hf0.iloc[i,j])) and (masked_hf0.iloc[j,i] < 0):\n",
    "                ints.append('n0')\n",
    "            elif (np.isnan(masked_hf0.iloc[i,j])) and (np.isnan(masked_hf0.iloc[j,i])):\n",
    "                ints.append('00')\n",
    "tot = sum(Counter(ints).values())\n",
    "for key,values in Counter(ints).items():\n",
    "    print(f'{key}: {(values/tot)*100} %')"
   ]
  },
  {
   "cell_type": "code",
   "execution_count": 11,
   "metadata": {},
   "outputs": [
    {
     "name": "stdout",
     "output_type": "stream",
     "text": [
      "cons: 25.454545454545453 %\n",
      "0_hf0: 60.0 %\n",
      "0_lf0: 3.6363636363636362 %\n",
      "anti: 10.909090909090908 %\n"
     ]
    }
   ],
   "source": [
    "ints = []\n",
    "for i in range(masked_lf0.shape[0]):\n",
    "    for j in range(masked_hf0.shape[1]):\n",
    "        if i != j:\n",
    "            if (np.isnan(masked_lf0.iloc[i,j])) & (np.isnan(masked_hf0.iloc[i,j])):\n",
    "                ints.append('cons')\n",
    "            elif np.isnan(masked_lf0.iloc[i,j]):\n",
    "                ints.append('0_lf0')\n",
    "            elif np.isnan(masked_hf0.iloc[i,j]):\n",
    "                ints.append('0_hf0')\n",
    "            elif np.sign(masked_lf0.iloc[i,j]) == np.sign(masked_hf0.iloc[i,j]):\n",
    "                ints.append('cons')\n",
    "            else:\n",
    "                ints.append('anti')\n",
    "tot = sum(Counter(ints).values())\n",
    "for key,values in Counter(ints).items():\n",
    "    print(f'{key}: {(values/tot)*100} %')"
   ]
  },
  {
   "cell_type": "code",
   "execution_count": 12,
   "metadata": {},
   "outputs": [],
   "source": [
    "transformed_interaction_matrix_lf0 = pd.DataFrame(tranform_interaction_matrix(interactions_lf0, inter_bayes_lf0), \n",
    "                                                  index=abbr_names, \n",
    "                                                  columns=abbr_names)\n",
    "\n",
    "transformed_interaction_matrix_hf0 = pd.DataFrame(tranform_interaction_matrix(interactions_hf0, inter_bayes_hf0), \n",
    "                                                  index=abbr_names, \n",
    "                                                  columns=abbr_names)"
   ]
  },
  {
   "cell_type": "code",
   "execution_count": 13,
   "metadata": {},
   "outputs": [],
   "source": [
    "difference = np.absolute(np.log10(np.absolute(masked_lf0)) - np.log10(np.absolute(masked_hf0))) * np.sign(masked_lf0) * np.sign(masked_hf0)\n",
    "mask = np.isnan(difference)"
   ]
  },
  {
   "cell_type": "code",
   "execution_count": 14,
   "metadata": {},
   "outputs": [
    {
     "name": "stdout",
     "output_type": "stream",
     "text": [
      "Disparity: 0.6112\n",
      "Disparity P-value: 0.3236\n"
     ]
    }
   ],
   "source": [
    "matrix1 = np.nan_to_num(transformed_interaction_matrix_lf0.values)\n",
    "matrix2 = np.nan_to_num(transformed_interaction_matrix_hf0.values)\n",
    "\n",
    "# matrix1 = np.nan_to_num(masked_lf0.values)\n",
    "# matrix2 = np.nan_to_num(masked_hf0.values)\n",
    "\n",
    "# Procrustes analysis\n",
    "mtx1_trans, mtx2_trans, disparity = procrustes(matrix1, matrix2)\n",
    "\n",
    "# Perform a permutation test\n",
    "\n",
    "n_permutations = 10000\n",
    "null_disparity = np.zeros(n_permutations)\n",
    "for i in range(n_permutations):\n",
    "    # Shuffle the rows of matrix2\n",
    "    shuffled_matrix2 = np.random.permutation(matrix2)\n",
    "    # shuffled_matrix2 = matrix2[np.random.permutation(matrix2.shape[0]), :]\n",
    "    # Run Procrustes analysis on the shuffled matrix\n",
    "    _, _, null_disparity[i] = procrustes(matrix1, shuffled_matrix2)\n",
    "\n",
    "# Calculate p-value based on percentile of observed disparity value in null distribution\n",
    "p_value_disp = percentileofscore(null_disparity, disparity) / 100\n",
    "\n",
    "# Print the results\n",
    "print(f\"Disparity: {disparity:.4f}\")\n",
    "print(f\"Disparity P-value: {p_value_disp:.4f}\")"
   ]
  },
  {
   "cell_type": "code",
   "execution_count": 15,
   "metadata": {},
   "outputs": [
    {
     "data": {
      "text/plain": [
       "9.999000099990002e-05"
      ]
     },
     "execution_count": 15,
     "metadata": {},
     "output_type": "execute_result"
    }
   ],
   "source": [
    "permutation_test(matrix1.flatten(), matrix2.flatten(), method='approximate', num_rounds=10000, seed=0, paired=True)"
   ]
  },
  {
   "attachments": {},
   "cell_type": "markdown",
   "metadata": {},
   "source": [
    "## Stability analysis"
   ]
  },
  {
   "cell_type": "code",
   "execution_count": 16,
   "metadata": {},
   "outputs": [],
   "source": [
    "input_path = Path(f'mcnulty-results/best-chains/mcnulty-LF0-seed53/inference/posteriors')\n",
    "nodes_lf0 = []\n",
    "for param in ['growth', 'self_interaction', 'perturbation']:\n",
    "    table = pd.read_table(input_path / f'{param}.tsv', index_col=0)\n",
    "    table = table.add_prefix(f'{param}_')\n",
    "    nodes_lf0.append(table)\n",
    "nodes_lf0 = pd.concat(nodes_lf0, axis=1)\n",
    "\n",
    "input_path = Path(f'mcnulty-results/best-chains/mcnulty-HF0-seed3/inference/posteriors')\n",
    "nodes_hf0 = []\n",
    "for param in ['growth', 'self_interaction', 'perturbation']:\n",
    "    table = pd.read_table(input_path / f'{param}.tsv', index_col=0)\n",
    "    table = table.add_prefix(f'{param}_')\n",
    "    nodes_hf0.append(table)\n",
    "nodes_hf0 = pd.concat(nodes_hf0, axis=1)"
   ]
  },
  {
   "cell_type": "code",
   "execution_count": 17,
   "metadata": {},
   "outputs": [],
   "source": [
    "masked_lf0_ = masked_lf0.copy()\n",
    "for i in range(len(nodes_lf0['self_interaction_median'])):\n",
    "    masked_lf0_.iloc[i, i] = - nodes_lf0['self_interaction_median'].iloc[i]\n",
    "    \n",
    "masked_hf0_ = masked_hf0.copy()\n",
    "for i in range(len(nodes_hf0['self_interaction_median'])):\n",
    "    masked_hf0_.iloc[i, i] = - nodes_hf0['self_interaction_median'].iloc[i]"
   ]
  },
  {
   "cell_type": "code",
   "execution_count": 18,
   "metadata": {},
   "outputs": [
    {
     "data": {
      "text/plain": [
       "array([-1.31666914e-06+0.00000000e+00j, -3.25676273e-07+0.00000000e+00j,\n",
       "       -8.07646838e-08+0.00000000e+00j, -4.85399722e-08+0.00000000e+00j,\n",
       "       -3.22260272e-08+0.00000000e+00j, -1.57292199e-08+5.23092742e-09j,\n",
       "       -1.57292199e-08-5.23092742e-09j, -1.17151353e-08+0.00000000e+00j,\n",
       "       -4.82426711e-09+3.63316172e-10j, -4.82426711e-09-3.63316172e-10j,\n",
       "       -1.54609143e-09+0.00000000e+00j])"
      ]
     },
     "execution_count": 18,
     "metadata": {},
     "output_type": "execute_result"
    }
   ],
   "source": [
    "# np.sort(np.linalg.eig(np.nan_to_num(masked_.values))[0])\n",
    "np.linalg.eig(np.nan_to_num(masked_lf0_.values))[0]"
   ]
  },
  {
   "cell_type": "code",
   "execution_count": 19,
   "metadata": {},
   "outputs": [
    {
     "data": {
      "text/plain": [
       "array([-7.45603889e-09+0.00000000e+00j, -4.11767624e-09+0.00000000e+00j,\n",
       "       -1.80347893e-07+0.00000000e+00j, -1.54575245e-08+1.01888175e-08j,\n",
       "       -1.54575245e-08-1.01888175e-08j, -3.10214868e-08+0.00000000e+00j,\n",
       "       -5.79470242e-08+0.00000000e+00j, -2.63124064e-09+0.00000000e+00j,\n",
       "       -1.13449861e-08+0.00000000e+00j, -1.81114482e-08+0.00000000e+00j,\n",
       "       -8.31757789e-07+0.00000000e+00j])"
      ]
     },
     "execution_count": 19,
     "metadata": {},
     "output_type": "execute_result"
    }
   ],
   "source": [
    "# np.sort(np.linalg.eig(np.nan_to_num(masked_.values))[0])\n",
    "np.linalg.eig(np.nan_to_num(masked_hf0_.values))[0]"
   ]
  },
  {
   "cell_type": "code",
   "execution_count": 20,
   "metadata": {},
   "outputs": [
    {
     "data": {
      "image/png": "[encoded data removed]",
      "text/plain": [
       "<Figure size 640x480 with 1 Axes>"
      ]
     },
     "metadata": {},
     "output_type": "display_data"
    }
   ],
   "source": [
    "plt.scatter(np.real(np.linalg.eig(np.nan_to_num(masked_lf0_.values))[0]), \n",
    "    np.imag(np.linalg.eig(np.nan_to_num(masked_lf0_.values))[0]), \n",
    "    color=cm.Paired(9), \n",
    "    alpha=1, \n",
    "    marker='*',\n",
    "    s=85,\n",
    "    label='LF0')\n",
    "plt.scatter(np.real(np.linalg.eig(np.nan_to_num(masked_hf0_.values))[0]), \n",
    "    np.imag(np.linalg.eig(np.nan_to_num(masked_hf0_.values))[0]), \n",
    "    color=cm.Paired(7), \n",
    "    alpha=1, \n",
    "    marker='*', \n",
    "    s=85,\n",
    "    label='HF0')\n",
    "plt.axhline(y=0, color='k', linewidth=0.7)\n",
    "plt.xscale('symlog', linthresh=1e-9)\n",
    "plt.yscale('symlog', linthresh=1e-10)\n",
    "plt.xlim(-2e-6, -8e-10)\n",
    "plt.ylim(-2e-8, 2e-8)\n",
    "plt.xlabel('Real part', fontsize=14)\n",
    "plt.ylabel('Imaginary part', fontsize=14, rotation=270, labelpad=20)\n",
    "plt.xticks(fontsize=12)\n",
    "plt.gca().yaxis.tick_right()\n",
    "plt.gca().yaxis.set_label_position(\"right\")\n",
    "plt.legend(loc=2, fontsize=12)\n",
    "plt.title('Eigenvalues of the Jacobian matrix', fontsize=15)\n",
    "plt.savefig('mcnulty-results/stability.svg', bbox_inches='tight')\n",
    "plt.show()"
   ]
  }
 ],
 "metadata": {
  "kernelspec": {
   "display_name": "matrix-analysis",
   "language": "python",
   "name": "python3"
  },
  "language_info": {
   "codemirror_mode": {
    "name": "ipython",
    "version": 3
   },
   "file_extension": ".py",
   "mimetype": "text/x-python",
   "name": "python",
   "nbconvert_exporter": "python",
   "pygments_lexer": "ipython3",
   "version": "3.10.12"
  },
  "orig_nbformat": 4,
  "vscode": {
   "interpreter": {
    "hash": "ecfd9f404a1b1fa608b8aca284508632db504aef05723c7f61a893faf02cd0fa"
   }
  }
 },
 "nbformat": 4,
 "nbformat_minor": 2
}
