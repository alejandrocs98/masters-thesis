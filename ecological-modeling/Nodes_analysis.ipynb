{
 "cells": [
  {
   "cell_type": "code",
   "execution_count": 1,
   "metadata": {},
   "outputs": [],
   "source": [
    "# Import packages\n",
    "import numpy as np\n",
    "import matplotlib.pyplot as plt; plt.rc('font', size=12)\n",
    "import pandas as pd\n",
    "from pathlib import Path\n",
    "import seaborn as sns\n",
    "import matplotlib.cm as cm\n",
    "from mlxtend.evaluate import permutation_test"
   ]
  },
  {
   "cell_type": "code",
   "execution_count": 2,
   "metadata": {},
   "outputs": [],
   "source": [
    "pretty_names_dir = {'B_caccae': '$B. caccae$',\n",
    "                'B_cellulosilyticus_WH2': '$B. cellulosilyticus$ WH2',\n",
    "                'B_ovatus': '$B. ovatus$',\n",
    "                'B_thetaiotaomicron': '$B. thetaiotaomicron$',\n",
    "                'B_uniformis': '$B. uniformis$',\n",
    "                'B_vulgatus': '$B. vulgatus$',\n",
    "                'C_aerofaciens': '$C. aerofaciens$',\n",
    "                'C_scindens': '$C. scindens$',\n",
    "                'C_spiroforme': '$C. spiroforme$',\n",
    "                # 'D_longicatena': '$D. longicatena$',\n",
    "                'P_distasonis': '$P. distasonis$',\n",
    "                'R_obeum': '$R. obeum$'\n",
    "                }\n",
    "\n",
    "order = ['B_cellulosilyticus_WH2', \n",
    "        'B_caccae', \n",
    "        'B_vulgatus', \n",
    "        'B_thetaiotaomicron', \n",
    "        'B_ovatus', \n",
    "        'R_obeum', \n",
    "        'B_uniformis', \n",
    "        'P_distasonis', \n",
    "        'C_scindens', \n",
    "        'C_aerofaciens', \n",
    "        'C_spiroforme', \n",
    "        # 'D_longicatena'\n",
    "        ]\n",
    "\n",
    "abbr_names_dir = {'B_caccae': 'Bca',\n",
    "                'B_cellulosilyticus_WH2': 'Bce',\n",
    "                'B_ovatus': 'Bov',\n",
    "                'B_thetaiotaomicron': 'Bth',\n",
    "                'B_uniformis': 'Bun',\n",
    "                'B_vulgatus': 'Bvu',\n",
    "                'C_aerofaciens': 'Cae',\n",
    "                'C_scindens': 'Csc',\n",
    "                'C_spiroforme': 'Csp',\n",
    "                # 'D_longicatena': 'Dlo',\n",
    "                'P_distasonis': 'Pdi',\n",
    "                'R_obeum': 'Rob'\n",
    "                }\n",
    "\n",
    "pretty_abbrv_dir = {pretty_names_dir[organism]:abbr_names_dir[organism] for organism in order}\n",
    "\n",
    "order_pretty = [pretty_names_dir[organism] for organism in order]"
   ]
  },
  {
   "cell_type": "code",
   "execution_count": 3,
   "metadata": {},
   "outputs": [],
   "source": [
    "def evidence(x):\n",
    "    if x < np.sqrt(10):\n",
    "        return 'Weak'\n",
    "    elif x < 10:\n",
    "        return 'Moderate'\n",
    "    elif x < 100:\n",
    "        return 'Strong'\n",
    "    else:\n",
    "        return 'Very strong'"
   ]
  },
  {
   "cell_type": "code",
   "execution_count": 4,
   "metadata": {},
   "outputs": [
    {
     "data": {
      "text/html": [
       "<div>\n",
       "<style scoped>\n",
       "    .dataframe tbody tr th:only-of-type {\n",
       "        vertical-align: middle;\n",
       "    }\n",
       "\n",
       "    .dataframe tbody tr th {\n",
       "        vertical-align: top;\n",
       "    }\n",
       "\n",
       "    .dataframe thead th {\n",
       "        text-align: right;\n",
       "    }\n",
       "</style>\n",
       "<table border=\"1\" class=\"dataframe\">\n",
       "  <thead>\n",
       "    <tr style=\"text-align: right;\">\n",
       "      <th></th>\n",
       "      <th>Growth_mean</th>\n",
       "      <th>Perturbation_median</th>\n",
       "      <th>Perturbation_evidence</th>\n",
       "      <th>Self_interaction_mean</th>\n",
       "      <th>Self_interaction_mag_log</th>\n",
       "    </tr>\n",
       "    <tr>\n",
       "      <th>name</th>\n",
       "      <th></th>\n",
       "      <th></th>\n",
       "      <th></th>\n",
       "      <th></th>\n",
       "      <th></th>\n",
       "    </tr>\n",
       "  </thead>\n",
       "  <tbody>\n",
       "    <tr>\n",
       "      <th>$B. caccae$</th>\n",
       "      <td>0.569479</td>\n",
       "      <td>0.000000</td>\n",
       "      <td>Weak</td>\n",
       "      <td>5.246690e-09</td>\n",
       "      <td>-8.280115</td>\n",
       "    </tr>\n",
       "    <tr>\n",
       "      <th>$B. cellulosilyticus$ WH2</th>\n",
       "      <td>0.853725</td>\n",
       "      <td>-0.756402</td>\n",
       "      <td>Very strong</td>\n",
       "      <td>1.308792e-09</td>\n",
       "      <td>-8.883129</td>\n",
       "    </tr>\n",
       "    <tr>\n",
       "      <th>$B. ovatus$</th>\n",
       "      <td>1.118344</td>\n",
       "      <td>-1.009152</td>\n",
       "      <td>Very strong</td>\n",
       "      <td>2.174034e-08</td>\n",
       "      <td>-7.662734</td>\n",
       "    </tr>\n",
       "    <tr>\n",
       "      <th>$B. thetaiotaomicron$</th>\n",
       "      <td>0.743042</td>\n",
       "      <td>0.000000</td>\n",
       "      <td>Weak</td>\n",
       "      <td>1.543510e-08</td>\n",
       "      <td>-7.811491</td>\n",
       "    </tr>\n",
       "    <tr>\n",
       "      <th>$B. uniformis$</th>\n",
       "      <td>0.448401</td>\n",
       "      <td>0.000000</td>\n",
       "      <td>Weak</td>\n",
       "      <td>1.850696e-08</td>\n",
       "      <td>-7.732665</td>\n",
       "    </tr>\n",
       "    <tr>\n",
       "      <th>$B. vulgatus$</th>\n",
       "      <td>0.357769</td>\n",
       "      <td>0.000000</td>\n",
       "      <td>Weak</td>\n",
       "      <td>4.814881e-09</td>\n",
       "      <td>-8.317414</td>\n",
       "    </tr>\n",
       "    <tr>\n",
       "      <th>$C. aerofaciens$</th>\n",
       "      <td>0.934979</td>\n",
       "      <td>-0.377038</td>\n",
       "      <td>Weak</td>\n",
       "      <td>3.267303e-07</td>\n",
       "      <td>-6.485811</td>\n",
       "    </tr>\n",
       "    <tr>\n",
       "      <th>$C. scindens$</th>\n",
       "      <td>0.657119</td>\n",
       "      <td>0.000000</td>\n",
       "      <td>Weak</td>\n",
       "      <td>8.764350e-08</td>\n",
       "      <td>-7.057280</td>\n",
       "    </tr>\n",
       "    <tr>\n",
       "      <th>$C. spiroforme$</th>\n",
       "      <td>0.728949</td>\n",
       "      <td>0.000000</td>\n",
       "      <td>Weak</td>\n",
       "      <td>8.752038e-07</td>\n",
       "      <td>-6.057891</td>\n",
       "    </tr>\n",
       "    <tr>\n",
       "      <th>$P. distasonis$</th>\n",
       "      <td>0.697342</td>\n",
       "      <td>-0.342754</td>\n",
       "      <td>Weak</td>\n",
       "      <td>3.906055e-08</td>\n",
       "      <td>-7.408262</td>\n",
       "    </tr>\n",
       "    <tr>\n",
       "      <th>$R. obeum$</th>\n",
       "      <td>1.113181</td>\n",
       "      <td>-0.778006</td>\n",
       "      <td>Very strong</td>\n",
       "      <td>5.354892e-08</td>\n",
       "      <td>-7.271249</td>\n",
       "    </tr>\n",
       "  </tbody>\n",
       "</table>\n",
       "</div>"
      ],
      "text/plain": [
       "                           Growth_mean  Perturbation_median   \n",
       "name                                                          \n",
       "$B. caccae$                   0.569479             0.000000  \\\n",
       "$B. cellulosilyticus$ WH2     0.853725            -0.756402   \n",
       "$B. ovatus$                   1.118344            -1.009152   \n",
       "$B. thetaiotaomicron$         0.743042             0.000000   \n",
       "$B. uniformis$                0.448401             0.000000   \n",
       "$B. vulgatus$                 0.357769             0.000000   \n",
       "$C. aerofaciens$              0.934979            -0.377038   \n",
       "$C. scindens$                 0.657119             0.000000   \n",
       "$C. spiroforme$               0.728949             0.000000   \n",
       "$P. distasonis$               0.697342            -0.342754   \n",
       "$R. obeum$                    1.113181            -0.778006   \n",
       "\n",
       "                          Perturbation_evidence  Self_interaction_mean   \n",
       "name                                                                     \n",
       "$B. caccae$                                Weak           5.246690e-09  \\\n",
       "$B. cellulosilyticus$ WH2           Very strong           1.308792e-09   \n",
       "$B. ovatus$                         Very strong           2.174034e-08   \n",
       "$B. thetaiotaomicron$                      Weak           1.543510e-08   \n",
       "$B. uniformis$                             Weak           1.850696e-08   \n",
       "$B. vulgatus$                              Weak           4.814881e-09   \n",
       "$C. aerofaciens$                           Weak           3.267303e-07   \n",
       "$C. scindens$                              Weak           8.764350e-08   \n",
       "$C. spiroforme$                            Weak           8.752038e-07   \n",
       "$P. distasonis$                            Weak           3.906055e-08   \n",
       "$R. obeum$                          Very strong           5.354892e-08   \n",
       "\n",
       "                           Self_interaction_mag_log  \n",
       "name                                                 \n",
       "$B. caccae$                               -8.280115  \n",
       "$B. cellulosilyticus$ WH2                 -8.883129  \n",
       "$B. ovatus$                               -7.662734  \n",
       "$B. thetaiotaomicron$                     -7.811491  \n",
       "$B. uniformis$                            -7.732665  \n",
       "$B. vulgatus$                             -8.317414  \n",
       "$C. aerofaciens$                          -6.485811  \n",
       "$C. scindens$                             -7.057280  \n",
       "$C. spiroforme$                           -6.057891  \n",
       "$P. distasonis$                           -7.408262  \n",
       "$R. obeum$                                -7.271249  "
      ]
     },
     "execution_count": 4,
     "metadata": {},
     "output_type": "execute_result"
    }
   ],
   "source": [
    "nodes_lf0 = pd.read_table('mcnulty-results/mcnulty-LF0-seed96/posteriors/nodes.tsv', index_col=0)\n",
    "nodes_lf0['Perturbation_evidence'] = nodes_lf0['Perturbation_bayes_factor'].apply(evidence)\n",
    "nodes_lf0['Perturbation_evidence'] = pd.Categorical(nodes_lf0['Perturbation_evidence'], categories=['Weak', 'Moderate', 'Strong', 'Very strong'], ordered=True)\n",
    "nodes_lf0['Self_interaction_mag_log'] = np.log10(nodes_lf0['Self_interaction_mean'])\n",
    "nodes_lf0 = nodes_lf0.loc[:, ['Growth_mean', 'Perturbation_median', 'Perturbation_evidence', 'Self_interaction_mean', 'Self_interaction_mag_log']].copy()\n",
    "nodes_lf0.index = nodes_lf0.index.map(pretty_names_dir)\n",
    "nodes_lf0"
   ]
  },
  {
   "cell_type": "code",
   "execution_count": 5,
   "metadata": {},
   "outputs": [
    {
     "data": {
      "text/html": [
       "<div>\n",
       "<style scoped>\n",
       "    .dataframe tbody tr th:only-of-type {\n",
       "        vertical-align: middle;\n",
       "    }\n",
       "\n",
       "    .dataframe tbody tr th {\n",
       "        vertical-align: top;\n",
       "    }\n",
       "\n",
       "    .dataframe thead th {\n",
       "        text-align: right;\n",
       "    }\n",
       "</style>\n",
       "<table border=\"1\" class=\"dataframe\">\n",
       "  <thead>\n",
       "    <tr style=\"text-align: right;\">\n",
       "      <th></th>\n",
       "      <th>Growth_mean</th>\n",
       "      <th>Perturbation_median</th>\n",
       "      <th>Perturbation_evidence</th>\n",
       "      <th>Self_interaction_mean</th>\n",
       "      <th>Self_interaction_mag_log</th>\n",
       "    </tr>\n",
       "    <tr>\n",
       "      <th>name</th>\n",
       "      <th></th>\n",
       "      <th></th>\n",
       "      <th></th>\n",
       "      <th></th>\n",
       "      <th></th>\n",
       "    </tr>\n",
       "  </thead>\n",
       "  <tbody>\n",
       "    <tr>\n",
       "      <th>$B. caccae$</th>\n",
       "      <td>0.747416</td>\n",
       "      <td>-0.372826</td>\n",
       "      <td>Moderate</td>\n",
       "      <td>1.110496e-08</td>\n",
       "      <td>-7.954483</td>\n",
       "    </tr>\n",
       "    <tr>\n",
       "      <th>$B. cellulosilyticus$ WH2</th>\n",
       "      <td>0.192382</td>\n",
       "      <td>1.635256</td>\n",
       "      <td>Strong</td>\n",
       "      <td>3.195156e-09</td>\n",
       "      <td>-8.495508</td>\n",
       "    </tr>\n",
       "    <tr>\n",
       "      <th>$B. ovatus$</th>\n",
       "      <td>0.084154</td>\n",
       "      <td>14.891756</td>\n",
       "      <td>Very strong</td>\n",
       "      <td>1.095874e-08</td>\n",
       "      <td>-7.960239</td>\n",
       "    </tr>\n",
       "    <tr>\n",
       "      <th>$B. thetaiotaomicron$</th>\n",
       "      <td>0.380147</td>\n",
       "      <td>0.000000</td>\n",
       "      <td>Weak</td>\n",
       "      <td>8.582218e-09</td>\n",
       "      <td>-8.066400</td>\n",
       "    </tr>\n",
       "    <tr>\n",
       "      <th>$B. uniformis$</th>\n",
       "      <td>0.213863</td>\n",
       "      <td>1.349696</td>\n",
       "      <td>Moderate</td>\n",
       "      <td>1.863072e-08</td>\n",
       "      <td>-7.729770</td>\n",
       "    </tr>\n",
       "    <tr>\n",
       "      <th>$B. vulgatus$</th>\n",
       "      <td>0.346366</td>\n",
       "      <td>0.000000</td>\n",
       "      <td>Weak</td>\n",
       "      <td>4.146426e-09</td>\n",
       "      <td>-8.382326</td>\n",
       "    </tr>\n",
       "    <tr>\n",
       "      <th>$C. aerofaciens$</th>\n",
       "      <td>0.259240</td>\n",
       "      <td>0.000000</td>\n",
       "      <td>Weak</td>\n",
       "      <td>2.369496e-07</td>\n",
       "      <td>-6.625344</td>\n",
       "    </tr>\n",
       "    <tr>\n",
       "      <th>$C. scindens$</th>\n",
       "      <td>0.483459</td>\n",
       "      <td>0.000000</td>\n",
       "      <td>Weak</td>\n",
       "      <td>7.149968e-08</td>\n",
       "      <td>-7.145696</td>\n",
       "    </tr>\n",
       "    <tr>\n",
       "      <th>$C. spiroforme$</th>\n",
       "      <td>0.607797</td>\n",
       "      <td>-0.575015</td>\n",
       "      <td>Weak</td>\n",
       "      <td>1.082157e-06</td>\n",
       "      <td>-5.965710</td>\n",
       "    </tr>\n",
       "    <tr>\n",
       "      <th>$P. distasonis$</th>\n",
       "      <td>0.239592</td>\n",
       "      <td>0.803068</td>\n",
       "      <td>Weak</td>\n",
       "      <td>2.084584e-08</td>\n",
       "      <td>-7.680981</td>\n",
       "    </tr>\n",
       "    <tr>\n",
       "      <th>$R. obeum$</th>\n",
       "      <td>0.283748</td>\n",
       "      <td>1.082959</td>\n",
       "      <td>Moderate</td>\n",
       "      <td>3.076604e-08</td>\n",
       "      <td>-7.511928</td>\n",
       "    </tr>\n",
       "  </tbody>\n",
       "</table>\n",
       "</div>"
      ],
      "text/plain": [
       "                           Growth_mean  Perturbation_median   \n",
       "name                                                          \n",
       "$B. caccae$                   0.747416            -0.372826  \\\n",
       "$B. cellulosilyticus$ WH2     0.192382             1.635256   \n",
       "$B. ovatus$                   0.084154            14.891756   \n",
       "$B. thetaiotaomicron$         0.380147             0.000000   \n",
       "$B. uniformis$                0.213863             1.349696   \n",
       "$B. vulgatus$                 0.346366             0.000000   \n",
       "$C. aerofaciens$              0.259240             0.000000   \n",
       "$C. scindens$                 0.483459             0.000000   \n",
       "$C. spiroforme$               0.607797            -0.575015   \n",
       "$P. distasonis$               0.239592             0.803068   \n",
       "$R. obeum$                    0.283748             1.082959   \n",
       "\n",
       "                          Perturbation_evidence  Self_interaction_mean   \n",
       "name                                                                     \n",
       "$B. caccae$                            Moderate           1.110496e-08  \\\n",
       "$B. cellulosilyticus$ WH2                Strong           3.195156e-09   \n",
       "$B. ovatus$                         Very strong           1.095874e-08   \n",
       "$B. thetaiotaomicron$                      Weak           8.582218e-09   \n",
       "$B. uniformis$                         Moderate           1.863072e-08   \n",
       "$B. vulgatus$                              Weak           4.146426e-09   \n",
       "$C. aerofaciens$                           Weak           2.369496e-07   \n",
       "$C. scindens$                              Weak           7.149968e-08   \n",
       "$C. spiroforme$                            Weak           1.082157e-06   \n",
       "$P. distasonis$                            Weak           2.084584e-08   \n",
       "$R. obeum$                             Moderate           3.076604e-08   \n",
       "\n",
       "                           Self_interaction_mag_log  \n",
       "name                                                 \n",
       "$B. caccae$                               -7.954483  \n",
       "$B. cellulosilyticus$ WH2                 -8.495508  \n",
       "$B. ovatus$                               -7.960239  \n",
       "$B. thetaiotaomicron$                     -8.066400  \n",
       "$B. uniformis$                            -7.729770  \n",
       "$B. vulgatus$                             -8.382326  \n",
       "$C. aerofaciens$                          -6.625344  \n",
       "$C. scindens$                             -7.145696  \n",
       "$C. spiroforme$                           -5.965710  \n",
       "$P. distasonis$                           -7.680981  \n",
       "$R. obeum$                                -7.511928  "
      ]
     },
     "execution_count": 5,
     "metadata": {},
     "output_type": "execute_result"
    }
   ],
   "source": [
    "nodes_hf0 = pd.read_table('mcnulty-results/mcnulty-HF0-seed12/posteriors/nodes.tsv', index_col=0)\n",
    "nodes_hf0['Perturbation_evidence'] = nodes_hf0['Perturbation_bayes_factor'].apply(evidence)\n",
    "nodes_hf0['Perturbation_evidence'] = pd.Categorical(nodes_hf0['Perturbation_evidence'], categories=['Weak', 'Moderate', 'Strong', 'Very strong'], ordered=True)\n",
    "nodes_hf0['Self_interaction_mag_log'] = np.log10(nodes_hf0['Self_interaction_mean'])\n",
    "nodes_hf0 = nodes_hf0.loc[:, ['Growth_mean', 'Perturbation_median', 'Perturbation_evidence', 'Self_interaction_mean', 'Self_interaction_mag_log']].copy()\n",
    "nodes_hf0['Perturbation_median'] = -nodes_hf0['Perturbation_median']\n",
    "nodes_hf0.index = nodes_hf0.index.map(pretty_names_dir)\n",
    "nodes_hf0"
   ]
  },
  {
   "cell_type": "code",
   "execution_count": 9,
   "metadata": {},
   "outputs": [
    {
     "data": {
      "text/plain": [
       "81.53416856749506"
      ]
     },
     "execution_count": 9,
     "metadata": {},
     "output_type": "execute_result"
    }
   ],
   "source": [
    "np.mean(np.abs((nodes_lf0['Growth_mean'][nodes_lf0.index != '$B. caccae$'] - nodes_hf0['Growth_mean'][nodes_lf0.index != '$B. caccae$'])/((nodes_lf0['Growth_mean'][nodes_lf0.index != '$B. caccae$'] + nodes_hf0['Growth_mean'][nodes_lf0.index != '$B. caccae$'])/2))*100)"
   ]
  },
  {
   "cell_type": "code",
   "execution_count": 10,
   "metadata": {},
   "outputs": [
    {
     "data": {
      "text/plain": [
       "51.000184721193726"
      ]
     },
     "execution_count": 10,
     "metadata": {},
     "output_type": "execute_result"
    }
   ],
   "source": [
    "np.std(np.abs((nodes_lf0['Growth_mean'][nodes_lf0.index != '$B. caccae$'] - nodes_hf0['Growth_mean'][nodes_lf0.index != '$B. caccae$'])/((nodes_lf0['Growth_mean'][nodes_lf0.index != '$B. caccae$'] + nodes_hf0['Growth_mean'][nodes_lf0.index != '$B. caccae$'])/2))*100)"
   ]
  },
  {
   "cell_type": "code",
   "execution_count": 11,
   "metadata": {},
   "outputs": [
    {
     "data": {
      "text/plain": [
       "name\n",
       "$B. caccae$    27.023711\n",
       "Name: Growth_mean, dtype: float64"
      ]
     },
     "execution_count": 11,
     "metadata": {},
     "output_type": "execute_result"
    }
   ],
   "source": [
    "np.abs((nodes_lf0['Growth_mean'][nodes_lf0.index == '$B. caccae$'] - nodes_hf0['Growth_mean'][nodes_lf0.index == '$B. caccae$'])/((nodes_lf0['Growth_mean'][nodes_lf0.index == '$B. caccae$'] + nodes_hf0['Growth_mean'][nodes_lf0.index == '$B. caccae$'])/2))*100"
   ]
  },
  {
   "cell_type": "code",
   "execution_count": 6,
   "metadata": {},
   "outputs": [
    {
     "data": {
      "image/png": "[encoded data removed]",
      "text/plain": [
       "<Figure size 1000x1000 with 1 Axes>"
      ]
     },
     "metadata": {},
     "output_type": "display_data"
    }
   ],
   "source": [
    "growth_lf0 = nodes_lf0.loc[:, ['Growth_mean']].copy()\n",
    "growth_lf0.columns  = ['LF0 growth rate']\n",
    "growth_lf0 = growth_lf0.loc[order_pretty[::-1], :]\n",
    "pert_lf0 = nodes_lf0.loc[:, ['Perturbation_median']].copy()\n",
    "pert_lf0.columns  = ['LF0 perturbation effect']\n",
    "pert_lf0['LF0 perturbation effect'] = [0 if nodes_lf0['Perturbation_evidence'][i] == 'Weak' else pert_lf0['LF0 perturbation effect'][i] for i in pert_lf0.index]\n",
    "pert_lf0 = pert_lf0.loc[order_pretty[::-1], :]\n",
    "\n",
    "growth_hf0 = nodes_hf0.loc[:, ['Growth_mean']].copy()\n",
    "growth_hf0.columns  = ['HF0 growth rate']\n",
    "growth_hf0 = growth_hf0.loc[order_pretty[::-1], :]\n",
    "pert_hf0 = nodes_hf0.loc[:, ['Perturbation_median']].copy()\n",
    "pert_hf0.columns  = ['HF0 perturbation effect']\n",
    "pert_hf0['HF0 perturbation effect'] = [0 if nodes_hf0['Perturbation_evidence'][i] == 'Weak' else pert_hf0['HF0 perturbation effect'][i] for i in pert_hf0.index]\n",
    "pert_hf0 = pert_hf0.loc[order_pretty[::-1], :]\n",
    "\n",
    "growth = pd.concat([growth_hf0, growth_lf0], axis=1)\n",
    "pert = pd.concat([pert_hf0, pert_lf0], axis=1)\n",
    "fig, ax = plt.subplots(1, 1, figsize=(10, 6))\n",
    "pert.plot.barh(rot=0, \n",
    "    width=0.9, \n",
    "    figsize=(10, 10), \n",
    "    color=[cm.Paired(6), cm.Paired(8)],\n",
    "    edgecolor='k', \n",
    "    linewidth=0.8, \n",
    "    xlim=(-1.8, 1.8),\n",
    "    legend=False,\n",
    "    hatch='',\n",
    "    alpha=0.9,\n",
    "    ax=ax)\n",
    "growth.plot.barh(rot=0, \n",
    "    width=0.9, \n",
    "    figsize=(10, 10), \n",
    "    color=[cm.Paired(7), cm.Paired(9)],\n",
    "    edgecolor='k', \n",
    "    linewidth=0.8, \n",
    "    legend=False,\n",
    "    hatch='',\n",
    "    alpha=0.9,\n",
    "    ax=ax)\n",
    "ax.set_xlabel('Parameter value', fontsize=14)\n",
    "ax.set_ylabel('Species', fontsize=14)\n",
    "handles, labels = plt.gca().get_legend_handles_labels()\n",
    "handles = handles[::-1]\n",
    "labels = labels[::-1]\n",
    "ax.legend(handles, labels, loc='lower center', bbox_to_anchor=(0.5, -0.15), ncol=2)\n",
    "plt.savefig('mcnulty-results/parameter_values.svg', bbox_inches='tight')\n",
    "plt.show()"
   ]
  },
  {
   "cell_type": "code",
   "execution_count": 7,
   "metadata": {},
   "outputs": [
    {
     "data": {
      "image/png": "[encoded data removed]",
      "text/plain": [
       "<Figure size 1000x1000 with 1 Axes>"
      ]
     },
     "metadata": {},
     "output_type": "display_data"
    }
   ],
   "source": [
    "self_int_lf0 = nodes_lf0.loc[:, ['Self_interaction_mean']].copy()\n",
    "self_int_lf0.columns  = ['LF0 self interaction']\n",
    "self_int_lf0 = self_int_lf0.loc[order_pretty[::-1], :]\n",
    "\n",
    "self_int_hf0 = nodes_hf0.loc[:, ['Self_interaction_mean']].copy()\n",
    "self_int_hf0.columns  = ['HF0 self interaction']\n",
    "self_int_hf0 = self_int_hf0.loc[order_pretty[::-1], :]\n",
    "\n",
    "self_int = pd.concat([self_int_hf0, self_int_lf0], axis=1)\n",
    "fig, ax = plt.subplots(1, 1, figsize=(8, 4))\n",
    "self_int.plot.barh(rot=0, \n",
    "    width=0.9, \n",
    "    figsize=(10, 10), \n",
    "    color=[cm.Paired(7), cm.Paired(9)],\n",
    "    edgecolor='k', \n",
    "    linewidth=0.8, \n",
    "    # legend=False,\n",
    "    hatch='',\n",
    "    alpha=0.9,\n",
    "    logx=True,\n",
    "    ax=ax)\n",
    "ax.set_xlabel('$\\log_{10}$ Self-interaction', fontsize=14)\n",
    "ax.set_ylabel('Species', fontsize=14)\n",
    "handles, labels = plt.gca().get_legend_handles_labels()\n",
    "handles = handles[::-1]\n",
    "labels = labels[::-1]\n",
    "ax.legend(handles, labels, loc=0)\n",
    "plt.savefig('mcnulty-results/self_interactions.svg', bbox_inches='tight')\n",
    "plt.show()"
   ]
  },
  {
   "cell_type": "code",
   "execution_count": 8,
   "metadata": {},
   "outputs": [
    {
     "name": "stdout",
     "output_type": "stream",
     "text": [
      "P value: 0.486\n"
     ]
    }
   ],
   "source": [
    "self_int_lf0 = nodes_lf0['Self_interaction_mag_log'].values\n",
    "self_int_hf0 = nodes_hf0['Self_interaction_mag_log'].values\n",
    "p_value_self_int = permutation_test(self_int_lf0, self_int_hf0, method='approximate', num_rounds=10000, seed=0, paired=True)\n",
    "print('P value: %.3f' % p_value_self_int)"
   ]
  },
  {
   "cell_type": "code",
   "execution_count": 9,
   "metadata": {},
   "outputs": [
    {
     "name": "stdout",
     "output_type": "stream",
     "text": [
      "P value: 0.006\n"
     ]
    }
   ],
   "source": [
    "growth_lf0 = nodes_lf0['Growth_mean'].values\n",
    "growth_hf0 = nodes_hf0['Growth_mean'].values\n",
    "p_value_growth = permutation_test(growth_lf0, growth_hf0, method='approximate', num_rounds=10000, seed=0, paired=True)\n",
    "print('P value: %.3f' % p_value_growth)"
   ]
  },
  {
   "cell_type": "code",
   "execution_count": 10,
   "metadata": {},
   "outputs": [],
   "source": [
    "pert_lf0 = nodes_lf0['Perturbation_median'].values\n",
    "pert_lf0 = np.array([0 if nodes_lf0['Perturbation_evidence'][i] == 'Weak' else pert_lf0[i] for i in range(len(pert_lf0))])\n",
    "pert_hf0 = nodes_hf0['Perturbation_median'].values\n",
    "pert_hf0 = np.array([0 if nodes_hf0['Perturbation_evidence'][i] == 'Weak' else pert_hf0[i] for i in range(len(pert_hf0))])"
   ]
  },
  {
   "cell_type": "code",
   "execution_count": 13,
   "metadata": {},
   "outputs": [
    {
     "name": "stdout",
     "output_type": "stream",
     "text": [
      "P value: 0.128\n"
     ]
    }
   ],
   "source": [
    "p_value_pert = permutation_test(pert_lf0, pert_hf0, method='approximate', num_rounds=10000, seed=0, paired=True)\n",
    "print('P value: %.3f' % p_value_pert)"
   ]
  },
  {
   "cell_type": "code",
   "execution_count": 12,
   "metadata": {},
   "outputs": [
    {
     "name": "stdout",
     "output_type": "stream",
     "text": [
      "P value: 0.067\n",
      "P value: 0.019\n"
     ]
    }
   ],
   "source": [
    "pert_lf0 = nodes_lf0['Perturbation_median'].values\n",
    "pert_lf0 = np.array([0 if nodes_lf0['Perturbation_evidence'][i] == 'Weak' else pert_lf0[i] for i in range(len(pert_lf0))])\n",
    "pert_hf0 = nodes_hf0['Perturbation_median'].values\n",
    "pert_hf0 = np.array([0 if nodes_hf0['Perturbation_evidence'][i] == 'Weak' else pert_hf0[i] for i in range(len(pert_hf0))])\n",
    "\n",
    "growth_pert_lf0 = (1 + pert_lf0) * growth_lf0\n",
    "growth_pert_hf0 = (1 + pert_hf0) * growth_hf0\n",
    "\n",
    "p_value_growth_pert_hf = permutation_test(growth_pert_lf0, growth_hf0, method='approximate', num_rounds=10000, seed=0, paired=True)\n",
    "p_value_growth_pert_lf = permutation_test(growth_lf0, growth_pert_hf0, method='approximate', num_rounds=10000, seed=0, paired=True)\n",
    "print('P value: %.3f' % p_value_growth_pert_hf)\n",
    "print('P value: %.3f' % p_value_growth_pert_lf)"
   ]
  }
 ],
 "metadata": {
  "kernelspec": {
   "display_name": "matrix-analysis",
   "language": "python",
   "name": "python3"
  },
  "language_info": {
   "codemirror_mode": {
    "name": "ipython",
    "version": 3
   },
   "file_extension": ".py",
   "mimetype": "text/x-python",
   "name": "python",
   "nbconvert_exporter": "python",
   "pygments_lexer": "ipython3",
   "version": "3.11.2"
  },
  "orig_nbformat": 4,
  "vscode": {
   "interpreter": {
    "hash": "ecfd9f404a1b1fa608b8aca284508632db504aef05723c7f61a893faf02cd0fa"
   }
  }
 },
 "nbformat": 4,
 "nbformat_minor": 2
}
