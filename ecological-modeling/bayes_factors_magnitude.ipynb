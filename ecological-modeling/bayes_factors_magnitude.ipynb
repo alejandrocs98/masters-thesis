{
 "cells": [
  {
   "cell_type": "code",
   "execution_count": 2,
   "metadata": {},
   "outputs": [],
   "source": [
    "import matplotlib.pyplot as plt\n",
    "import numpy as np\n",
    "import pandas as pd\n",
    "from pathlib import Path\n",
    "import matplotlib.cm as cm"
   ]
  },
  {
   "cell_type": "code",
   "execution_count": 11,
   "metadata": {},
   "outputs": [],
   "source": [
    "taxa = ['B_caccae',\n",
    "        'B_cellulosilyticus_WH2',\n",
    "        'B_ovatus',\n",
    "        'B_thetaiotaomicron',\n",
    "        'B_uniformis',\n",
    "        'B_vulgatus',\n",
    "        'C_aerofaciens',\n",
    "        'C_scindens',\n",
    "        'C_spiroforme',\n",
    "        'D_longicatena',\n",
    "        'P_distasonis',\n",
    "        'R_obeum']\n",
    "\n",
    "input_path = Path('/hpcfs/home/ciencias_biologicas/a.castellanoss/masters-thesis/data/08-mdsine2-inference')\n",
    "output_path = Path('/hpcfs/home/ciencias_biologicas/a.castellanoss/masters-thesis/data/09-mdsine2-rhats_and_rsme')\n",
    "seeds = [0, 1, 2, 3, 4, 5, 6, 12, 23, 24, 26, 28, 31, 46, 51, 69, 77, 78, 89, 96, 127]"
   ]
  },
  {
   "cell_type": "code",
   "execution_count": null,
   "metadata": {},
   "outputs": [],
   "source": [
    "def bayes_factors_scores(simtype, dataset, seeds=seeds):\n",
    "    if dataset == 'LF0':\n",
    "        perturbation = 'HF/HS'\n",
    "    elif dataset == 'HF0':\n",
    "        perturbation = 'LF/HPP'\n",
    "    inter_bayes_fact_scores = []\n",
    "    pertur_bayes_fact_scores = []\n",
    "    for seed in seeds:\n",
    "        inter_bayes_fact = pd.read_table(f'{input_path}/{simtype}/mcunlty-{dataset}-seed{seed}/interactions/bayes_factors.tsv', sep='\\t', index_col=0)\n",
    "        inter_bayes_fact = inter_bayes_fact.values\n",
    "        for i in range(len(taxa)):\n",
    "            for j in range(len(taxa)):\n",
    "                if (inter_bayes_fact[i,j] > 3) & (inter_bayes_fact[i,j] < 10):\n",
    "                    inter_bayes_fact[i,j] = 1**2\n",
    "                elif (inter_bayes_fact[i,j] > 10) & (inter_bayes_fact[i,j] < 100):\n",
    "                    inter_bayes_fact[i,j] = 2**2\n",
    "                elif (inter_bayes_fact[i,j] > 100):\n",
    "                    inter_bayes_fact[i,j] = 3**2\n",
    "                elif (inter_bayes_fact[i,j] < 1/3) & (inter_bayes_fact[i,j] > 0.1):\n",
    "                    inter_bayes_fact[i,j] = 1**2\n",
    "                elif (inter_bayes_fact[i,j] < 0.1) & (inter_bayes_fact[i,j] > 0.01):\n",
    "                    inter_bayes_fact[i,j] = 2**2\n",
    "                elif (inter_bayes_fact[i,j] < 0.01):\n",
    "                    inter_bayes_fact[i,j] = 3**2\n",
    "                else:\n",
    "                    inter_bayes_fact[i,j] = 0\n",
    "        inter_bayes_fact_scores.append(inter_bayes_fact.sum())\n",
    "        pertur_bayes_fact = pd.read_table(f'{input_path}/{simtype}/mcunlty-{dataset}-seed{seed}/{perturbation}/bayes_factors.tsv', sep='\\t', index_col=0)\n",
    "        pertur_bayes_fact = pertur_bayes_fact.values[0]\n",
    "        for i in range(len(taxa)):\n",
    "            if (pertur_bayes_fact[i] > 3) & (pertur_bayes_fact[i] < 10):\n",
    "                pertur_bayes_fact[i] = 1**2\n",
    "            elif (pertur_bayes_fact[i] > 10) & (pertur_bayes_fact[i] < 100):\n",
    "                pertur_bayes_fact[i] = 2**2\n",
    "            elif (pertur_bayes_fact[i] > 100):\n",
    "                pertur_bayes_fact[i] = 3**2\n",
    "            elif (pertur_bayes_fact[i] < 1/3) & (pertur_bayes_fact[i] > 0.1):\n",
    "                pertur_bayes_fact[i] = 1**2\n",
    "            elif (pertur_bayes_fact[i] < 0.1) & (pertur_bayes_fact[i] > 0.01):\n",
    "                pertur_bayes_fact[i] = 2**2\n",
    "            elif (pertur_bayes_fact[i] < 0.01):\n",
    "                pertur_bayes_fact[i] = 3**2\n",
    "            else:\n",
    "                pertur_bayes_fact[i] = 0\n",
    "        pertur_bayes_fact_scores.append(pertur_bayes_fact.sum())\n",
    "    table = pd.DataFrame({'seed':seeds, 'inter_bayes_fact_score': inter_bayes_fact_scores, 'pertur_bayes_fact_score': pertur_bayes_fact_scores})\n",
    "    table.to_csv(f'{output_path}/{simtype}/{dataset}/bayes_factors_scores.tsv', sep='\\t', index=False)"
   ]
  },
  {
   "cell_type": "code",
   "execution_count": 52,
   "metadata": {},
   "outputs": [
    {
     "data": {
      "text/plain": [
       "array([[         nan,   0.6727098 , 466.2062925 ,  11.13135612,\n",
       "          4.07700444,   1.63810163,  53.33947711,  11.7900235 ,\n",
       "         57.59171658,  14.91006735,   9.35087795,  76.71843407],\n",
       "       [  2.7227952 ,          nan, 495.4390507 ,  47.97991038,\n",
       "         28.08924949,   3.83902604, 177.19490286,  22.95652174,\n",
       "         56.74516554,  17.6       ,  28.37229477, 552.91593605],\n",
       "       [  6.81552402,  14.91006735,          nan,   4.38359878,\n",
       "         39.31753555,  10.71383975, 108.07117271,  23.77762638,\n",
       "         33.64645089,  16.88841601,  31.06822521,  46.34482759],\n",
       "       [  1.23777629,   2.52084297,  30.47852761,          nan,\n",
       "          4.66810838,   1.71608304,  59.44683241,  13.37162369,\n",
       "         30.08215363,  14.62796834,  22.32111709,  47.5197404 ],\n",
       "       [  2.52084297,   1.08241988,  18.83189001,   3.96362867,\n",
       "                 nan,   3.34177215,  45.22401171,  13.42020229,\n",
       "         21.76583078,  14.8977903 ,   9.58694244,  25.44723618],\n",
       "       [  1.77181208,  14.26086957,   9.31550341,   3.72585143,\n",
       "         15.67336129,          nan,  55.83846542,  10.29758864,\n",
       "         38.65106281,  14.97146883,   6.48025614,   5.06743672],\n",
       "       [ 31.85356743,   8.95050187,  15.36507937,  19.2111568 ,\n",
       "        107.50395778,  28.66940736,          nan,  34.7833632 ,\n",
       "         24.94564028,  18.76877761,  91.45582048,  39.76833829],\n",
       "       [  6.89657531,   2.19611797,  97.64383562,   6.3186996 ,\n",
       "         11.5621276 ,   3.65799257,  52.65750412,          nan,\n",
       "         30.00027841,  15.80922099,  17.31243618,  74.89602054],\n",
       "       [ 33.53463254,   5.09029134,  34.15067526,  56.33975428,\n",
       "         60.25793245,   6.24952015,  87.94134311,  41.46716806,\n",
       "                 nan,  15.73509934, 114.7661406 , 114.7887846 ],\n",
       "       [ 18.27746592,   3.75979377,  75.40432826,  10.53529182,\n",
       "        124.66396761,  12.64498101,  71.98472797,  34.96663993,\n",
       "         40.8058883 ,          nan,  51.60071727,  41.39355087],\n",
       "       [ 11.85005877,  97.80904523,  26.10989011,  13.83380838,\n",
       "          8.10650633,   2.80141486,  44.69671133,  19.71843095,\n",
       "         22.48941942,  15.58697379,          nan,  10.40450411],\n",
       "       [  3.39818527,   1.80526073,  58.54123396,  11.85005877,\n",
       "         10.63048849,   3.4546222 ,  63.93333678,  23.51644961,\n",
       "         27.84707508,  16.11848446,  30.7662247 ,          nan]])"
      ]
     },
     "execution_count": 52,
     "metadata": {},
     "output_type": "execute_result"
    }
   ],
   "source": [
    "interactions_bayes_factors = pd.read_table('mcnulty-results/LF0/posteriors/interactions/bayes_factors.tsv', index_col=0)\n",
    "interactions_bayes_factors = np.ma.array(interactions_bayes_factors.values, mask=False)\n",
    "for i in range(len(taxa)):\n",
    "    for j in range(len(taxa)):\n",
    "        if i == j:\n",
    "            interactions_bayes_factors.mask[i, j] = True\n",
    "interactions_bayes_factors = interactions_bayes_factors.filled(np.nan)\n",
    "interactions_bayes_factors"
   ]
  },
  {
   "cell_type": "code",
   "execution_count": 53,
   "metadata": {},
   "outputs": [
    {
     "data": {
      "text/plain": [
       "array([[0., 0., 9., 4., 1., 0., 4., 4., 4., 4., 1., 4.],\n",
       "       [0., 0., 9., 4., 4., 1., 9., 4., 4., 4., 4., 9.],\n",
       "       [1., 4., 0., 1., 4., 4., 9., 4., 4., 4., 4., 4.],\n",
       "       [0., 0., 4., 0., 1., 0., 4., 4., 4., 4., 4., 4.],\n",
       "       [0., 0., 4., 1., 0., 1., 4., 4., 4., 4., 1., 4.],\n",
       "       [0., 4., 1., 1., 4., 0., 4., 4., 4., 4., 1., 1.],\n",
       "       [4., 1., 4., 4., 9., 4., 0., 4., 4., 4., 4., 4.],\n",
       "       [1., 0., 4., 1., 4., 1., 4., 0., 4., 4., 4., 4.],\n",
       "       [4., 1., 4., 4., 4., 1., 4., 4., 0., 4., 9., 9.],\n",
       "       [4., 1., 4., 4., 9., 4., 4., 4., 4., 0., 4., 4.],\n",
       "       [4., 4., 4., 4., 1., 0., 4., 4., 4., 4., 0., 4.],\n",
       "       [1., 0., 4., 4., 4., 1., 4., 4., 4., 4., 4., 0.]])"
      ]
     },
     "execution_count": 53,
     "metadata": {},
     "output_type": "execute_result"
    }
   ],
   "source": [
    "for i in range(len(taxa)):\n",
    "    for j in range(len(taxa)):\n",
    "        if (interactions_bayes_factors[i,j] > 3) & (interactions_bayes_factors[i,j] < 10):\n",
    "            interactions_bayes_factors[i,j] = 1**2\n",
    "        elif (interactions_bayes_factors[i,j] > 10) & (interactions_bayes_factors[i,j] < 100):\n",
    "            interactions_bayes_factors[i,j] = 2**2\n",
    "        elif (interactions_bayes_factors[i,j] > 100):\n",
    "            interactions_bayes_factors[i,j] = 3**2\n",
    "        elif (interactions_bayes_factors[i,j] < 1/3) & (interactions_bayes_factors[i,j] > 0.1):\n",
    "            interactions_bayes_factors[i,j] = 1**2\n",
    "        elif (interactions_bayes_factors[i,j] < 0.1) & (interactions_bayes_factors[i,j] > 0.01):\n",
    "            interactions_bayes_factors[i,j] = 2**2\n",
    "        elif (interactions_bayes_factors[i,j] < 0.01):\n",
    "            interactions_bayes_factors[i,j] = 3**2\n",
    "        else:\n",
    "            interactions_bayes_factors[i,j] = 0\n",
    "interactions_bayes_factors"
   ]
  },
  {
   "cell_type": "code",
   "execution_count": 54,
   "metadata": {},
   "outputs": [
    {
     "data": {
      "text/plain": [
       "456.0"
      ]
     },
     "execution_count": 54,
     "metadata": {},
     "output_type": "execute_result"
    }
   ],
   "source": [
    "interactions_bayes_factors.sum()"
   ]
  },
  {
   "cell_type": "code",
   "execution_count": 62,
   "metadata": {},
   "outputs": [
    {
     "data": {
      "text/plain": [
       "array([5.67101092e-02, 5.99900000e+03,            inf, 2.03429775e-01,\n",
       "       5.66635847e-02, 1.10596946e-01, 2.91900718e+00, 1.28296742e-01,\n",
       "       1.79492256e+00, 6.92644051e-01, 1.91403594e+00,            inf])"
      ]
     },
     "execution_count": 62,
     "metadata": {},
     "output_type": "execute_result"
    }
   ],
   "source": [
    "perturbations_bayes_factors = pd.read_table('mcnulty-results/LF0/posteriors/HF/HS/bayes_factors.tsv', index_col=0)\n",
    "perturbations_bayes_factors = perturbations_bayes_factors.values[0]\n",
    "perturbations_bayes_factors"
   ]
  },
  {
   "cell_type": "code",
   "execution_count": 64,
   "metadata": {},
   "outputs": [
    {
     "data": {
      "text/plain": [
       "array([1., 9., 9., 1., 4., 1., 0., 1., 0., 0., 0., 9.])"
      ]
     },
     "execution_count": 64,
     "metadata": {},
     "output_type": "execute_result"
    }
   ],
   "source": [
    "for i in range(len(taxa)):\n",
    "    if (perturbations_bayes_factors[i] > 3) & (perturbations_bayes_factors[i] < 10):\n",
    "        perturbations_bayes_factors[i] = 1**2\n",
    "    elif (perturbations_bayes_factors[i] > 10) & (perturbations_bayes_factors[i] < 100):\n",
    "        perturbations_bayes_factors[i] = 2**2\n",
    "    elif (perturbations_bayes_factors[i] > 100):\n",
    "        perturbations_bayes_factors[i] = 3**2\n",
    "    elif (perturbations_bayes_factors[i] < 1/3) & (perturbations_bayes_factors[i] > 0.1):\n",
    "        perturbations_bayes_factors[i] = 1**2\n",
    "    elif (perturbations_bayes_factors[i] < 0.1) & (perturbations_bayes_factors[i] > 0.01):\n",
    "        perturbations_bayes_factors[i] = 2**2\n",
    "    elif (perturbations_bayes_factors[i] < 0.01):\n",
    "        perturbations_bayes_factors[i] = 3**2\n",
    "    else:\n",
    "        perturbations_bayes_factors[i] = 0\n",
    "perturbations_bayes_factors"
   ]
  },
  {
   "cell_type": "code",
   "execution_count": 65,
   "metadata": {},
   "outputs": [
    {
     "data": {
      "text/plain": [
       "35.0"
      ]
     },
     "execution_count": 65,
     "metadata": {},
     "output_type": "execute_result"
    }
   ],
   "source": [
    "perturbations_bayes_factors.sum()"
   ]
  }
 ],
 "metadata": {
  "kernelspec": {
   "display_name": "py-workspace",
   "language": "python",
   "name": "python3"
  },
  "language_info": {
   "codemirror_mode": {
    "name": "ipython",
    "version": 3
   },
   "file_extension": ".py",
   "mimetype": "text/x-python",
   "name": "python",
   "nbconvert_exporter": "python",
   "pygments_lexer": "ipython3",
   "version": "3.11.0"
  },
  "orig_nbformat": 4
 },
 "nbformat": 4,
 "nbformat_minor": 2
}
