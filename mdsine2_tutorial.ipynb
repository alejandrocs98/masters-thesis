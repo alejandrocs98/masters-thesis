{
 "cells": [
  {
   "cell_type": "code",
   "execution_count": 1,
   "metadata": {},
   "outputs": [
    {
     "name": "stdout",
     "output_type": "stream",
     "text": [
      "[DEBUG] Using default logger (stdout, stderr).\n"
     ]
    }
   ],
   "source": [
    "import numpy as np\n",
    "import pandas as pd\n",
    "import matplotlib.pyplot as plt\n",
    "import mdsine2 as md2\n",
    "# ACS98: installed scikit-learn into mdsine2 conda env"
   ]
  },
  {
   "cell_type": "markdown",
   "metadata": {},
   "source": [
    "# Gibson et al., 2021"
   ]
  },
  {
   "cell_type": "code",
   "execution_count": 2,
   "metadata": {},
   "outputs": [
    {
     "name": "stdout",
     "output_type": "stream",
     "text": [
      "[DEBUG] Downloading taxonomy\n",
      "[DEBUG] Downloading metadata\n",
      "[DEBUG] Downloading reads\n",
      "[DEBUG] Downloading qpcr\n",
      "[DEBUG] Downloading peturbations\n",
      "[INFO] TaxaSet parsng new taxonomy table. Resetting\n",
      "[INFO] No `name` found - assuming index is the name\n",
      "[DEBUG] Reseting perturbations\n"
     ]
    }
   ],
   "source": [
    "gibson = md2.dataset.load_gibson()\n",
    "gibson.name = 'gibson'"
   ]
  },
  {
   "cell_type": "code",
   "execution_count": 3,
   "metadata": {},
   "outputs": [],
   "source": [
    "params = md2.config.NegBinConfig(\n",
    "    seed=0, burnin=100, n_samples=200,\n",
    "    checkpoint=100, \n",
    "    basepath=\"negbin\")"
   ]
  },
  {
   "cell_type": "code",
   "execution_count": 4,
   "metadata": {},
   "outputs": [
    {
     "name": "stdout",
     "output_type": "stream",
     "text": [
      "[DEBUG] Available subjects: 1,10,2,3,4,5,6,7,8,9,Ulcerative Colitis,Healthy,M2-D10,M2-D8,M2-D9\n",
      "[DEBUG] Subject 1, available qpcr: 0.0,0.5,1.0,1.5,29.0,29.5,2.0,2.5,3.0,3.5,4.0,4.5,5.0,6.0,7.0\n",
      "[INFO] Attribute Error ('NoneType' object has no attribute 'mean') for absolute abundance. This is likely because you did not set the qPCR abundances. Skipping `abs`\n",
      "[DEBUG] Subject 10, available qpcr: 0.0,10.0,11.0,14.0,16.0,18.0,1.0,1.5,21.0,21.5,22.0,22.5,23.0,23.5,24.0,25.0,29.0,29.5,2.0,2.5,30.0,30.5,31.0,31.5,32.0,33.0,35.0,35.5,36.0,36.5,37.0,37.5,38.0,39.0,3.0,3.5,42.0,42.5,43.0,43.5,44.0,44.5,45.0,45.5,46.0,47.0,4.0,4.5,5.0,50.0,50.5,51.0,51.5,52.0,52.5,53.0,54.0,57.0,57.5,58.0,58.5,59.0,59.5,6.0,60.0,60.5,61.0,62.0,63.0,64.0,64.5,7.0,8.0,9.0\n",
      "[DEBUG] Subject 2, available qpcr: 0.0,0.5,10.0,11.0,14.0,16.0,18.0,1.0,1.5,21.0,21.5,22.0,22.5,23.0,23.5,24.0,25.0,28.0,28.5,29.0,29.5,2.0,2.5,30.0,30.5,31.0,31.5,32.0,33.0,35.0,35.5,36.0,36.5,37.0,37.5,38.0,39.0,3.0,3.5,42.0,42.5,43.0,43.5,44.0,44.5,45.0,45.5,46.0,47.0,4.0,4.5,5.0,50.0,50.5,51.0,51.5,52.0,52.5,53.0,54.0,57.0,57.5,58.0,58.5,59.0,59.5,6.0,60.0,60.5,61.0,62.0,63.0,64.0,64.5,7.0,8.0,9.0\n",
      "[DEBUG] Subject 3, available qpcr: 0.0,0.5,10.0,11.0,14.0,16.0,18.0,1.0,1.5,21.0,21.5,22.0,22.5,23.0,23.5,24.0,25.0,28.0,29.0,29.5,2.0,2.5,30.0,30.5,31.0,31.5,32.0,33.0,35.0,35.5,36.0,36.5,37.0,38.0,39.0,3.0,3.5,42.0,42.5,43.0,43.5,44.0,44.5,45.0,45.5,46.0,47.0,4.0,4.5,5.0,50.0,50.5,51.0,51.5,52.0,52.5,53.0,54.0,57.0,57.5,58.0,58.5,59.0,59.5,6.0,60.0,60.5,61.0,62.0,63.0,64.0,64.5,7.0,8.0,9.0\n",
      "[DEBUG] Subject 4, available qpcr: 0.0,0.5,10.0,11.0,14.0,16.0,18.0,1.0,1.5,21.0,21.5,22.0,22.5,23.0,23.5,24.0,25.0,28.0,29.0,29.5,2.0,2.5,30.0,30.5,31.0,31.5,32.0,33.0,35.0,35.5,36.0,36.5,37.0,37.5,38.0,39.0,3.0,3.5,42.0,42.5,43.0,43.5,44.0,44.5,45.0,45.5,46.0,47.0,4.0,4.5,5.0,50.0,50.5,51.0,51.5,52.0,52.5,53.0,54.0,57.0,57.5,58.0,58.5,59.0,59.5,6.0,60.0,60.5,61.0,62.0,63.0,64.0,64.5,7.0,8.0,9.0\n",
      "[DEBUG] Subject 5, available qpcr: 0.0,0.5,10.0,11.0,14.0,16.0,18.0,1.0,1.5,21.0,21.5,22.0,22.5,23.0,23.5,24.0,25.0,28.0,28.5,29.0,29.5,2.0,2.5,30.0,30.5,31.0,31.5,32.0,33.0,35.0,35.5,36.0,36.5,37.0,37.5,38.0,39.0,3.0,3.5,42.0,42.5,43.0,43.5,44.0,44.5,45.0,45.5,46.0,47.0,4.0,4.5,5.0,50.0,50.5,51.0,51.5,52.0,52.5,53.0,54.0,57.0,57.5,58.0,58.5,59.0,59.5,6.0,60.0,60.5,61.0,62.0,63.0,64.0,64.5,7.0,8.0,9.0\n",
      "[DEBUG] Subject 6, available qpcr: 0.0,0.5,10.0,11.0,14.0,16.0,18.0,1.0,1.5,21.0,21.5,22.0,22.5,23.0,23.5,24.0,25.0,28.0,28.5,29.0,29.5,2.0,2.5,30.0,30.5,31.0,31.5,32.0,33.0,35.0,35.5,36.0,36.5,37.0,37.5,38.0,39.0,3.0,3.5,42.0,42.5,43.0,43.5,44.0,44.5,45.0,45.5,46.0,47.0,4.0,4.5,5.0,50.0,50.5,51.0,51.5,52.0,52.5,53.0,54.0,57.0,57.5,58.0,58.5,59.0,59.5,6.0,60.0,60.5,61.0,62.0,63.0,64.0,64.5,7.0,8.0,9.0\n",
      "[DEBUG] Subject 7, available qpcr: 0.0,0.5,10.0,11.0,14.0,16.0,18.0,1.0,1.5,21.0,21.5,22.0,22.5,23.0,23.5,24.0,25.0,28.0,28.5,29.0,29.5,2.0,2.5,30.0,30.5,31.0,31.5,32.0,33.0,35.0,35.5,36.0,36.5,37.0,37.5,38.0,39.0,3.0,3.5,42.0,42.5,43.0,43.5,44.0,44.5,45.0,45.5,46.0,47.0,4.0,4.5,5.0,50.0,50.5,51.0,51.5,52.0,52.5,53.0,54.0,57.0,58.0,58.5,59.0,59.5,6.0,60.0,60.5,61.0,62.0,63.0,64.0,64.5,7.0,8.0,9.0\n",
      "[DEBUG] Subject 8, available qpcr: 0.0,0.5,10.0,11.0,14.0,16.0,18.0,1.0,1.5,21.0,21.5,22.0,22.5,23.0,23.5,24.0,25.0,28.0,28.5,29.0,29.5,2.0,2.5,30.0,30.5,31.0,31.5,32.0,33.0,35.0,35.5,36.0,36.5,37.0,37.5,38.0,39.0,3.0,3.5,42.0,42.5,43.0,43.5,44.0,44.5,45.0,45.5,46.0,47.0,4.0,4.5,5.0,50.0,50.5,51.0,51.5,52.0,52.5,53.0,54.0,57.0,57.5,58.0,58.5,59.0,59.5,6.0,60.0,60.5,61.0,62.0,63.0,64.0,64.5,7.0,8.0,9.0\n",
      "[DEBUG] Subject 9, available qpcr: 0.0,0.5,10.0,11.0,14.0,16.0,18.0,1.0,1.5,21.0,21.5,22.0,22.5,23.0,23.5,24.0,25.0,28.0,28.5,29.0,29.5,2.0,2.5,30.0,30.5,31.0,31.5,32.0,33.0,35.0,35.5,36.0,36.5,37.0,37.5,38.0,39.0,3.0,3.5,42.0,42.5,43.0,43.5,44.0,44.5,45.0,45.5,46.0,47.0,4.0,4.5,5.0,50.0,50.5,51.0,51.5,52.0,52.5,53.0,54.0,57.0,57.5,58.0,58.5,59.0,59.5,6.0,60.0,60.5,61.0,62.0,63.0,64.0,64.5,7.0,8.0,9.0\n",
      "[DEBUG] Subject Ulcerative Colitis, available qpcr: 0.0\n",
      "[DEBUG] Subject Healthy, available qpcr: 0.0\n",
      "[DEBUG] Subject M2-D10, available qpcr: 0.0,1.0,2.0,3.0,4.0,5.0\n",
      "[DEBUG] Subject M2-D8, available qpcr: 0.0,1.0,2.0,3.0,4.0,5.0\n",
      "[DEBUG] Subject M2-D9, available qpcr: 0.0,1.0,2.0,3.0,4.0,5.0\n"
     ]
    },
    {
     "name": "stderr",
     "output_type": "stream",
     "text": [
      "[CRITICAL] Failed in Filtering\n"
     ]
    },
    {
     "ename": "AttributeError",
     "evalue": "'NoneType' object has no attribute 'mean'",
     "output_type": "error",
     "traceback": [
      "\u001b[0;31m---------------------------------------------------------------------------\u001b[0m",
      "\u001b[0;31mAttributeError\u001b[0m                            Traceback (most recent call last)",
      "\u001b[0;32m/tmp/ipykernel_35026/3787144352.py\u001b[0m in \u001b[0;36m<module>\u001b[0;34m\u001b[0m\n\u001b[1;32m      2\u001b[0m     \u001b[0mparams\u001b[0m\u001b[0;34m=\u001b[0m\u001b[0mparams\u001b[0m\u001b[0;34m,\u001b[0m\u001b[0;34m\u001b[0m\u001b[0;34m\u001b[0m\u001b[0m\n\u001b[1;32m      3\u001b[0m     \u001b[0mgraph_name\u001b[0m\u001b[0;34m=\u001b[0m\u001b[0mgibson\u001b[0m\u001b[0;34m.\u001b[0m\u001b[0mname\u001b[0m\u001b[0;34m,\u001b[0m\u001b[0;34m\u001b[0m\u001b[0;34m\u001b[0m\u001b[0m\n\u001b[0;32m----> 4\u001b[0;31m     subjset=gibson)\n\u001b[0m",
      "\u001b[0;32m~/anaconda3/envs/mdsine2/lib/python3.7/site-packages/mdsine2/negbin.py\u001b[0m in \u001b[0;36mbuild_graph\u001b[0;34m(params, graph_name, subjset)\u001b[0m\n\u001b[1;32m   1015\u001b[0m     \u001b[0;32mfor\u001b[0m \u001b[0mname\u001b[0m \u001b[0;32min\u001b[0m \u001b[0mparams\u001b[0m\u001b[0;34m.\u001b[0m\u001b[0mINITIALIZATION_ORDER\u001b[0m\u001b[0;34m:\u001b[0m\u001b[0;34m\u001b[0m\u001b[0;34m\u001b[0m\u001b[0m\n\u001b[1;32m   1016\u001b[0m         \u001b[0;32mtry\u001b[0m\u001b[0;34m:\u001b[0m\u001b[0;34m\u001b[0m\u001b[0;34m\u001b[0m\u001b[0m\n\u001b[0;32m-> 1017\u001b[0;31m             \u001b[0mGRAPH\u001b[0m\u001b[0;34m[\u001b[0m\u001b[0mname\u001b[0m\u001b[0;34m]\u001b[0m\u001b[0;34m.\u001b[0m\u001b[0minitialize\u001b[0m\u001b[0;34m(\u001b[0m\u001b[0;34m**\u001b[0m\u001b[0mparams\u001b[0m\u001b[0;34m.\u001b[0m\u001b[0mINITIALIZATION_KWARGS\u001b[0m\u001b[0;34m[\u001b[0m\u001b[0mname\u001b[0m\u001b[0;34m]\u001b[0m\u001b[0;34m)\u001b[0m\u001b[0;34m\u001b[0m\u001b[0;34m\u001b[0m\u001b[0m\n\u001b[0m\u001b[1;32m   1018\u001b[0m         \u001b[0;32mexcept\u001b[0m\u001b[0;34m:\u001b[0m\u001b[0;34m\u001b[0m\u001b[0;34m\u001b[0m\u001b[0m\n\u001b[1;32m   1019\u001b[0m             \u001b[0mlogger\u001b[0m\u001b[0;34m.\u001b[0m\u001b[0mcritical\u001b[0m\u001b[0;34m(\u001b[0m\u001b[0;34m'Failed in {}'\u001b[0m\u001b[0;34m.\u001b[0m\u001b[0mformat\u001b[0m\u001b[0;34m(\u001b[0m\u001b[0mname\u001b[0m\u001b[0;34m)\u001b[0m\u001b[0;34m)\u001b[0m\u001b[0;34m\u001b[0m\u001b[0;34m\u001b[0m\u001b[0m\n",
      "\u001b[0;32m~/anaconda3/envs/mdsine2/lib/python3.7/site-packages/mdsine2/negbin.py\u001b[0m in \u001b[0;36minitialize\u001b[0;34m(self, tune, end_tune, target_acceptance_rate, qpcr_variance_inflation, delay)\u001b[0m\n\u001b[1;32m    557\u001b[0m         \u001b[0;31m# Initialize the trajectory sets\u001b[0m\u001b[0;34m\u001b[0m\u001b[0;34m\u001b[0m\u001b[0;34m\u001b[0m\u001b[0m\n\u001b[1;32m    558\u001b[0m         \u001b[0;32mfor\u001b[0m \u001b[0mridx\u001b[0m \u001b[0;32min\u001b[0m \u001b[0mrange\u001b[0m\u001b[0;34m(\u001b[0m\u001b[0mself\u001b[0m\u001b[0;34m.\u001b[0m\u001b[0mG\u001b[0m\u001b[0;34m.\u001b[0m\u001b[0mdata\u001b[0m\u001b[0;34m.\u001b[0m\u001b[0mn_replicates\u001b[0m\u001b[0;34m)\u001b[0m\u001b[0;34m:\u001b[0m\u001b[0;34m\u001b[0m\u001b[0;34m\u001b[0m\u001b[0m\n\u001b[0;32m--> 559\u001b[0;31m             \u001b[0mself\u001b[0m\u001b[0;34m.\u001b[0m\u001b[0mvalue\u001b[0m\u001b[0;34m[\u001b[0m\u001b[0mridx\u001b[0m\u001b[0;34m]\u001b[0m\u001b[0;34m.\u001b[0m\u001b[0minitialize\u001b[0m\u001b[0;34m(\u001b[0m\u001b[0;34m)\u001b[0m\u001b[0;34m\u001b[0m\u001b[0;34m\u001b[0m\u001b[0m\n\u001b[0m\u001b[1;32m    560\u001b[0m \u001b[0;34m\u001b[0m\u001b[0m\n\u001b[1;32m    561\u001b[0m         \u001b[0;32mif\u001b[0m \u001b[0mself\u001b[0m\u001b[0;34m.\u001b[0m\u001b[0mmp\u001b[0m \u001b[0;34m==\u001b[0m \u001b[0;34m'full'\u001b[0m\u001b[0;34m:\u001b[0m\u001b[0;34m\u001b[0m\u001b[0;34m\u001b[0m\u001b[0m\n",
      "\u001b[0;32m~/anaconda3/envs/mdsine2/lib/python3.7/site-packages/mdsine2/negbin.py\u001b[0m in \u001b[0;36minitialize\u001b[0;34m(self)\u001b[0m\n\u001b[1;32m    431\u001b[0m         \u001b[0mrel\u001b[0m \u001b[0;34m=\u001b[0m \u001b[0mnp\u001b[0m\u001b[0;34m.\u001b[0m\u001b[0msum\u001b[0m\u001b[0;34m(\u001b[0m\u001b[0mself\u001b[0m\u001b[0;34m.\u001b[0m\u001b[0mdata\u001b[0m\u001b[0;34m,\u001b[0m \u001b[0maxis\u001b[0m\u001b[0;34m=\u001b[0m\u001b[0;36m1\u001b[0m\u001b[0;34m)\u001b[0m\u001b[0;34m\u001b[0m\u001b[0;34m\u001b[0m\u001b[0m\n\u001b[1;32m    432\u001b[0m         \u001b[0mrel\u001b[0m \u001b[0;34m=\u001b[0m \u001b[0mrel\u001b[0m \u001b[0;34m/\u001b[0m \u001b[0mnp\u001b[0m\u001b[0;34m.\u001b[0m\u001b[0msum\u001b[0m\u001b[0;34m(\u001b[0m\u001b[0mrel\u001b[0m\u001b[0;34m)\u001b[0m\u001b[0;34m\u001b[0m\u001b[0;34m\u001b[0m\u001b[0m\n\u001b[0;32m--> 433\u001b[0;31m         \u001b[0mvalue\u001b[0m \u001b[0;34m=\u001b[0m \u001b[0mrel\u001b[0m \u001b[0;34m*\u001b[0m \u001b[0mself\u001b[0m\u001b[0;34m.\u001b[0m\u001b[0mqpcr_measurement\u001b[0m\u001b[0;34m.\u001b[0m\u001b[0mmean\u001b[0m\u001b[0;34m(\u001b[0m\u001b[0;34m)\u001b[0m\u001b[0;34m\u001b[0m\u001b[0;34m\u001b[0m\u001b[0m\n\u001b[0m\u001b[1;32m    434\u001b[0m \u001b[0;34m\u001b[0m\u001b[0m\n\u001b[1;32m    435\u001b[0m         \u001b[0mself\u001b[0m\u001b[0;34m.\u001b[0m\u001b[0mvalue\u001b[0m \u001b[0;34m=\u001b[0m \u001b[0mnp\u001b[0m\u001b[0;34m.\u001b[0m\u001b[0mzeros\u001b[0m\u001b[0;34m(\u001b[0m\u001b[0mlen\u001b[0m\u001b[0;34m(\u001b[0m\u001b[0mvalue\u001b[0m\u001b[0;34m)\u001b[0m\u001b[0;34m)\u001b[0m\u001b[0;34m\u001b[0m\u001b[0;34m\u001b[0m\u001b[0m\n",
      "\u001b[0;31mAttributeError\u001b[0m: 'NoneType' object has no attribute 'mean'"
     ]
    }
   ],
   "source": [
    "mcmc_negbin = md2.negbin.build_graph(\n",
    "    params=params, \n",
    "    graph_name=gibson.name, \n",
    "    subjset=gibson)"
   ]
  },
  {
   "cell_type": "markdown",
   "metadata": {},
   "source": [
    "# McNulty et al., 2013"
   ]
  },
  {
   "cell_type": "code",
   "execution_count": 10,
   "metadata": {},
   "outputs": [
    {
     "name": "stdout",
     "output_type": "stream",
     "text": [
      "[INFO] TaxaSet parsng new taxonomy table. Resetting\n",
      "[DEBUG] Reseting perturbations\n"
     ]
    }
   ],
   "source": [
    "mcnulty = md2.dataset.parse(name='mcnulty', \\\n",
    "                            metadata='mcnulty-datasets/metadata.tsv', \\\n",
    "                            taxonomy='mcnulty-datasets/taxonomy.tsv', \\\n",
    "                            reads='mcnulty-datasets/counts.tsv', \\\n",
    "                            qpcr='mcnulty-datasets/DNA_yields.tsv', \\\n",
    "                            perturbations='mcnulty-datasets/perturbations.tsv')"
   ]
  },
  {
   "cell_type": "code",
   "execution_count": 11,
   "metadata": {},
   "outputs": [],
   "source": [
    "params = md2.config.NegBinConfig(\n",
    "    seed=0, burnin=100, n_samples=200,\n",
    "    checkpoint=100, \n",
    "    basepath=\"negbin\")"
   ]
  },
  {
   "cell_type": "code",
   "execution_count": 12,
   "metadata": {},
   "outputs": [
    {
     "data": {
      "text/plain": [
       "<mdsine2.base.qpcr.qPCRdata at 0x7f3de3691c50>"
      ]
     },
     "execution_count": 12,
     "metadata": {},
     "output_type": "execute_result"
    }
   ],
   "source": [
    "mcnulty[0].qpcr[1]"
   ]
  },
  {
   "cell_type": "code",
   "execution_count": 13,
   "metadata": {},
   "outputs": [
    {
     "name": "stdout",
     "output_type": "stream",
     "text": [
      "[DEBUG] Available subjects: 1,2,3,4,5,6,7,8,9,10,11,12,13,14,15\n",
      "[DEBUG] Subject 1, available qpcr: 1.0,2.0,3.0,5.0,7.0,10.0,12.0,13.0,15.0,16.0,17.0,19.0,21.0,25.0,26.0,27.0,29.0,30.0,31.0,33.0,35.0,38.0,40.0,41.0,42.0\n"
     ]
    },
    {
     "ename": "KeyError",
     "evalue": "0",
     "output_type": "error",
     "traceback": [
      "\u001b[0;31m---------------------------------------------------------------------------\u001b[0m",
      "\u001b[0;31mKeyError\u001b[0m                                  Traceback (most recent call last)",
      "\u001b[0;32m/tmp/ipykernel_35026/3628062348.py\u001b[0m in \u001b[0;36m<module>\u001b[0;34m\u001b[0m\n\u001b[1;32m      2\u001b[0m     \u001b[0mparams\u001b[0m\u001b[0;34m=\u001b[0m\u001b[0mparams\u001b[0m\u001b[0;34m,\u001b[0m\u001b[0;34m\u001b[0m\u001b[0;34m\u001b[0m\u001b[0m\n\u001b[1;32m      3\u001b[0m     \u001b[0mgraph_name\u001b[0m\u001b[0;34m=\u001b[0m\u001b[0mmcnulty\u001b[0m\u001b[0;34m.\u001b[0m\u001b[0mname\u001b[0m\u001b[0;34m,\u001b[0m\u001b[0;34m\u001b[0m\u001b[0;34m\u001b[0m\u001b[0m\n\u001b[0;32m----> 4\u001b[0;31m     subjset=mcnulty)\n\u001b[0m",
      "\u001b[0;32m~/anaconda3/envs/mdsine2/lib/python3.7/site-packages/mdsine2/negbin.py\u001b[0m in \u001b[0;36mbuild_graph\u001b[0;34m(params, graph_name, subjset)\u001b[0m\n\u001b[1;32m    995\u001b[0m     \u001b[0;31m# Initialize the inference objects\u001b[0m\u001b[0;34m\u001b[0m\u001b[0;34m\u001b[0m\u001b[0;34m\u001b[0m\u001b[0m\n\u001b[1;32m    996\u001b[0m     \u001b[0;31m# --------------------------------\u001b[0m\u001b[0;34m\u001b[0m\u001b[0;34m\u001b[0m\u001b[0;34m\u001b[0m\u001b[0m\n\u001b[0;32m--> 997\u001b[0;31m     \u001b[0md\u001b[0m \u001b[0;34m=\u001b[0m \u001b[0mData\u001b[0m\u001b[0;34m(\u001b[0m\u001b[0msubjset\u001b[0m\u001b[0;34m,\u001b[0m \u001b[0mG\u001b[0m\u001b[0;34m=\u001b[0m\u001b[0mGRAPH\u001b[0m\u001b[0;34m)\u001b[0m\u001b[0;34m\u001b[0m\u001b[0;34m\u001b[0m\u001b[0m\n\u001b[0m\u001b[1;32m    998\u001b[0m \u001b[0;34m\u001b[0m\u001b[0m\n\u001b[1;32m    999\u001b[0m     \u001b[0mx\u001b[0m \u001b[0;34m=\u001b[0m \u001b[0mFilteringMP\u001b[0m\u001b[0;34m(\u001b[0m\u001b[0mmp\u001b[0m\u001b[0;34m=\u001b[0m\u001b[0mparams\u001b[0m\u001b[0;34m.\u001b[0m\u001b[0mMP_FILTERING\u001b[0m\u001b[0;34m,\u001b[0m \u001b[0mG\u001b[0m\u001b[0;34m=\u001b[0m\u001b[0mGRAPH\u001b[0m\u001b[0;34m,\u001b[0m \u001b[0mname\u001b[0m\u001b[0;34m=\u001b[0m\u001b[0mSTRNAMES\u001b[0m\u001b[0;34m.\u001b[0m\u001b[0mFILTERING\u001b[0m\u001b[0;34m)\u001b[0m\u001b[0;34m\u001b[0m\u001b[0;34m\u001b[0m\u001b[0m\n",
      "\u001b[0;32m~/anaconda3/envs/mdsine2/lib/python3.7/site-packages/mdsine2/negbin.py\u001b[0m in \u001b[0;36m__init__\u001b[0;34m(self, subjects, **kwargs)\u001b[0m\n\u001b[1;32m     88\u001b[0m             \u001b[0mself\u001b[0m\u001b[0;34m.\u001b[0m\u001b[0mdata\u001b[0m\u001b[0;34m.\u001b[0m\u001b[0mappend\u001b[0m\u001b[0;34m(\u001b[0m\u001b[0md\u001b[0m\u001b[0;34m)\u001b[0m\u001b[0;34m\u001b[0m\u001b[0;34m\u001b[0m\u001b[0m\n\u001b[1;32m     89\u001b[0m             \u001b[0mself\u001b[0m\u001b[0;34m.\u001b[0m\u001b[0mread_depths\u001b[0m\u001b[0;34m.\u001b[0m\u001b[0mappend\u001b[0m\u001b[0;34m(\u001b[0m\u001b[0mnp\u001b[0m\u001b[0;34m.\u001b[0m\u001b[0msum\u001b[0m\u001b[0;34m(\u001b[0m\u001b[0md\u001b[0m\u001b[0;34m,\u001b[0m \u001b[0maxis\u001b[0m\u001b[0;34m=\u001b[0m\u001b[0;36m0\u001b[0m\u001b[0;34m)\u001b[0m\u001b[0;34m)\u001b[0m\u001b[0;34m\u001b[0m\u001b[0;34m\u001b[0m\u001b[0m\n\u001b[0;32m---> 90\u001b[0;31m             \u001b[0mself\u001b[0m\u001b[0;34m.\u001b[0m\u001b[0mqpcr\u001b[0m\u001b[0;34m.\u001b[0m\u001b[0mappend\u001b[0m\u001b[0;34m(\u001b[0m\u001b[0msubject\u001b[0m\u001b[0;34m.\u001b[0m\u001b[0mqpcr\u001b[0m\u001b[0;34m[\u001b[0m\u001b[0;36m0\u001b[0m\u001b[0;34m]\u001b[0m\u001b[0;34m)\u001b[0m\u001b[0;34m\u001b[0m\u001b[0;34m\u001b[0m\u001b[0m\n\u001b[0m\u001b[1;32m     91\u001b[0m \u001b[0;34m\u001b[0m\u001b[0m\n\u001b[1;32m     92\u001b[0m         \u001b[0mself\u001b[0m\u001b[0;34m.\u001b[0m\u001b[0mn_replicates\u001b[0m \u001b[0;34m=\u001b[0m \u001b[0mlen\u001b[0m\u001b[0;34m(\u001b[0m\u001b[0mself\u001b[0m\u001b[0;34m.\u001b[0m\u001b[0mdata\u001b[0m\u001b[0;34m)\u001b[0m\u001b[0;34m\u001b[0m\u001b[0;34m\u001b[0m\u001b[0m\n",
      "\u001b[0;31mKeyError\u001b[0m: 0"
     ]
    }
   ],
   "source": [
    "mcmc_negbin = md2.negbin.build_graph(\n",
    "    params=params, \n",
    "    graph_name=mcnulty.name, \n",
    "    subjset=mcnulty)"
   ]
  }
 ],
 "metadata": {
  "kernelspec": {
   "display_name": "Python 3.7.3 ('mdsine2')",
   "language": "python",
   "name": "python3"
  },
  "language_info": {
   "codemirror_mode": {
    "name": "ipython",
    "version": 3
   },
   "file_extension": ".py",
   "mimetype": "text/x-python",
   "name": "python",
   "nbconvert_exporter": "python",
   "pygments_lexer": "ipython3",
   "version": "3.7.3"
  },
  "orig_nbformat": 4,
  "vscode": {
   "interpreter": {
    "hash": "97a3e53701e3aefb9c00075e2535ec5855d69d29da44f6f3c07d225dbb88465b"
   }
  }
 },
 "nbformat": 4,
 "nbformat_minor": 2
}
