{
 "cells": [
  {
   "cell_type": "code",
   "execution_count": 1,
   "metadata": {},
   "outputs": [
    {
     "name": "stdout",
     "output_type": "stream",
     "text": [
      "[DEBUG] Using default logger (stdout, stderr).\n"
     ]
    }
   ],
   "source": [
    "import numpy as np\n",
    "import pandas as pd\n",
    "import matplotlib.pyplot as plt\n",
    "import mdsine2 as md2"
   ]
  },
  {
   "cell_type": "markdown",
   "metadata": {},
   "source": [
    "# Gibson et al., 2021"
   ]
  },
  {
   "cell_type": "code",
   "execution_count": 2,
   "metadata": {},
   "outputs": [
    {
     "name": "stdout",
     "output_type": "stream",
     "text": [
      "[DEBUG] Downloading taxonomy\n",
      "[DEBUG] Downloading metadata\n",
      "[DEBUG] Downloading reads\n",
      "[DEBUG] Downloading qpcr\n",
      "[DEBUG] Downloading peturbations\n",
      "[INFO] TaxaSet parsng new taxonomy table. Resetting\n",
      "[INFO] No `name` found - assuming index is the name\n",
      "[DEBUG] Reseting perturbations\n"
     ]
    }
   ],
   "source": [
    "gibson = md2.dataset.load_gibson()\n",
    "gibson.name = 'gibson'"
   ]
  },
  {
   "cell_type": "code",
   "execution_count": 3,
   "metadata": {},
   "outputs": [],
   "source": [
    "params = md2.config.NegBinConfig(\n",
    "    seed=0, burnin=100, n_samples=200,\n",
    "    checkpoint=100, \n",
    "    basepath=\"negbin\")"
   ]
  },
  {
   "cell_type": "code",
   "execution_count": 4,
   "metadata": {},
   "outputs": [
    {
     "name": "stdout",
     "output_type": "stream",
     "text": [
      "[DEBUG] Available subjects: 1,10,2,3,4,5,6,7,8,9,Ulcerative Colitis,Healthy,M2-D10,M2-D8,M2-D9\n",
      "[DEBUG] Subject 1, available qpcr: 0.0,0.5,1.0,1.5,29.0,29.5,2.0,2.5,3.0,3.5,4.0,4.5,5.0,6.0,7.0\n",
      "[INFO] Attribute Error ('NoneType' object has no attribute 'mean') for absolute abundance. This is likely because you did not set the qPCR abundances. Skipping `abs`\n",
      "[DEBUG] Subject 10, available qpcr: 0.0,10.0,11.0,14.0,16.0,18.0,1.0,1.5,21.0,21.5,22.0,22.5,23.0,23.5,24.0,25.0,29.0,29.5,2.0,2.5,30.0,30.5,31.0,31.5,32.0,33.0,35.0,35.5,36.0,36.5,37.0,37.5,38.0,39.0,3.0,3.5,42.0,42.5,43.0,43.5,44.0,44.5,45.0,45.5,46.0,47.0,4.0,4.5,5.0,50.0,50.5,51.0,51.5,52.0,52.5,53.0,54.0,57.0,57.5,58.0,58.5,59.0,59.5,6.0,60.0,60.5,61.0,62.0,63.0,64.0,64.5,7.0,8.0,9.0\n",
      "[DEBUG] Subject 2, available qpcr: 0.0,0.5,10.0,11.0,14.0,16.0,18.0,1.0,1.5,21.0,21.5,22.0,22.5,23.0,23.5,24.0,25.0,28.0,28.5,29.0,29.5,2.0,2.5,30.0,30.5,31.0,31.5,32.0,33.0,35.0,35.5,36.0,36.5,37.0,37.5,38.0,39.0,3.0,3.5,42.0,42.5,43.0,43.5,44.0,44.5,45.0,45.5,46.0,47.0,4.0,4.5,5.0,50.0,50.5,51.0,51.5,52.0,52.5,53.0,54.0,57.0,57.5,58.0,58.5,59.0,59.5,6.0,60.0,60.5,61.0,62.0,63.0,64.0,64.5,7.0,8.0,9.0\n",
      "[DEBUG] Subject 3, available qpcr: 0.0,0.5,10.0,11.0,14.0,16.0,18.0,1.0,1.5,21.0,21.5,22.0,22.5,23.0,23.5,24.0,25.0,28.0,29.0,29.5,2.0,2.5,30.0,30.5,31.0,31.5,32.0,33.0,35.0,35.5,36.0,36.5,37.0,38.0,39.0,3.0,3.5,42.0,42.5,43.0,43.5,44.0,44.5,45.0,45.5,46.0,47.0,4.0,4.5,5.0,50.0,50.5,51.0,51.5,52.0,52.5,53.0,54.0,57.0,57.5,58.0,58.5,59.0,59.5,6.0,60.0,60.5,61.0,62.0,63.0,64.0,64.5,7.0,8.0,9.0\n",
      "[DEBUG] Subject 4, available qpcr: 0.0,0.5,10.0,11.0,14.0,16.0,18.0,1.0,1.5,21.0,21.5,22.0,22.5,23.0,23.5,24.0,25.0,28.0,29.0,29.5,2.0,2.5,30.0,30.5,31.0,31.5,32.0,33.0,35.0,35.5,36.0,36.5,37.0,37.5,38.0,39.0,3.0,3.5,42.0,42.5,43.0,43.5,44.0,44.5,45.0,45.5,46.0,47.0,4.0,4.5,5.0,50.0,50.5,51.0,51.5,52.0,52.5,53.0,54.0,57.0,57.5,58.0,58.5,59.0,59.5,6.0,60.0,60.5,61.0,62.0,63.0,64.0,64.5,7.0,8.0,9.0\n",
      "[DEBUG] Subject 5, available qpcr: 0.0,0.5,10.0,11.0,14.0,16.0,18.0,1.0,1.5,21.0,21.5,22.0,22.5,23.0,23.5,24.0,25.0,28.0,28.5,29.0,29.5,2.0,2.5,30.0,30.5,31.0,31.5,32.0,33.0,35.0,35.5,36.0,36.5,37.0,37.5,38.0,39.0,3.0,3.5,42.0,42.5,43.0,43.5,44.0,44.5,45.0,45.5,46.0,47.0,4.0,4.5,5.0,50.0,50.5,51.0,51.5,52.0,52.5,53.0,54.0,57.0,57.5,58.0,58.5,59.0,59.5,6.0,60.0,60.5,61.0,62.0,63.0,64.0,64.5,7.0,8.0,9.0\n",
      "[DEBUG] Subject 6, available qpcr: 0.0,0.5,10.0,11.0,14.0,16.0,18.0,1.0,1.5,21.0,21.5,22.0,22.5,23.0,23.5,24.0,25.0,28.0,28.5,29.0,29.5,2.0,2.5,30.0,30.5,31.0,31.5,32.0,33.0,35.0,35.5,36.0,36.5,37.0,37.5,38.0,39.0,3.0,3.5,42.0,42.5,43.0,43.5,44.0,44.5,45.0,45.5,46.0,47.0,4.0,4.5,5.0,50.0,50.5,51.0,51.5,52.0,52.5,53.0,54.0,57.0,57.5,58.0,58.5,59.0,59.5,6.0,60.0,60.5,61.0,62.0,63.0,64.0,64.5,7.0,8.0,9.0\n",
      "[DEBUG] Subject 7, available qpcr: 0.0,0.5,10.0,11.0,14.0,16.0,18.0,1.0,1.5,21.0,21.5,22.0,22.5,23.0,23.5,24.0,25.0,28.0,28.5,29.0,29.5,2.0,2.5,30.0,30.5,31.0,31.5,32.0,33.0,35.0,35.5,36.0,36.5,37.0,37.5,38.0,39.0,3.0,3.5,42.0,42.5,43.0,43.5,44.0,44.5,45.0,45.5,46.0,47.0,4.0,4.5,5.0,50.0,50.5,51.0,51.5,52.0,52.5,53.0,54.0,57.0,58.0,58.5,59.0,59.5,6.0,60.0,60.5,61.0,62.0,63.0,64.0,64.5,7.0,8.0,9.0\n",
      "[DEBUG] Subject 8, available qpcr: 0.0,0.5,10.0,11.0,14.0,16.0,18.0,1.0,1.5,21.0,21.5,22.0,22.5,23.0,23.5,24.0,25.0,28.0,28.5,29.0,29.5,2.0,2.5,30.0,30.5,31.0,31.5,32.0,33.0,35.0,35.5,36.0,36.5,37.0,37.5,38.0,39.0,3.0,3.5,42.0,42.5,43.0,43.5,44.0,44.5,45.0,45.5,46.0,47.0,4.0,4.5,5.0,50.0,50.5,51.0,51.5,52.0,52.5,53.0,54.0,57.0,57.5,58.0,58.5,59.0,59.5,6.0,60.0,60.5,61.0,62.0,63.0,64.0,64.5,7.0,8.0,9.0\n",
      "[DEBUG] Subject 9, available qpcr: 0.0,0.5,10.0,11.0,14.0,16.0,18.0,1.0,1.5,21.0,21.5,22.0,22.5,23.0,23.5,24.0,25.0,28.0,28.5,29.0,29.5,2.0,2.5,30.0,30.5,31.0,31.5,32.0,33.0,35.0,35.5,36.0,36.5,37.0,37.5,38.0,39.0,3.0,3.5,42.0,42.5,43.0,43.5,44.0,44.5,45.0,45.5,46.0,47.0,4.0,4.5,5.0,50.0,50.5,51.0,51.5,52.0,52.5,53.0,54.0,57.0,57.5,58.0,58.5,59.0,59.5,6.0,60.0,60.5,61.0,62.0,63.0,64.0,64.5,7.0,8.0,9.0\n",
      "[DEBUG] Subject Ulcerative Colitis, available qpcr: 0.0\n",
      "[DEBUG] Subject Healthy, available qpcr: 0.0\n",
      "[DEBUG] Subject M2-D10, available qpcr: 0.0,1.0,2.0,3.0,4.0,5.0\n",
      "[DEBUG] Subject M2-D8, available qpcr: 0.0,1.0,2.0,3.0,4.0,5.0\n",
      "[DEBUG] Subject M2-D9, available qpcr: 0.0,1.0,2.0,3.0,4.0,5.0\n"
     ]
    },
    {
     "name": "stderr",
     "output_type": "stream",
     "text": [
      "[CRITICAL] Failed in Filtering\n"
     ]
    },
    {
     "ename": "AttributeError",
     "evalue": "'dict_values' object has no attribute 'mean'",
     "output_type": "error",
     "traceback": [
      "\u001b[0;31m---------------------------------------------------------------------------\u001b[0m",
      "\u001b[0;31mAttributeError\u001b[0m                            Traceback (most recent call last)",
      "\u001b[0;32m/tmp/ipykernel_263697/3787144352.py\u001b[0m in \u001b[0;36m<module>\u001b[0;34m\u001b[0m\n\u001b[1;32m      2\u001b[0m     \u001b[0mparams\u001b[0m\u001b[0;34m=\u001b[0m\u001b[0mparams\u001b[0m\u001b[0;34m,\u001b[0m\u001b[0;34m\u001b[0m\u001b[0;34m\u001b[0m\u001b[0m\n\u001b[1;32m      3\u001b[0m     \u001b[0mgraph_name\u001b[0m\u001b[0;34m=\u001b[0m\u001b[0mgibson\u001b[0m\u001b[0;34m.\u001b[0m\u001b[0mname\u001b[0m\u001b[0;34m,\u001b[0m\u001b[0;34m\u001b[0m\u001b[0;34m\u001b[0m\u001b[0m\n\u001b[0;32m----> 4\u001b[0;31m     subjset=gibson)\n\u001b[0m",
      "\u001b[0;32m~/anaconda3/envs/mdsine2/lib/python3.7/site-packages/mdsine2/negbin.py\u001b[0m in \u001b[0;36mbuild_graph\u001b[0;34m(params, graph_name, subjset)\u001b[0m\n\u001b[1;32m   1016\u001b[0m     \u001b[0;32mfor\u001b[0m \u001b[0mname\u001b[0m \u001b[0;32min\u001b[0m \u001b[0mparams\u001b[0m\u001b[0;34m.\u001b[0m\u001b[0mINITIALIZATION_ORDER\u001b[0m\u001b[0;34m:\u001b[0m\u001b[0;34m\u001b[0m\u001b[0;34m\u001b[0m\u001b[0m\n\u001b[1;32m   1017\u001b[0m         \u001b[0;32mtry\u001b[0m\u001b[0;34m:\u001b[0m\u001b[0;34m\u001b[0m\u001b[0;34m\u001b[0m\u001b[0m\n\u001b[0;32m-> 1018\u001b[0;31m             \u001b[0mGRAPH\u001b[0m\u001b[0;34m[\u001b[0m\u001b[0mname\u001b[0m\u001b[0;34m]\u001b[0m\u001b[0;34m.\u001b[0m\u001b[0minitialize\u001b[0m\u001b[0;34m(\u001b[0m\u001b[0;34m**\u001b[0m\u001b[0mparams\u001b[0m\u001b[0;34m.\u001b[0m\u001b[0mINITIALIZATION_KWARGS\u001b[0m\u001b[0;34m[\u001b[0m\u001b[0mname\u001b[0m\u001b[0;34m]\u001b[0m\u001b[0;34m)\u001b[0m\u001b[0;34m\u001b[0m\u001b[0;34m\u001b[0m\u001b[0m\n\u001b[0m\u001b[1;32m   1019\u001b[0m         \u001b[0;32mexcept\u001b[0m\u001b[0;34m:\u001b[0m\u001b[0;34m\u001b[0m\u001b[0;34m\u001b[0m\u001b[0m\n\u001b[1;32m   1020\u001b[0m             \u001b[0mlogger\u001b[0m\u001b[0;34m.\u001b[0m\u001b[0mcritical\u001b[0m\u001b[0;34m(\u001b[0m\u001b[0;34m'Failed in {}'\u001b[0m\u001b[0;34m.\u001b[0m\u001b[0mformat\u001b[0m\u001b[0;34m(\u001b[0m\u001b[0mname\u001b[0m\u001b[0;34m)\u001b[0m\u001b[0;34m)\u001b[0m\u001b[0;34m\u001b[0m\u001b[0;34m\u001b[0m\u001b[0m\n",
      "\u001b[0;32m~/anaconda3/envs/mdsine2/lib/python3.7/site-packages/mdsine2/negbin.py\u001b[0m in \u001b[0;36minitialize\u001b[0;34m(self, tune, end_tune, target_acceptance_rate, qpcr_variance_inflation, delay)\u001b[0m\n\u001b[1;32m    558\u001b[0m         \u001b[0;31m# Initialize the trajectory sets\u001b[0m\u001b[0;34m\u001b[0m\u001b[0;34m\u001b[0m\u001b[0;34m\u001b[0m\u001b[0m\n\u001b[1;32m    559\u001b[0m         \u001b[0;32mfor\u001b[0m \u001b[0mridx\u001b[0m \u001b[0;32min\u001b[0m \u001b[0mrange\u001b[0m\u001b[0;34m(\u001b[0m\u001b[0mself\u001b[0m\u001b[0;34m.\u001b[0m\u001b[0mG\u001b[0m\u001b[0;34m.\u001b[0m\u001b[0mdata\u001b[0m\u001b[0;34m.\u001b[0m\u001b[0mn_replicates\u001b[0m\u001b[0;34m)\u001b[0m\u001b[0;34m:\u001b[0m\u001b[0;34m\u001b[0m\u001b[0;34m\u001b[0m\u001b[0m\n\u001b[0;32m--> 560\u001b[0;31m             \u001b[0mself\u001b[0m\u001b[0;34m.\u001b[0m\u001b[0mvalue\u001b[0m\u001b[0;34m[\u001b[0m\u001b[0mridx\u001b[0m\u001b[0;34m]\u001b[0m\u001b[0;34m.\u001b[0m\u001b[0minitialize\u001b[0m\u001b[0;34m(\u001b[0m\u001b[0;34m)\u001b[0m\u001b[0;34m\u001b[0m\u001b[0;34m\u001b[0m\u001b[0m\n\u001b[0m\u001b[1;32m    561\u001b[0m \u001b[0;34m\u001b[0m\u001b[0m\n\u001b[1;32m    562\u001b[0m         \u001b[0;32mif\u001b[0m \u001b[0mself\u001b[0m\u001b[0;34m.\u001b[0m\u001b[0mmp\u001b[0m \u001b[0;34m==\u001b[0m \u001b[0;34m'full'\u001b[0m\u001b[0;34m:\u001b[0m\u001b[0;34m\u001b[0m\u001b[0;34m\u001b[0m\u001b[0m\n",
      "\u001b[0;32m~/anaconda3/envs/mdsine2/lib/python3.7/site-packages/mdsine2/negbin.py\u001b[0m in \u001b[0;36minitialize\u001b[0;34m(self)\u001b[0m\n\u001b[1;32m    432\u001b[0m         \u001b[0mrel\u001b[0m \u001b[0;34m=\u001b[0m \u001b[0mnp\u001b[0m\u001b[0;34m.\u001b[0m\u001b[0msum\u001b[0m\u001b[0;34m(\u001b[0m\u001b[0mself\u001b[0m\u001b[0;34m.\u001b[0m\u001b[0mdata\u001b[0m\u001b[0;34m,\u001b[0m \u001b[0maxis\u001b[0m\u001b[0;34m=\u001b[0m\u001b[0;36m1\u001b[0m\u001b[0;34m)\u001b[0m\u001b[0;34m\u001b[0m\u001b[0;34m\u001b[0m\u001b[0m\n\u001b[1;32m    433\u001b[0m         \u001b[0mrel\u001b[0m \u001b[0;34m=\u001b[0m \u001b[0mrel\u001b[0m \u001b[0;34m/\u001b[0m \u001b[0mnp\u001b[0m\u001b[0;34m.\u001b[0m\u001b[0msum\u001b[0m\u001b[0;34m(\u001b[0m\u001b[0mrel\u001b[0m\u001b[0;34m)\u001b[0m\u001b[0;34m\u001b[0m\u001b[0;34m\u001b[0m\u001b[0m\n\u001b[0;32m--> 434\u001b[0;31m         \u001b[0mvalue\u001b[0m \u001b[0;34m=\u001b[0m \u001b[0mrel\u001b[0m \u001b[0;34m*\u001b[0m \u001b[0mself\u001b[0m\u001b[0;34m.\u001b[0m\u001b[0mqpcr_measurement\u001b[0m\u001b[0;34m.\u001b[0m\u001b[0mmean\u001b[0m\u001b[0;34m(\u001b[0m\u001b[0;34m)\u001b[0m\u001b[0;34m\u001b[0m\u001b[0;34m\u001b[0m\u001b[0m\n\u001b[0m\u001b[1;32m    435\u001b[0m \u001b[0;34m\u001b[0m\u001b[0m\n\u001b[1;32m    436\u001b[0m         \u001b[0mself\u001b[0m\u001b[0;34m.\u001b[0m\u001b[0mvalue\u001b[0m \u001b[0;34m=\u001b[0m \u001b[0mnp\u001b[0m\u001b[0;34m.\u001b[0m\u001b[0mzeros\u001b[0m\u001b[0;34m(\u001b[0m\u001b[0mlen\u001b[0m\u001b[0;34m(\u001b[0m\u001b[0mvalue\u001b[0m\u001b[0;34m)\u001b[0m\u001b[0;34m)\u001b[0m\u001b[0;34m\u001b[0m\u001b[0;34m\u001b[0m\u001b[0m\n",
      "\u001b[0;31mAttributeError\u001b[0m: 'dict_values' object has no attribute 'mean'"
     ]
    }
   ],
   "source": [
    "mcmc_negbin = md2.negbin.build_graph(\n",
    "    params=params, \n",
    "    graph_name=gibson.name, \n",
    "    subjset=gibson)"
   ]
  },
  {
   "cell_type": "markdown",
   "metadata": {},
   "source": [
    "# McNulty et al., 2013"
   ]
  },
  {
   "cell_type": "code",
   "execution_count": 8,
   "metadata": {},
   "outputs": [
    {
     "name": "stdout",
     "output_type": "stream",
     "text": [
      "[INFO] TaxaSet parsng new taxonomy table. Resetting\n",
      "[DEBUG] Reseting perturbations\n"
     ]
    }
   ],
   "source": [
    "mcnulty = md2.dataset.parse(name='mcnulty', \\\n",
    "                            metadata='datasets/metadata.tsv', \\\n",
    "                            taxonomy='datasets/taxonomy.tsv', \\\n",
    "                            reads='datasets/counts.tsv', \\\n",
    "                            qpcr='datasets/DNA_yields.tsv', \\\n",
    "                            perturbations='datasets/perturbations.tsv')"
   ]
  },
  {
   "cell_type": "code",
   "execution_count": 9,
   "metadata": {},
   "outputs": [],
   "source": [
    "params = md2.config.NegBinConfig(\n",
    "    seed=0, burnin=100, n_samples=200,\n",
    "    checkpoint=100, \n",
    "    basepath=\"negbin\")"
   ]
  },
  {
   "cell_type": "code",
   "execution_count": 11,
   "metadata": {},
   "outputs": [
    {
     "data": {
      "text/plain": [
       "[<mdsine2.base.qpcr.qPCRdata at 0x7ff33d6d2668>,\n",
       " <mdsine2.base.qpcr.qPCRdata at 0x7ff33d6d2630>,\n",
       " <mdsine2.base.qpcr.qPCRdata at 0x7ff33d6d2588>,\n",
       " <mdsine2.base.qpcr.qPCRdata at 0x7ff33d6d2550>,\n",
       " <mdsine2.base.qpcr.qPCRdata at 0x7ff33d6d26d8>,\n",
       " <mdsine2.base.qpcr.qPCRdata at 0x7ff33d6d2710>,\n",
       " <mdsine2.base.qpcr.qPCRdata at 0x7ff33d6d2748>,\n",
       " <mdsine2.base.qpcr.qPCRdata at 0x7ff33d6d2780>,\n",
       " <mdsine2.base.qpcr.qPCRdata at 0x7ff33d6d27b8>,\n",
       " <mdsine2.base.qpcr.qPCRdata at 0x7ff33d6d27f0>,\n",
       " <mdsine2.base.qpcr.qPCRdata at 0x7ff33d6d2828>,\n",
       " <mdsine2.base.qpcr.qPCRdata at 0x7ff33d6d2860>,\n",
       " <mdsine2.base.qpcr.qPCRdata at 0x7ff33d6d2898>,\n",
       " <mdsine2.base.qpcr.qPCRdata at 0x7ff33d6d28d0>,\n",
       " <mdsine2.base.qpcr.qPCRdata at 0x7ff33d6d2908>,\n",
       " <mdsine2.base.qpcr.qPCRdata at 0x7ff33d6d2940>,\n",
       " <mdsine2.base.qpcr.qPCRdata at 0x7ff33d6d2978>,\n",
       " <mdsine2.base.qpcr.qPCRdata at 0x7ff33d6d29b0>,\n",
       " <mdsine2.base.qpcr.qPCRdata at 0x7ff33d6d29e8>,\n",
       " <mdsine2.base.qpcr.qPCRdata at 0x7ff33d6d2a20>,\n",
       " <mdsine2.base.qpcr.qPCRdata at 0x7ff33d6d2a58>,\n",
       " <mdsine2.base.qpcr.qPCRdata at 0x7ff33d6d2a90>,\n",
       " <mdsine2.base.qpcr.qPCRdata at 0x7ff33d6d2ac8>,\n",
       " <mdsine2.base.qpcr.qPCRdata at 0x7ff33d6d2b00>,\n",
       " <mdsine2.base.qpcr.qPCRdata at 0x7ff33d6d2b38>]"
      ]
     },
     "execution_count": 11,
     "metadata": {},
     "output_type": "execute_result"
    }
   ],
   "source": [
    "list(mcnulty[0].qpcr.values())"
   ]
  },
  {
   "cell_type": "code",
   "execution_count": 16,
   "metadata": {},
   "outputs": [
    {
     "data": {
      "text/html": [
       "<div>\n",
       "<style scoped>\n",
       "    .dataframe tbody tr th:only-of-type {\n",
       "        vertical-align: middle;\n",
       "    }\n",
       "\n",
       "    .dataframe tbody tr th {\n",
       "        vertical-align: top;\n",
       "    }\n",
       "\n",
       "    .dataframe thead th {\n",
       "        text-align: right;\n",
       "    }\n",
       "</style>\n",
       "<table border=\"1\" class=\"dataframe\">\n",
       "  <thead>\n",
       "    <tr style=\"text-align: right;\">\n",
       "      <th></th>\n",
       "      <th>1.0</th>\n",
       "      <th>2.0</th>\n",
       "      <th>3.0</th>\n",
       "      <th>5.0</th>\n",
       "      <th>7.0</th>\n",
       "      <th>10.0</th>\n",
       "      <th>12.0</th>\n",
       "      <th>13.0</th>\n",
       "      <th>15.0</th>\n",
       "      <th>16.0</th>\n",
       "      <th>...</th>\n",
       "      <th>27.0</th>\n",
       "      <th>29.0</th>\n",
       "      <th>30.0</th>\n",
       "      <th>31.0</th>\n",
       "      <th>33.0</th>\n",
       "      <th>35.0</th>\n",
       "      <th>38.0</th>\n",
       "      <th>40.0</th>\n",
       "      <th>41.0</th>\n",
       "      <th>42.0</th>\n",
       "    </tr>\n",
       "  </thead>\n",
       "  <tbody>\n",
       "    <tr>\n",
       "      <th>B_caccae</th>\n",
       "      <td>6581</td>\n",
       "      <td>16753</td>\n",
       "      <td>20944</td>\n",
       "      <td>20945</td>\n",
       "      <td>10145</td>\n",
       "      <td>8934</td>\n",
       "      <td>11038</td>\n",
       "      <td>9829</td>\n",
       "      <td>18002</td>\n",
       "      <td>24973</td>\n",
       "      <td>...</td>\n",
       "      <td>77521</td>\n",
       "      <td>48066</td>\n",
       "      <td>17412</td>\n",
       "      <td>14984</td>\n",
       "      <td>8576</td>\n",
       "      <td>9629</td>\n",
       "      <td>14596</td>\n",
       "      <td>11217</td>\n",
       "      <td>10772</td>\n",
       "      <td>14625</td>\n",
       "    </tr>\n",
       "    <tr>\n",
       "      <th>B_cellulosilyticus_WH2</th>\n",
       "      <td>8823</td>\n",
       "      <td>40690</td>\n",
       "      <td>63087</td>\n",
       "      <td>120582</td>\n",
       "      <td>45214</td>\n",
       "      <td>7183</td>\n",
       "      <td>33209</td>\n",
       "      <td>44957</td>\n",
       "      <td>47547</td>\n",
       "      <td>21869</td>\n",
       "      <td>...</td>\n",
       "      <td>37167</td>\n",
       "      <td>61030</td>\n",
       "      <td>54921</td>\n",
       "      <td>42187</td>\n",
       "      <td>33509</td>\n",
       "      <td>39294</td>\n",
       "      <td>62254</td>\n",
       "      <td>63425</td>\n",
       "      <td>54065</td>\n",
       "      <td>85683</td>\n",
       "    </tr>\n",
       "    <tr>\n",
       "      <th>B_ovatus</th>\n",
       "      <td>10751</td>\n",
       "      <td>27653</td>\n",
       "      <td>25690</td>\n",
       "      <td>29712</td>\n",
       "      <td>11304</td>\n",
       "      <td>904</td>\n",
       "      <td>12536</td>\n",
       "      <td>14105</td>\n",
       "      <td>13155</td>\n",
       "      <td>5452</td>\n",
       "      <td>...</td>\n",
       "      <td>1475</td>\n",
       "      <td>9818</td>\n",
       "      <td>9395</td>\n",
       "      <td>9129</td>\n",
       "      <td>7658</td>\n",
       "      <td>9142</td>\n",
       "      <td>22747</td>\n",
       "      <td>15386</td>\n",
       "      <td>21426</td>\n",
       "      <td>32649</td>\n",
       "    </tr>\n",
       "    <tr>\n",
       "      <th>B_thetaiotaomicron</th>\n",
       "      <td>4151</td>\n",
       "      <td>12870</td>\n",
       "      <td>24935</td>\n",
       "      <td>35765</td>\n",
       "      <td>13906</td>\n",
       "      <td>2423</td>\n",
       "      <td>9148</td>\n",
       "      <td>9462</td>\n",
       "      <td>10126</td>\n",
       "      <td>12373</td>\n",
       "      <td>...</td>\n",
       "      <td>27230</td>\n",
       "      <td>45214</td>\n",
       "      <td>20584</td>\n",
       "      <td>11231</td>\n",
       "      <td>6951</td>\n",
       "      <td>9394</td>\n",
       "      <td>16232</td>\n",
       "      <td>12550</td>\n",
       "      <td>12491</td>\n",
       "      <td>20983</td>\n",
       "    </tr>\n",
       "    <tr>\n",
       "      <th>B_uniformis</th>\n",
       "      <td>1023</td>\n",
       "      <td>1066</td>\n",
       "      <td>3261</td>\n",
       "      <td>7482</td>\n",
       "      <td>3394</td>\n",
       "      <td>771</td>\n",
       "      <td>3581</td>\n",
       "      <td>3552</td>\n",
       "      <td>4398</td>\n",
       "      <td>3415</td>\n",
       "      <td>...</td>\n",
       "      <td>5942</td>\n",
       "      <td>9530</td>\n",
       "      <td>6294</td>\n",
       "      <td>6271</td>\n",
       "      <td>7915</td>\n",
       "      <td>6602</td>\n",
       "      <td>5987</td>\n",
       "      <td>2170</td>\n",
       "      <td>3123</td>\n",
       "      <td>6630</td>\n",
       "    </tr>\n",
       "    <tr>\n",
       "      <th>B_vulgatus</th>\n",
       "      <td>87112</td>\n",
       "      <td>27895</td>\n",
       "      <td>21950</td>\n",
       "      <td>33730</td>\n",
       "      <td>16341</td>\n",
       "      <td>6046</td>\n",
       "      <td>7601</td>\n",
       "      <td>8245</td>\n",
       "      <td>18523</td>\n",
       "      <td>16784</td>\n",
       "      <td>...</td>\n",
       "      <td>51963</td>\n",
       "      <td>35062</td>\n",
       "      <td>18431</td>\n",
       "      <td>14085</td>\n",
       "      <td>10411</td>\n",
       "      <td>16478</td>\n",
       "      <td>20009</td>\n",
       "      <td>20305</td>\n",
       "      <td>16027</td>\n",
       "      <td>24290</td>\n",
       "    </tr>\n",
       "    <tr>\n",
       "      <th>C_aerofaciens</th>\n",
       "      <td>81</td>\n",
       "      <td>1237</td>\n",
       "      <td>2356</td>\n",
       "      <td>2947</td>\n",
       "      <td>1385</td>\n",
       "      <td>89</td>\n",
       "      <td>1052</td>\n",
       "      <td>1050</td>\n",
       "      <td>517</td>\n",
       "      <td>1545</td>\n",
       "      <td>...</td>\n",
       "      <td>1548</td>\n",
       "      <td>1177</td>\n",
       "      <td>321</td>\n",
       "      <td>404</td>\n",
       "      <td>406</td>\n",
       "      <td>146</td>\n",
       "      <td>374</td>\n",
       "      <td>312</td>\n",
       "      <td>331</td>\n",
       "      <td>747</td>\n",
       "    </tr>\n",
       "    <tr>\n",
       "      <th>C_scindens</th>\n",
       "      <td>4595</td>\n",
       "      <td>3298</td>\n",
       "      <td>2936</td>\n",
       "      <td>3211</td>\n",
       "      <td>1514</td>\n",
       "      <td>382</td>\n",
       "      <td>1963</td>\n",
       "      <td>1199</td>\n",
       "      <td>720</td>\n",
       "      <td>2324</td>\n",
       "      <td>...</td>\n",
       "      <td>8373</td>\n",
       "      <td>7372</td>\n",
       "      <td>1437</td>\n",
       "      <td>2269</td>\n",
       "      <td>1391</td>\n",
       "      <td>984</td>\n",
       "      <td>1319</td>\n",
       "      <td>1453</td>\n",
       "      <td>1199</td>\n",
       "      <td>3564</td>\n",
       "    </tr>\n",
       "    <tr>\n",
       "      <th>C_spiroforme</th>\n",
       "      <td>32</td>\n",
       "      <td>720</td>\n",
       "      <td>1559</td>\n",
       "      <td>641</td>\n",
       "      <td>68</td>\n",
       "      <td>135</td>\n",
       "      <td>79</td>\n",
       "      <td>14</td>\n",
       "      <td>26</td>\n",
       "      <td>24</td>\n",
       "      <td>...</td>\n",
       "      <td>132</td>\n",
       "      <td>138</td>\n",
       "      <td>23</td>\n",
       "      <td>32</td>\n",
       "      <td>13</td>\n",
       "      <td>88</td>\n",
       "      <td>103</td>\n",
       "      <td>95</td>\n",
       "      <td>93</td>\n",
       "      <td>50</td>\n",
       "    </tr>\n",
       "    <tr>\n",
       "      <th>D_longicatena</th>\n",
       "      <td>275</td>\n",
       "      <td>38</td>\n",
       "      <td>2</td>\n",
       "      <td>0</td>\n",
       "      <td>0</td>\n",
       "      <td>0</td>\n",
       "      <td>0</td>\n",
       "      <td>0</td>\n",
       "      <td>0</td>\n",
       "      <td>0</td>\n",
       "      <td>...</td>\n",
       "      <td>21</td>\n",
       "      <td>23</td>\n",
       "      <td>12</td>\n",
       "      <td>11</td>\n",
       "      <td>5</td>\n",
       "      <td>3</td>\n",
       "      <td>12</td>\n",
       "      <td>17</td>\n",
       "      <td>22</td>\n",
       "      <td>24</td>\n",
       "    </tr>\n",
       "    <tr>\n",
       "      <th>P_distasonis</th>\n",
       "      <td>129</td>\n",
       "      <td>435</td>\n",
       "      <td>2531</td>\n",
       "      <td>9796</td>\n",
       "      <td>4695</td>\n",
       "      <td>180</td>\n",
       "      <td>3781</td>\n",
       "      <td>4129</td>\n",
       "      <td>6442</td>\n",
       "      <td>7885</td>\n",
       "      <td>...</td>\n",
       "      <td>9146</td>\n",
       "      <td>3824</td>\n",
       "      <td>4437</td>\n",
       "      <td>2320</td>\n",
       "      <td>2434</td>\n",
       "      <td>3631</td>\n",
       "      <td>8972</td>\n",
       "      <td>7603</td>\n",
       "      <td>6697</td>\n",
       "      <td>11214</td>\n",
       "    </tr>\n",
       "    <tr>\n",
       "      <th>R_obeum</th>\n",
       "      <td>369</td>\n",
       "      <td>7101</td>\n",
       "      <td>16337</td>\n",
       "      <td>18450</td>\n",
       "      <td>8392</td>\n",
       "      <td>372</td>\n",
       "      <td>9050</td>\n",
       "      <td>4697</td>\n",
       "      <td>2752</td>\n",
       "      <td>3003</td>\n",
       "      <td>...</td>\n",
       "      <td>3650</td>\n",
       "      <td>11329</td>\n",
       "      <td>2467</td>\n",
       "      <td>4820</td>\n",
       "      <td>3564</td>\n",
       "      <td>3461</td>\n",
       "      <td>6124</td>\n",
       "      <td>7773</td>\n",
       "      <td>6981</td>\n",
       "      <td>21490</td>\n",
       "    </tr>\n",
       "  </tbody>\n",
       "</table>\n",
       "<p>12 rows × 25 columns</p>\n",
       "</div>"
      ],
      "text/plain": [
       "                         1.0    2.0    3.0     5.0    7.0   10.0   12.0  \\\n",
       "B_caccae                 6581  16753  20944   20945  10145  8934  11038   \n",
       "B_cellulosilyticus_WH2   8823  40690  63087  120582  45214  7183  33209   \n",
       "B_ovatus                10751  27653  25690   29712  11304   904  12536   \n",
       "B_thetaiotaomicron       4151  12870  24935   35765  13906  2423   9148   \n",
       "B_uniformis              1023   1066   3261    7482   3394   771   3581   \n",
       "B_vulgatus              87112  27895  21950   33730  16341  6046   7601   \n",
       "C_aerofaciens              81   1237   2356    2947   1385    89   1052   \n",
       "C_scindens               4595   3298   2936    3211   1514   382   1963   \n",
       "C_spiroforme               32    720   1559     641     68   135     79   \n",
       "D_longicatena             275     38      2       0      0     0      0   \n",
       "P_distasonis              129    435   2531    9796   4695   180   3781   \n",
       "R_obeum                   369   7101  16337   18450   8392   372   9050   \n",
       "\n",
       "                         13.0   15.0   16.0  ...   27.0   29.0   30.0   31.0  \\\n",
       "B_caccae                 9829  18002  24973  ...  77521  48066  17412  14984   \n",
       "B_cellulosilyticus_WH2  44957  47547  21869  ...  37167  61030  54921  42187   \n",
       "B_ovatus                14105  13155   5452  ...   1475   9818   9395   9129   \n",
       "B_thetaiotaomicron       9462  10126  12373  ...  27230  45214  20584  11231   \n",
       "B_uniformis              3552   4398   3415  ...   5942   9530   6294   6271   \n",
       "B_vulgatus               8245  18523  16784  ...  51963  35062  18431  14085   \n",
       "C_aerofaciens            1050    517   1545  ...   1548   1177    321    404   \n",
       "C_scindens               1199    720   2324  ...   8373   7372   1437   2269   \n",
       "C_spiroforme               14     26     24  ...    132    138     23     32   \n",
       "D_longicatena               0      0      0  ...     21     23     12     11   \n",
       "P_distasonis             4129   6442   7885  ...   9146   3824   4437   2320   \n",
       "R_obeum                  4697   2752   3003  ...   3650  11329   2467   4820   \n",
       "\n",
       "                         33.0   35.0   38.0   40.0   41.0   42.0  \n",
       "B_caccae                 8576   9629  14596  11217  10772  14625  \n",
       "B_cellulosilyticus_WH2  33509  39294  62254  63425  54065  85683  \n",
       "B_ovatus                 7658   9142  22747  15386  21426  32649  \n",
       "B_thetaiotaomicron       6951   9394  16232  12550  12491  20983  \n",
       "B_uniformis              7915   6602   5987   2170   3123   6630  \n",
       "B_vulgatus              10411  16478  20009  20305  16027  24290  \n",
       "C_aerofaciens             406    146    374    312    331    747  \n",
       "C_scindens               1391    984   1319   1453   1199   3564  \n",
       "C_spiroforme               13     88    103     95     93     50  \n",
       "D_longicatena               5      3     12     17     22     24  \n",
       "P_distasonis             2434   3631   8972   7603   6697  11214  \n",
       "R_obeum                  3564   3461   6124   7773   6981  21490  \n",
       "\n",
       "[12 rows x 25 columns]"
      ]
     },
     "execution_count": 16,
     "metadata": {},
     "output_type": "execute_result"
    }
   ],
   "source": [
    "mcnulty[0].df()['raw']"
   ]
  },
  {
   "cell_type": "code",
   "execution_count": 63,
   "metadata": {},
   "outputs": [
    {
     "data": {
      "text/plain": [
       "25"
      ]
     },
     "execution_count": 63,
     "metadata": {},
     "output_type": "execute_result"
    }
   ],
   "source": [
    "b = np.sum(mcnulty[0].matrix()['raw'], axis=0)\n"
   ]
  },
  {
   "cell_type": "code",
   "execution_count": 17,
   "metadata": {},
   "outputs": [
    {
     "data": {
      "text/plain": [
       "15"
      ]
     },
     "execution_count": 17,
     "metadata": {},
     "output_type": "execute_result"
    }
   ],
   "source": [
    "c = []\n",
    "for subj in mcnulty:\n",
    "    c.append(subj.matrix()['raw'])\n",
    "len(c)"
   ]
  },
  {
   "cell_type": "code",
   "execution_count": 10,
   "metadata": {},
   "outputs": [
    {
     "name": "stdout",
     "output_type": "stream",
     "text": [
      "[DEBUG] Available subjects: 1,2,3,4,5,6,7,8,9,10,11,12,13,14,15\n",
      "[DEBUG] Subject 1, available qpcr: 1.0,2.0,3.0,5.0,7.0,10.0,12.0,13.0,15.0,16.0,17.0,19.0,21.0,25.0,26.0,27.0,29.0,30.0,31.0,33.0,35.0,38.0,40.0,41.0,42.0\n",
      "[DEBUG] Subject 2, available qpcr: 1.0,2.0,3.0,5.0,7.0,10.0,12.0,13.0,15.0,16.0,17.0,19.0,21.0,25.0,26.0,27.0,29.0,30.0,31.0,33.0,35.0,38.0,40.0,41.0,42.0\n",
      "[DEBUG] Subject 3, available qpcr: 1.0,2.0,3.0,5.0,7.0,10.0,12.0,13.0,15.0,16.0,17.0,19.0,21.0,25.0,26.0,27.0,29.0,30.0,31.0,33.0,35.0,38.0,40.0,41.0,42.0\n",
      "[DEBUG] Subject 4, available qpcr: 1.0,2.0,3.0,5.0,7.0,10.0,12.0,13.0,15.0,16.0,17.0,19.0,21.0,25.0,26.0,27.0,29.0,30.0,31.0,33.0,35.0,38.0,40.0,41.0,42.0\n",
      "[DEBUG] Subject 5, available qpcr: 1.0,2.0,3.0,5.0,7.0,10.0,12.0,13.0,15.0,16.0,17.0,19.0,21.0,25.0,26.0,27.0,29.0,30.0,31.0,33.0,35.0,38.0,40.0,41.0,42.0\n",
      "[DEBUG] Subject 6, available qpcr: 1.0,2.0,3.0,5.0,7.0,10.0,12.0,13.0,15.0,16.0,17.0,19.0,21.0,25.0,26.0,27.0,29.0,30.0,31.0,33.0,35.0,38.0,40.0,41.0,42.0\n",
      "[DEBUG] Subject 7, available qpcr: 1.0,2.0,3.0,5.0,7.0,10.0,12.0,13.0,15.0,16.0,17.0,19.0,21.0,25.0,26.0,27.0,29.0,30.0,31.0,33.0,35.0,38.0,40.0,41.0,42.0\n",
      "[DEBUG] Subject 8, available qpcr: 1.0,2.0,3.0,5.0,7.0,10.0,12.0,13.0,15.0,16.0,17.0,19.0,21.0,25.0,26.0,27.0,29.0,30.0,31.0,33.0,35.0,38.0,40.0,41.0,42.0\n",
      "[DEBUG] Subject 9, available qpcr: 1.0,2.0,3.0,5.0,7.0,10.0,12.0,13.0,15.0,16.0,17.0,19.0,21.0,25.0,26.0,27.0,29.0,30.0,31.0,33.0,35.0,38.0,40.0,41.0,42.0\n",
      "[DEBUG] Subject 10, available qpcr: 1.0,2.0,3.0,5.0,7.0,10.0,12.0,13.0,15.0,16.0,17.0,19.0,21.0,25.0,26.0,27.0,29.0,30.0,31.0,33.0,35.0,38.0,40.0,41.0,42.0\n",
      "[DEBUG] Subject 11, available qpcr: 1.0,2.0,3.0,5.0,7.0,10.0,12.0,13.0,15.0,16.0,17.0,19.0,21.0,25.0,26.0,27.0,29.0,30.0,31.0,33.0,35.0,38.0,40.0,41.0,42.0\n",
      "[DEBUG] Subject 12, available qpcr: 1.0,2.0,3.0,5.0,7.0,10.0,12.0,13.0,15.0,16.0,17.0,19.0,21.0,25.0,26.0,27.0,29.0,30.0,31.0,33.0,35.0,38.0,40.0,41.0,42.0\n",
      "[DEBUG] Subject 13, available qpcr: 1.0,2.0,3.0,5.0,7.0,10.0,12.0,13.0,15.0,16.0,17.0,19.0,21.0,25.0,26.0,27.0,29.0,30.0,31.0,33.0,35.0,38.0,40.0,41.0,42.0\n",
      "[DEBUG] Subject 14, available qpcr: 1.0,2.0,3.0,5.0,7.0,10.0,12.0,13.0,15.0,16.0,17.0,19.0,21.0,25.0,26.0,27.0,29.0,30.0,31.0,33.0,35.0,38.0,40.0,41.0,42.0\n",
      "[DEBUG] Subject 15, available qpcr: 1.0,2.0,3.0,5.0,7.0,10.0,12.0,13.0,15.0,16.0,17.0,19.0,21.0,25.0,26.0,27.0,29.0,30.0,31.0,33.0,35.0,38.0,40.0,41.0,42.0\n"
     ]
    },
    {
     "name": "stderr",
     "output_type": "stream",
     "text": [
      "[CRITICAL] Failed in Filtering\n"
     ]
    },
    {
     "ename": "TypeError",
     "evalue": "unsupported operand type(s) for /: 'dict_values' and 'int'",
     "output_type": "error",
     "traceback": [
      "\u001b[0;31m---------------------------------------------------------------------------\u001b[0m",
      "\u001b[0;31mTypeError\u001b[0m                                 Traceback (most recent call last)",
      "\u001b[0;32m/tmp/ipykernel_261576/3628062348.py\u001b[0m in \u001b[0;36m<module>\u001b[0;34m\u001b[0m\n\u001b[1;32m      2\u001b[0m     \u001b[0mparams\u001b[0m\u001b[0;34m=\u001b[0m\u001b[0mparams\u001b[0m\u001b[0;34m,\u001b[0m\u001b[0;34m\u001b[0m\u001b[0;34m\u001b[0m\u001b[0m\n\u001b[1;32m      3\u001b[0m     \u001b[0mgraph_name\u001b[0m\u001b[0;34m=\u001b[0m\u001b[0mmcnulty\u001b[0m\u001b[0;34m.\u001b[0m\u001b[0mname\u001b[0m\u001b[0;34m,\u001b[0m\u001b[0;34m\u001b[0m\u001b[0;34m\u001b[0m\u001b[0m\n\u001b[0;32m----> 4\u001b[0;31m     subjset=mcnulty)\n\u001b[0m",
      "\u001b[0;32m~/anaconda3/envs/mdsine2/lib/python3.7/site-packages/mdsine2/negbin.py\u001b[0m in \u001b[0;36mbuild_graph\u001b[0;34m(params, graph_name, subjset)\u001b[0m\n\u001b[1;32m   1017\u001b[0m     \u001b[0;32mfor\u001b[0m \u001b[0mname\u001b[0m \u001b[0;32min\u001b[0m \u001b[0mparams\u001b[0m\u001b[0;34m.\u001b[0m\u001b[0mINITIALIZATION_ORDER\u001b[0m\u001b[0;34m:\u001b[0m\u001b[0;34m\u001b[0m\u001b[0;34m\u001b[0m\u001b[0m\n\u001b[1;32m   1018\u001b[0m         \u001b[0;32mtry\u001b[0m\u001b[0;34m:\u001b[0m\u001b[0;34m\u001b[0m\u001b[0;34m\u001b[0m\u001b[0m\n\u001b[0;32m-> 1019\u001b[0;31m             \u001b[0mGRAPH\u001b[0m\u001b[0;34m[\u001b[0m\u001b[0mname\u001b[0m\u001b[0;34m]\u001b[0m\u001b[0;34m.\u001b[0m\u001b[0minitialize\u001b[0m\u001b[0;34m(\u001b[0m\u001b[0;34m**\u001b[0m\u001b[0mparams\u001b[0m\u001b[0;34m.\u001b[0m\u001b[0mINITIALIZATION_KWARGS\u001b[0m\u001b[0;34m[\u001b[0m\u001b[0mname\u001b[0m\u001b[0;34m]\u001b[0m\u001b[0;34m)\u001b[0m\u001b[0;34m\u001b[0m\u001b[0;34m\u001b[0m\u001b[0m\n\u001b[0m\u001b[1;32m   1020\u001b[0m         \u001b[0;32mexcept\u001b[0m\u001b[0;34m:\u001b[0m\u001b[0;34m\u001b[0m\u001b[0;34m\u001b[0m\u001b[0m\n\u001b[1;32m   1021\u001b[0m             \u001b[0mlogger\u001b[0m\u001b[0;34m.\u001b[0m\u001b[0mcritical\u001b[0m\u001b[0;34m(\u001b[0m\u001b[0;34m'Failed in {}'\u001b[0m\u001b[0;34m.\u001b[0m\u001b[0mformat\u001b[0m\u001b[0;34m(\u001b[0m\u001b[0mname\u001b[0m\u001b[0;34m)\u001b[0m\u001b[0;34m)\u001b[0m\u001b[0;34m\u001b[0m\u001b[0;34m\u001b[0m\u001b[0m\n",
      "\u001b[0;32m~/anaconda3/envs/mdsine2/lib/python3.7/site-packages/mdsine2/negbin.py\u001b[0m in \u001b[0;36minitialize\u001b[0;34m(self, tune, end_tune, target_acceptance_rate, qpcr_variance_inflation, delay)\u001b[0m\n\u001b[1;32m    559\u001b[0m         \u001b[0;31m# Initialize the trajectory sets\u001b[0m\u001b[0;34m\u001b[0m\u001b[0;34m\u001b[0m\u001b[0;34m\u001b[0m\u001b[0m\n\u001b[1;32m    560\u001b[0m         \u001b[0;32mfor\u001b[0m \u001b[0mridx\u001b[0m \u001b[0;32min\u001b[0m \u001b[0mrange\u001b[0m\u001b[0;34m(\u001b[0m\u001b[0mself\u001b[0m\u001b[0;34m.\u001b[0m\u001b[0mG\u001b[0m\u001b[0;34m.\u001b[0m\u001b[0mdata\u001b[0m\u001b[0;34m.\u001b[0m\u001b[0mn_replicates\u001b[0m\u001b[0;34m)\u001b[0m\u001b[0;34m:\u001b[0m\u001b[0;34m\u001b[0m\u001b[0;34m\u001b[0m\u001b[0m\n\u001b[0;32m--> 561\u001b[0;31m             \u001b[0mself\u001b[0m\u001b[0;34m.\u001b[0m\u001b[0mvalue\u001b[0m\u001b[0;34m[\u001b[0m\u001b[0mridx\u001b[0m\u001b[0;34m]\u001b[0m\u001b[0;34m.\u001b[0m\u001b[0minitialize\u001b[0m\u001b[0;34m(\u001b[0m\u001b[0;34m)\u001b[0m\u001b[0;34m\u001b[0m\u001b[0;34m\u001b[0m\u001b[0m\n\u001b[0m\u001b[1;32m    562\u001b[0m \u001b[0;34m\u001b[0m\u001b[0m\n\u001b[1;32m    563\u001b[0m         \u001b[0;32mif\u001b[0m \u001b[0mself\u001b[0m\u001b[0;34m.\u001b[0m\u001b[0mmp\u001b[0m \u001b[0;34m==\u001b[0m \u001b[0;34m'full'\u001b[0m\u001b[0;34m:\u001b[0m\u001b[0;34m\u001b[0m\u001b[0;34m\u001b[0m\u001b[0m\n",
      "\u001b[0;32m~/anaconda3/envs/mdsine2/lib/python3.7/site-packages/mdsine2/negbin.py\u001b[0m in \u001b[0;36minitialize\u001b[0;34m(self)\u001b[0m\n\u001b[1;32m    433\u001b[0m         \u001b[0mrel\u001b[0m \u001b[0;34m=\u001b[0m \u001b[0mrel\u001b[0m \u001b[0;34m/\u001b[0m \u001b[0mnp\u001b[0m\u001b[0;34m.\u001b[0m\u001b[0msum\u001b[0m\u001b[0;34m(\u001b[0m\u001b[0mrel\u001b[0m\u001b[0;34m)\u001b[0m\u001b[0;34m\u001b[0m\u001b[0;34m\u001b[0m\u001b[0m\n\u001b[1;32m    434\u001b[0m         \u001b[0;31m# value = rel * self.qpcr_measurement.mean()\u001b[0m\u001b[0;34m\u001b[0m\u001b[0;34m\u001b[0m\u001b[0;34m\u001b[0m\u001b[0m\n\u001b[0;32m--> 435\u001b[0;31m         \u001b[0mvalue\u001b[0m \u001b[0;34m=\u001b[0m \u001b[0mrel\u001b[0m \u001b[0;34m*\u001b[0m \u001b[0mnp\u001b[0m\u001b[0;34m.\u001b[0m\u001b[0mmean\u001b[0m\u001b[0;34m(\u001b[0m\u001b[0mself\u001b[0m\u001b[0;34m.\u001b[0m\u001b[0mqpcr_measurement\u001b[0m\u001b[0;34m)\u001b[0m\u001b[0;34m\u001b[0m\u001b[0;34m\u001b[0m\u001b[0m\n\u001b[0m\u001b[1;32m    436\u001b[0m \u001b[0;34m\u001b[0m\u001b[0m\n\u001b[1;32m    437\u001b[0m         \u001b[0mself\u001b[0m\u001b[0;34m.\u001b[0m\u001b[0mvalue\u001b[0m \u001b[0;34m=\u001b[0m \u001b[0mnp\u001b[0m\u001b[0;34m.\u001b[0m\u001b[0mzeros\u001b[0m\u001b[0;34m(\u001b[0m\u001b[0mlen\u001b[0m\u001b[0;34m(\u001b[0m\u001b[0mvalue\u001b[0m\u001b[0;34m)\u001b[0m\u001b[0;34m)\u001b[0m\u001b[0;34m\u001b[0m\u001b[0;34m\u001b[0m\u001b[0m\n",
      "\u001b[0;32m<__array_function__ internals>\u001b[0m in \u001b[0;36mmean\u001b[0;34m(*args, **kwargs)\u001b[0m\n",
      "\u001b[0;32m~/anaconda3/envs/mdsine2/lib/python3.7/site-packages/numpy/core/fromnumeric.py\u001b[0m in \u001b[0;36mmean\u001b[0;34m(a, axis, dtype, out, keepdims, where)\u001b[0m\n\u001b[1;32m   3439\u001b[0m \u001b[0;34m\u001b[0m\u001b[0m\n\u001b[1;32m   3440\u001b[0m     return _methods._mean(a, axis=axis, dtype=dtype,\n\u001b[0;32m-> 3441\u001b[0;31m                           out=out, **kwargs)\n\u001b[0m\u001b[1;32m   3442\u001b[0m \u001b[0;34m\u001b[0m\u001b[0m\n\u001b[1;32m   3443\u001b[0m \u001b[0;34m\u001b[0m\u001b[0m\n",
      "\u001b[0;32m~/anaconda3/envs/mdsine2/lib/python3.7/site-packages/numpy/core/_methods.py\u001b[0m in \u001b[0;36m_mean\u001b[0;34m(a, axis, dtype, out, keepdims, where)\u001b[0m\n\u001b[1;32m    189\u001b[0m             \u001b[0mret\u001b[0m \u001b[0;34m=\u001b[0m \u001b[0mret\u001b[0m\u001b[0;34m.\u001b[0m\u001b[0mdtype\u001b[0m\u001b[0;34m.\u001b[0m\u001b[0mtype\u001b[0m\u001b[0;34m(\u001b[0m\u001b[0mret\u001b[0m \u001b[0;34m/\u001b[0m \u001b[0mrcount\u001b[0m\u001b[0;34m)\u001b[0m\u001b[0;34m\u001b[0m\u001b[0;34m\u001b[0m\u001b[0m\n\u001b[1;32m    190\u001b[0m     \u001b[0;32melse\u001b[0m\u001b[0;34m:\u001b[0m\u001b[0;34m\u001b[0m\u001b[0;34m\u001b[0m\u001b[0m\n\u001b[0;32m--> 191\u001b[0;31m         \u001b[0mret\u001b[0m \u001b[0;34m=\u001b[0m \u001b[0mret\u001b[0m \u001b[0;34m/\u001b[0m \u001b[0mrcount\u001b[0m\u001b[0;34m\u001b[0m\u001b[0;34m\u001b[0m\u001b[0m\n\u001b[0m\u001b[1;32m    192\u001b[0m \u001b[0;34m\u001b[0m\u001b[0m\n\u001b[1;32m    193\u001b[0m     \u001b[0;32mreturn\u001b[0m \u001b[0mret\u001b[0m\u001b[0;34m\u001b[0m\u001b[0;34m\u001b[0m\u001b[0m\n",
      "\u001b[0;31mTypeError\u001b[0m: unsupported operand type(s) for /: 'dict_values' and 'int'"
     ]
    }
   ],
   "source": [
    "mcmc_negbin = md2.negbin.build_graph(\n",
    "    params=params, \n",
    "    graph_name=mcnulty.name, \n",
    "    subjset=mcnulty)"
   ]
  }
 ],
 "metadata": {
  "kernelspec": {
   "display_name": "Python 3.7.3 ('mdsine2')",
   "language": "python",
   "name": "python3"
  },
  "language_info": {
   "codemirror_mode": {
    "name": "ipython",
    "version": 3
   },
   "file_extension": ".py",
   "mimetype": "text/x-python",
   "name": "python",
   "nbconvert_exporter": "python",
   "pygments_lexer": "ipython3",
   "version": "3.7.3"
  },
  "orig_nbformat": 4,
  "vscode": {
   "interpreter": {
    "hash": "97a3e53701e3aefb9c00075e2535ec5855d69d29da44f6f3c07d225dbb88465b"
   }
  }
 },
 "nbformat": 4,
 "nbformat_minor": 2
}
