{
 "cells": [
  {
   "cell_type": "code",
   "execution_count": 1,
   "metadata": {},
   "outputs": [
    {
     "name": "stdout",
     "output_type": "stream",
     "text": [
      "[DEBUG] Using default logger (stdout, stderr).\n"
     ]
    }
   ],
   "source": [
    "import mdsine2 as md2\n",
    "from mdsine2.names import STRNAMES\n",
    "import matplotlib.pyplot as plt\n",
    "import numpy as np\n",
    "import os\n",
    "import pandas as pd\n",
    "from pathlib import Path\n",
    "# ACS98: installed scikit-learn into mdsine2 conda env"
   ]
  },
  {
   "cell_type": "code",
   "execution_count": 2,
   "metadata": {},
   "outputs": [
    {
     "name": "stdout",
     "output_type": "stream",
     "text": [
      "[INFO] TaxaSet parsng new taxonomy table. Resetting\n",
      "[DEBUG] Reseting perturbations\n",
      "[DEBUG] Available subjects: 2\n",
      "[DEBUG] Subject 2, available qpcr: 0.0,0.5,10.0,11.0,13.0,16.0,18.0,1.0,1.5,21.0,21.5,22.0,22.5,23.0,23.5,24.0,25.0,27.0,28.5,29.0,29.5,2.0,2.5,30.0,30.5,31.0,31.5,32.0,33.0,35.0,35.5,36.0,36.5,37.0,37.5,38.0,39.0,3.0,3.5,42.0,42.5,43.0,43.5,44.0,44.5,45.0,45.5,46.0,47.0,4.0,4.5\n",
      "[INFO] Setting Single Write, Multiple Read Mode\n",
      "[INFO] Setting the trace of learned parameters\n",
      "[INFO] #######################################\n",
      "[INFO] Setting the trace of Negative binomial dispersion a0\n",
      "[INFO] Setting the trace of Negative binomial dispersion a1\n",
      "[INFO] Setting the trace of Filtering\n",
      "[INFO] Setting the trace for diagnostic variables\n",
      "[INFO] ##########################################\n"
     ]
    }
   ],
   "source": [
    "output_dir = Path('mcnulty-results')\n",
    "mcnulty = md2.dataset.parse(name='mcnulty', \\\n",
    "                            metadata='mcnulty-datasets-test/metadata.tsv', \\\n",
    "                            taxonomy='mcnulty-datasets-test/taxonomy.tsv', \\\n",
    "                            reads='mcnulty-datasets-test/reads.tsv', \\\n",
    "                            qpcr='mcnulty-datasets-test/dna_yields.tsv', \\\n",
    "                            perturbations='mcnulty-datasets-test/perturbations.tsv', sep='\\t')\n",
    "params = md2.config.NegBinConfig(\n",
    "    seed=0, burnin=100, n_samples=200,\n",
    "    checkpoint=100, \n",
    "    basepath=str(output_dir / \"negbin\"))\n",
    "mcmc_negbin = md2.negbin.build_graph(\n",
    "    params=params, \n",
    "    graph_name=mcnulty.name, \n",
    "    subjset=mcnulty)"
   ]
  },
  {
   "attachments": {},
   "cell_type": "markdown",
   "metadata": {},
   "source": [
    "* Al ponerle mis tiempos al set de datos de prueba, empezó a fallar\n",
    "* Si cambio absolutamente todos los tiempos (no con mi set de datos) también falla\n",
    "* Si cambio algúnos pocos número al azar, funciona \n",
    "\n",
    "Ver qué patrón encuentro con los tiempos y examinar en mis datos qué puede hacer que estén fallando"
   ]
  },
  {
   "cell_type": "code",
   "execution_count": 3,
   "metadata": {},
   "outputs": [
    {
     "data": {
      "text/plain": [
       "array([ 0. ,  0.5,  1. ,  1.5,  2. ,  2.5,  3. ,  3.5,  4. ,  4.5, 10. ,\n",
       "       11. , 13. , 16. , 18. , 21. , 21.5, 22. , 22.5, 23. , 23.5, 24. ,\n",
       "       25. , 27. , 28.5, 29. , 29.5, 30. , 30.5, 31. , 31.5, 32. , 33. ,\n",
       "       35. , 35.5, 36. , 36.5, 37. , 37.5, 38. , 39. , 42. , 42.5, 43. ,\n",
       "       43.5, 44. , 44.5, 45. , 45.5, 46. , 47. ])"
      ]
     },
     "execution_count": 3,
     "metadata": {},
     "output_type": "execute_result"
    }
   ],
   "source": [
    "mcnulty[0].times"
   ]
  },
  {
   "cell_type": "code",
   "execution_count": 4,
   "metadata": {},
   "outputs": [
    {
     "data": {
      "text/plain": [
       "array([5.57])"
      ]
     },
     "execution_count": 4,
     "metadata": {},
     "output_type": "execute_result"
    }
   ],
   "source": [
    "mcnulty[0].qpcr[0].data"
   ]
  },
  {
   "cell_type": "code",
   "execution_count": 5,
   "metadata": {},
   "outputs": [
    {
     "data": {
      "text/plain": [
       "{0.0: array([ 6581.3,  8823.2, 10751.7, ...,     0. ,     0. ,     0. ]),\n",
       " 0.5: array([16753.9, 40690.9, 27653.7, ...,     0. ,     0. ,     0. ]),\n",
       " 10.0: array([20944.5, 63087.5, 25690.8, ...,     0. ,     0. ,     0. ]),\n",
       " 11.0: array([ 20945.4, 120582.5,  29712. , ...,      0. ,      0. ,      0. ]),\n",
       " 13.0: array([10145.1, 45214.9, 11304.7, ...,     0. ,     0. ,     0. ]),\n",
       " 16.0: array([8934. , 7183. ,  904.6, ...,    0. ,    0. ,    0. ]),\n",
       " 18.0: array([11038.2, 33209.8, 12536.7, ...,     0. ,     0. ,     0. ]),\n",
       " 1.0: array([ 9829. , 44957.8, 14105.3, ...,     0. ,     0. ,     0. ]),\n",
       " 1.5: array([18002.8, 47547.4, 13155.2, ...,     0. ,     0. ,     0. ]),\n",
       " 21.0: array([24973.4, 21869.8,  5452.6, ...,     0. ,     0. ,     0. ]),\n",
       " 21.5: array([49181.8, 28976.1,  1569.1, ...,     0. ,     0. ,     0. ]),\n",
       " 22.0: array([80075.2, 49487.2,  1399.3, ...,     0. ,     0. ,     0. ]),\n",
       " 22.5: array([99051.7, 49755.8,  1261.8, ...,     0. ,     0. ,     0. ]),\n",
       " 23.0: array([32333.7, 12698.4,   527. , ...,     0. ,     0. ,     0. ]),\n",
       " 23.5: array([61652.2, 28815.4,  1155.7, ...,     0. ,     0. ,     0. ]),\n",
       " 24.0: array([77521. , 37167. ,  1475.6, ...,     0. ,     0. ,     0. ]),\n",
       " 25.0: array([48066.4, 61030.8,  9818.7, ...,     0. ,     0. ,     0. ]),\n",
       " 27.0: array([17412.3, 54921.1,  9395.7, ...,     0. ,     0. ,     0. ]),\n",
       " 28.5: array([14984. , 42187.8,  9129.6, ...,     0. ,     0. ,     0. ]),\n",
       " 29.0: array([ 8576.1, 33509.1,  7658.7, ...,     0. ,     0. ,     0. ]),\n",
       " 29.5: array([ 9629.1, 39294.4,  9142.3, ...,     0. ,     0. ,     0. ]),\n",
       " 2.0: array([14596.1, 62254.4, 22747.6, ...,     0. ,     0. ,     0. ]),\n",
       " 2.5: array([11217.8, 63425.8, 15386.5, ...,     0. ,     0. ,     0. ]),\n",
       " 30.0: array([10772.8, 54065.2, 21426.8, ...,     0. ,     0. ,     0. ]),\n",
       " 30.5: array([14625.9, 85683.3, 32649.8, ...,     0. ,     0. ,     0. ]),\n",
       " 31.0: array([26571.3, 33430.3, 36288.7, ...,     0. ,     0. ,     0. ]),\n",
       " 31.5: array([10598.1, 12627.2,  7893.8, ...,     0. ,     0. ,     0. ]),\n",
       " 32.0: array([25325.3, 81799.5, 30324.9, ...,     0. ,     0. ,     0. ]),\n",
       " 33.0: array([ 6690.9, 37993.8,  7527.6, ...,     0. ,     0. ,     0. ]),\n",
       " 35.0: array([ 7430.3, 35459.1,  8456.6, ...,     0. ,     0. ,     0. ]),\n",
       " 35.5: array([16347.9, 54545.4, 13977.7, ...,     0. ,     0. ,     0. ]),\n",
       " 36.0: array([16305.7, 52896. , 16723.1, ...,     0. ,     0. ,     0. ]),\n",
       " 36.5: array([ 4601.4, 31274.6,  8084.2, ...,     0. ,     0. ,     0. ]),\n",
       " 37.0: array([14657.3, 32803.7,  7002.6, ...,     0. ,     0. ,     0. ]),\n",
       " 37.5: array([58689.3, 22827.9,  1566.6, ...,     0. ,     0. ,     0. ]),\n",
       " 38.0: array([46103.7, 28061. ,   818.6, ...,     0. ,     0. ,     0. ]),\n",
       " 39.0: array([61441.9, 41820.1,  1156. , ...,     0. ,     0. ,     0. ]),\n",
       " 3.0: array([102087.5,  33268.5,   2741.8, ...,      0. ,      0. ,      0. ]),\n",
       " 3.5: array([72408.9, 21876.3,  2809.2, ...,     0. ,     0. ,     0. ]),\n",
       " 42.0: array([71570.5, 26837.7,  2534.7, ...,     0. ,     0. ,     0. ]),\n",
       " 42.5: array([93495.8, 33469.1,  3652.7, ...,     0. ,     0. ,     0. ]),\n",
       " 43.0: array([27932.2, 47741.6, 10911.7, ...,     0. ,     0. ,     0. ]),\n",
       " 43.5: array([16260.2, 42964.1, 11323. , ...,     0. ,     0. ,     0. ]),\n",
       " 44.0: array([ 4598.9, 14844.4,  3817. , ...,     0. ,     0. ,     0. ]),\n",
       " 44.5: array([ 8202. , 40649. ,  9641.1, ...,     0. ,     0. ,     0. ]),\n",
       " 45.0: array([11094.5, 63555.2, 15846.2, ...,     0. ,     0. ,     0. ]),\n",
       " 45.5: array([ 7885.4, 46837.6, 28134.3, ...,     0. ,     0. ,     0. ]),\n",
       " 46.0: array([ 9978.7, 93121. , 37866.2, ...,     0. ,     0. ,     0. ]),\n",
       " 47.0: array([ 7168.8, 68452.5, 28195.8, ...,     0. ,     0. ,     0. ]),\n",
       " 4.0: array([ 10520.6, 108257.6,  47078.5, ...,      0. ,      0. ,      0. ]),\n",
       " 4.5: array([22830.6, 24607.6, 27054.9, ...,     0. ,     0. ,     0. ])}"
      ]
     },
     "execution_count": 5,
     "metadata": {},
     "output_type": "execute_result"
    }
   ],
   "source": [
    "mcnulty[0].reads"
   ]
  },
  {
   "cell_type": "code",
   "execution_count": 6,
   "metadata": {},
   "outputs": [
    {
     "data": {
      "text/html": [
       "<div>\n",
       "<style scoped>\n",
       "    .dataframe tbody tr th:only-of-type {\n",
       "        vertical-align: middle;\n",
       "    }\n",
       "\n",
       "    .dataframe tbody tr th {\n",
       "        vertical-align: top;\n",
       "    }\n",
       "\n",
       "    .dataframe thead th {\n",
       "        text-align: right;\n",
       "    }\n",
       "</style>\n",
       "<table border=\"1\" class=\"dataframe\">\n",
       "  <thead>\n",
       "    <tr style=\"text-align: right;\">\n",
       "      <th></th>\n",
       "      <th>name</th>\n",
       "      <th>sequence</th>\n",
       "      <th>kingdom</th>\n",
       "      <th>phylum</th>\n",
       "      <th>class</th>\n",
       "      <th>order</th>\n",
       "      <th>family</th>\n",
       "      <th>genus</th>\n",
       "      <th>species</th>\n",
       "    </tr>\n",
       "  </thead>\n",
       "  <tbody>\n",
       "    <tr>\n",
       "      <th>0</th>\n",
       "      <td>ASV_1</td>\n",
       "      <td>GACAGTATATCTTATCTTTATGATGCTGCGGGCAGGAAACTCCGTA...</td>\n",
       "      <td>Bacteria</td>\n",
       "      <td>Bacteroidetes</td>\n",
       "      <td>Bacteroidia</td>\n",
       "      <td>Bacteroidales</td>\n",
       "      <td>Bacteroidaceae</td>\n",
       "      <td>Phocaeicola</td>\n",
       "      <td>NaN</td>\n",
       "    </tr>\n",
       "    <tr>\n",
       "      <th>1</th>\n",
       "      <td>ASV_2</td>\n",
       "      <td>GAACTTTCCGATTTACCGACCCACATGCCAAGGACTTCTTTCAAAC...</td>\n",
       "      <td>Bacteria</td>\n",
       "      <td>Bacteroidetes</td>\n",
       "      <td>Bacteroidia</td>\n",
       "      <td>Bacteroidales</td>\n",
       "      <td>Bacteroidaceae</td>\n",
       "      <td>Bacteroides</td>\n",
       "      <td>fragilis/ovatus</td>\n",
       "    </tr>\n",
       "    <tr>\n",
       "      <th>2</th>\n",
       "      <td>ASV_3</td>\n",
       "      <td>TGTAAATGACCGTAAGGCACAGCATGAAGGCCGATGGTGTGCAGGT...</td>\n",
       "      <td>Bacteria</td>\n",
       "      <td>Verrucomicrobia</td>\n",
       "      <td>Verrucomicrobiae</td>\n",
       "      <td>Verrucomicrobiales</td>\n",
       "      <td>Akkermansiaceae</td>\n",
       "      <td>Akkermansia</td>\n",
       "      <td>muciniphila</td>\n",
       "    </tr>\n",
       "    <tr>\n",
       "      <th>3</th>\n",
       "      <td>ASV_4</td>\n",
       "      <td>TAGGTGCAGGTACAACTTTTGACCACTGTCAGGCATACTACGGTGA...</td>\n",
       "      <td>Bacteria</td>\n",
       "      <td>Bacteroidetes</td>\n",
       "      <td>Bacteroidia</td>\n",
       "      <td>Bacteroidales</td>\n",
       "      <td>Bacteroidaceae</td>\n",
       "      <td>Bacteroides</td>\n",
       "      <td>NaN</td>\n",
       "    </tr>\n",
       "    <tr>\n",
       "      <th>4</th>\n",
       "      <td>ASV_5</td>\n",
       "      <td>TCGTACTTGGTACGTTTGGTATGTAAAATCACCATCTACACCGGTA...</td>\n",
       "      <td>Bacteria</td>\n",
       "      <td>Verrucomicrobia</td>\n",
       "      <td>Verrucomicrobiae</td>\n",
       "      <td>Verrucomicrobiales</td>\n",
       "      <td>Akkermansiaceae</td>\n",
       "      <td>Akkermansia</td>\n",
       "      <td>muciniphila</td>\n",
       "    </tr>\n",
       "    <tr>\n",
       "      <th>...</th>\n",
       "      <td>...</td>\n",
       "      <td>...</td>\n",
       "      <td>...</td>\n",
       "      <td>...</td>\n",
       "      <td>...</td>\n",
       "      <td>...</td>\n",
       "      <td>...</td>\n",
       "      <td>...</td>\n",
       "      <td>...</td>\n",
       "    </tr>\n",
       "    <tr>\n",
       "      <th>1468</th>\n",
       "      <td>ASV_1469</td>\n",
       "      <td>TACGTAGGGTGCAAGCGTTAATCGGAATTACTGGGCGTAAAGGGTG...</td>\n",
       "      <td>Bacteria</td>\n",
       "      <td>Bacteroidetes</td>\n",
       "      <td>Bacteroidia</td>\n",
       "      <td>Bacteroidales</td>\n",
       "      <td>Porphyromonadaceae</td>\n",
       "      <td>Parabacteroides</td>\n",
       "      <td>NaN</td>\n",
       "    </tr>\n",
       "    <tr>\n",
       "      <th>1469</th>\n",
       "      <td>ASV_1470</td>\n",
       "      <td>TACGTAGGGGGCAAGCGTTATCCGGAATCATTGGGCGTAAAGGGTG...</td>\n",
       "      <td>Bacteria</td>\n",
       "      <td>Verrucomicrobia</td>\n",
       "      <td>Verrucomicrobiae</td>\n",
       "      <td>Verrucomicrobiales</td>\n",
       "      <td>Akkermansiaceae</td>\n",
       "      <td>Akkermansia</td>\n",
       "      <td>NaN</td>\n",
       "    </tr>\n",
       "    <tr>\n",
       "      <th>1470</th>\n",
       "      <td>ASV_1471</td>\n",
       "      <td>TACGTAGGGGGCAAGCGTTATCCGGAATCATTGGGCGTAAAGGGTG...</td>\n",
       "      <td>Bacteria</td>\n",
       "      <td>Verrucomicrobia</td>\n",
       "      <td>Verrucomicrobiae</td>\n",
       "      <td>Verrucomicrobiales</td>\n",
       "      <td>Akkermansiaceae</td>\n",
       "      <td>Akkermansia</td>\n",
       "      <td>NaN</td>\n",
       "    </tr>\n",
       "    <tr>\n",
       "      <th>1471</th>\n",
       "      <td>ASV_1472</td>\n",
       "      <td>TACAGAGGGTGCGAGCGTTAATCGGATTTACTGGGCGTAAAGCGTG...</td>\n",
       "      <td>Bacteria</td>\n",
       "      <td>Proteobacteria</td>\n",
       "      <td>Betaproteobacteria</td>\n",
       "      <td>Burkholderiales</td>\n",
       "      <td>Sutterellaceae</td>\n",
       "      <td>Parasutterella</td>\n",
       "      <td>NaN</td>\n",
       "    </tr>\n",
       "    <tr>\n",
       "      <th>1472</th>\n",
       "      <td>ASV_1473</td>\n",
       "      <td>TACGGAGGATGCGAGCGTTGTCCGGATTTATTGGGCGTAAAGCGAG...</td>\n",
       "      <td>Bacteria</td>\n",
       "      <td>Bacteroidetes</td>\n",
       "      <td>Bacteroidia</td>\n",
       "      <td>Bacteroidales</td>\n",
       "      <td>Porphyromonadaceae</td>\n",
       "      <td>Parabacteroides</td>\n",
       "      <td>NaN</td>\n",
       "    </tr>\n",
       "  </tbody>\n",
       "</table>\n",
       "<p>1473 rows × 9 columns</p>\n",
       "</div>"
      ],
      "text/plain": [
       "          name                                           sequence   kingdom  \\\n",
       "0        ASV_1  GACAGTATATCTTATCTTTATGATGCTGCGGGCAGGAAACTCCGTA...  Bacteria   \n",
       "1        ASV_2  GAACTTTCCGATTTACCGACCCACATGCCAAGGACTTCTTTCAAAC...  Bacteria   \n",
       "2        ASV_3  TGTAAATGACCGTAAGGCACAGCATGAAGGCCGATGGTGTGCAGGT...  Bacteria   \n",
       "3        ASV_4  TAGGTGCAGGTACAACTTTTGACCACTGTCAGGCATACTACGGTGA...  Bacteria   \n",
       "4        ASV_5  TCGTACTTGGTACGTTTGGTATGTAAAATCACCATCTACACCGGTA...  Bacteria   \n",
       "...        ...                                                ...       ...   \n",
       "1468  ASV_1469  TACGTAGGGTGCAAGCGTTAATCGGAATTACTGGGCGTAAAGGGTG...  Bacteria   \n",
       "1469  ASV_1470  TACGTAGGGGGCAAGCGTTATCCGGAATCATTGGGCGTAAAGGGTG...  Bacteria   \n",
       "1470  ASV_1471  TACGTAGGGGGCAAGCGTTATCCGGAATCATTGGGCGTAAAGGGTG...  Bacteria   \n",
       "1471  ASV_1472  TACAGAGGGTGCGAGCGTTAATCGGATTTACTGGGCGTAAAGCGTG...  Bacteria   \n",
       "1472  ASV_1473  TACGGAGGATGCGAGCGTTGTCCGGATTTATTGGGCGTAAAGCGAG...  Bacteria   \n",
       "\n",
       "               phylum               class               order  \\\n",
       "0       Bacteroidetes         Bacteroidia       Bacteroidales   \n",
       "1       Bacteroidetes         Bacteroidia       Bacteroidales   \n",
       "2     Verrucomicrobia    Verrucomicrobiae  Verrucomicrobiales   \n",
       "3       Bacteroidetes         Bacteroidia       Bacteroidales   \n",
       "4     Verrucomicrobia    Verrucomicrobiae  Verrucomicrobiales   \n",
       "...               ...                 ...                 ...   \n",
       "1468    Bacteroidetes         Bacteroidia       Bacteroidales   \n",
       "1469  Verrucomicrobia    Verrucomicrobiae  Verrucomicrobiales   \n",
       "1470  Verrucomicrobia    Verrucomicrobiae  Verrucomicrobiales   \n",
       "1471   Proteobacteria  Betaproteobacteria     Burkholderiales   \n",
       "1472    Bacteroidetes         Bacteroidia       Bacteroidales   \n",
       "\n",
       "                  family            genus          species  \n",
       "0         Bacteroidaceae      Phocaeicola              NaN  \n",
       "1         Bacteroidaceae      Bacteroides  fragilis/ovatus  \n",
       "2        Akkermansiaceae      Akkermansia      muciniphila  \n",
       "3         Bacteroidaceae      Bacteroides              NaN  \n",
       "4        Akkermansiaceae      Akkermansia      muciniphila  \n",
       "...                  ...              ...              ...  \n",
       "1468  Porphyromonadaceae  Parabacteroides              NaN  \n",
       "1469     Akkermansiaceae      Akkermansia              NaN  \n",
       "1470     Akkermansiaceae      Akkermansia              NaN  \n",
       "1471      Sutterellaceae   Parasutterella              NaN  \n",
       "1472  Porphyromonadaceae  Parabacteroides              NaN  \n",
       "\n",
       "[1473 rows x 9 columns]"
      ]
     },
     "execution_count": 6,
     "metadata": {},
     "output_type": "execute_result"
    }
   ],
   "source": [
    "mcnulty[0].taxa.taxonomy_table"
   ]
  }
 ],
 "metadata": {
  "kernelspec": {
   "display_name": "mdsine2",
   "language": "python",
   "name": "python3"
  },
  "language_info": {
   "codemirror_mode": {
    "name": "ipython",
    "version": 3
   },
   "file_extension": ".py",
   "mimetype": "text/x-python",
   "name": "python",
   "nbconvert_exporter": "python",
   "pygments_lexer": "ipython3",
   "version": "3.7.3"
  },
  "orig_nbformat": 4,
  "vscode": {
   "interpreter": {
    "hash": "97a3e53701e3aefb9c00075e2535ec5855d69d29da44f6f3c07d225dbb88465b"
   }
  }
 },
 "nbformat": 4,
 "nbformat_minor": 2
}
