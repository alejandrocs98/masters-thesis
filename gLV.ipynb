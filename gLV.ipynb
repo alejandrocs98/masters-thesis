{
 "cells": [
  {
   "cell_type": "code",
   "execution_count": 5,
   "metadata": {},
   "outputs": [],
   "source": [
    "import numpy as np\n",
    "from scipy import integrate, optimize\n",
    "import matplotlib.pyplot as plt; plt.rc('font', size=16)"
   ]
  },
  {
   "cell_type": "markdown",
   "metadata": {},
   "source": [
    "https://stackoverflow.com/questions/11278836/fitting-data-to-system-of-odes-using-python-via-scipy-numpy"
   ]
  },
  {
   "cell_type": "code",
   "execution_count": 55,
   "metadata": {},
   "outputs": [],
   "source": [
    "params_ex = {'growth': np.array([3.5, 3.3, 4]), 'cross_int': np.array([[-1.2, 6, -4], [-5, -1.5, 4], [5, -5.5, -2]])}\n",
    "x0_ex = np.array([0.5, 0.5, 0.5])\n",
    "t_span_ex = [0, 10]"
   ]
  },
  {
   "cell_type": "code",
   "execution_count": 57,
   "metadata": {},
   "outputs": [],
   "source": [
    "def gLV(x, t, params):\n",
    "    growth = params['growth']\n",
    "    cross_int = params['cross_int']\n",
    "\n",
    "    inter = np.sum([x[i]*cross_int[i,j] for i in range(len(x)) for j in range(len(x))])\n",
    "\n",
    "    return np.array([x[i]*(growth[i] + inter) for i in range(len(x))])\n",
    "\n",
    "def model(fun=gLV, t_span=t_span_ex, x0=x0_ex, params=params_ex):\n",
    "    return integrate.solve_ivp(lambda t, x: gLV(x, t, params), t_span, x0)\n",
    "\n",
    "def f_resid(x, t, params):\n",
    "    return y - model()[:,1]\n",
    "def optim(self, p_quess):\n",
    "    return optimize.leastsq(f_resid, p_guess) # fit params"
   ]
  },
  {
   "cell_type": "code",
   "execution_count": 60,
   "metadata": {},
   "outputs": [
    {
     "data": {
      "text/plain": [
       "  message: 'The solver successfully reached the end of the integration interval.'\n",
       "     nfev: 116\n",
       "     njev: 0\n",
       "      nlu: 0\n",
       "      sol: None\n",
       "   status: 0\n",
       "  success: True\n",
       "        t: array([ 0.        ,  0.09189965,  0.52018487,  0.94847009,  1.33412757,\n",
       "        1.83025795,  2.45978613,  3.3200543 ,  4.42712666,  5.11621175,\n",
       "        5.80529685,  6.73435217,  7.64941068,  8.47076647,  9.29212225,\n",
       "       10.        ])\n",
       " t_events: None\n",
       "        y: array([[5.00000000e-01, 5.60883042e-01, 7.13358559e-01, 6.97995072e-01,\n",
       "        6.34046602e-01, 5.37992096e-01, 4.21476409e-01, 2.89979314e-01,\n",
       "        1.72135240e-01, 1.23201688e-01, 8.77282593e-02, 5.52548264e-02,\n",
       "        3.49688971e-02, 2.31851127e-02, 1.53692829e-02, 1.07889065e-02],\n",
       "       [5.00000000e-01, 5.50668212e-01, 6.42885138e-01, 5.77494417e-01,\n",
       "        4.85647484e-01, 3.73147400e-01, 2.57745988e-01, 1.49294574e-01,\n",
       "        7.09990847e-02, 4.42699436e-02, 2.74640660e-02, 1.43637426e-02,\n",
       "        7.56875408e-03, 4.25730406e-03, 2.39420874e-03, 1.45872746e-03],\n",
       "       [5.00000000e-01, 5.87256818e-01, 9.25293812e-01, 1.12123971e+00,\n",
       "        1.23510535e+00, 1.34303659e+00, 1.44140200e+00, 1.52471456e+00,\n",
       "        1.57453779e+00, 1.59054682e+00, 1.59848740e+00, 1.60215468e+00,\n",
       "        1.60236406e+00, 1.60206798e+00, 1.60146697e+00, 1.60165379e+00]])\n",
       " y_events: None"
      ]
     },
     "execution_count": 60,
     "metadata": {},
     "output_type": "execute_result"
    }
   ],
   "source": [
    "sol = model()\n",
    "sol"
   ]
  },
  {
   "cell_type": "code",
   "execution_count": 59,
   "metadata": {},
   "outputs": [
    {
     "data": {
      "image/png": "[encoded data removed]",
      "text/plain": [
       "<Figure size 432x288 with 1 Axes>"
      ]
     },
     "metadata": {
      "needs_background": "light"
     },
     "output_type": "display_data"
    }
   ],
   "source": [
    "plt.plot(sol.t, sol.y[0])\n",
    "plt.plot(sol.t, sol.y[1])\n",
    "plt.plot(sol.t, sol.y[2])\n",
    "plt.show()"
   ]
  }
 ],
 "metadata": {
  "kernelspec": {
   "display_name": "Python 3.9.12 ('py-workspace')",
   "language": "python",
   "name": "python3"
  },
  "language_info": {
   "codemirror_mode": {
    "name": "ipython",
    "version": 3
   },
   "file_extension": ".py",
   "mimetype": "text/x-python",
   "name": "python",
   "nbconvert_exporter": "python",
   "pygments_lexer": "ipython3",
   "version": "3.9.12"
  },
  "orig_nbformat": 4,
  "vscode": {
   "interpreter": {
    "hash": "67e1b183269257b108814ffe1aa44c4eef790f1bf2a705144259c88ba2178622"
   }
  }
 },
 "nbformat": 4,
 "nbformat_minor": 2
}
