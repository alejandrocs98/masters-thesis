{
 "cells": [
  {
   "cell_type": "code",
   "execution_count": 1,
   "metadata": {},
   "outputs": [],
   "source": [
    "import numpy as np\n",
    "import pandas as pd\n",
    "from pathlib import Path\n",
    "import matplotlib.pyplot as plt; plt.rc('font', size=12)\n",
    "import seaborn as sns\n",
    "from scipy.stats import entropy\n",
    "from scipy.stats import percentileofscore"
   ]
  },
  {
   "cell_type": "code",
   "execution_count": null,
   "metadata": {},
   "outputs": [],
   "source": [
    "pretty_names_dir = {'B_caccae': '$B. caccae$',\n",
    "                'B_cellulosilyticus_WH2': '$B. cellulosilyticus$',\n",
    "                'B_ovatus': '$B. ovatus$',\n",
    "                'B_thetaiotaomicron': '$B. thetaiotaomicron$',\n",
    "                'B_uniformis': '$B. uniformis$',\n",
    "                'B_vulgatus': '$B. vulgatus$',\n",
    "                'C_aerofaciens': '$C. aerofaciens$',\n",
    "                'C_scindens': '$C. scindens$',\n",
    "                'C_spiroforme': '$C. spiroforme$',\n",
    "                # 'D_longicatena': '$D. longicatena$',\n",
    "                'P_distasonis': '$P. distasonis$',\n",
    "                'R_obeum': '$R. obeum$'\n",
    "                }\n",
    "\n",
    "abbr_names_dir = {'B_caccae': 'Bca',\n",
    "                'B_cellulosilyticus_WH2': 'Bce',\n",
    "                'B_ovatus': 'Bov',\n",
    "                'B_thetaiotaomicron': 'Bth',\n",
    "                'B_uniformis': 'Bun',\n",
    "                'B_vulgatus': 'Bvu',\n",
    "                'C_aerofaciens': 'Cae',\n",
    "                'C_scindens': 'Csc',\n",
    "                'C_spiroforme': 'Csp',\n",
    "                # 'D_longicatena': 'Dlo',\n",
    "                'P_distasonis': 'Pdi',\n",
    "                'R_obeum': 'Rob'\n",
    "                }\n",
    "\n",
    "pretty_names = [pretty_names_dir[taxa] for taxa in taxa]"
   ]
  },
  {
   "attachments": {},
   "cell_type": "markdown",
   "metadata": {},
   "source": [
    "## Transformación de las matrices de interacción --> Escala"
   ]
  },
  {
   "cell_type": "code",
   "execution_count": null,
   "metadata": {},
   "outputs": [],
   "source": [
    "def mask_by_bayes(interactions, inter_bayes):\n",
    "    inter_bayes = inter_bayes.copy()\n",
    "    interactions = interactions.copy()\n",
    "\n",
    "    inter_bayes_mask = inter_bayes > np.sqrt(10)\n",
    "    inter_bayes_mask = inter_bayes_mask.values\n",
    "    \n",
    "    interactions_matrix = interactions.values\n",
    "    interactions_masked = np.ma.masked_array(interactions_matrix, mask=~inter_bayes_mask)\n",
    "    interactions_masked = interactions_masked.filled(np.nan)\n",
    "    return interactions_masked\n",
    "\n",
    "def recirpocal(x):\n",
    "    x = x.copy()\n",
    "    for i in range(x.shape[0]):\n",
    "        for j in range(x.shape[1]):\n",
    "            if np.isnan(x[i,j]):\n",
    "                continue\n",
    "            x[i,j] = 1/x[i,j]\n",
    "    return x\n",
    "\n",
    "def mirror_transformation(x):\n",
    "    x = x.copy()\n",
    "    x_min = np.nanmin(x)\n",
    "    x_max = np.nanmax(x)\n",
    "    M = x_max + x_min\n",
    "    m = (2*x_max) - M\n",
    "    for i in range(x.shape[0]):\n",
    "        for j in range(x.shape[1]):\n",
    "            if np.isnan(x[i,j]):\n",
    "                continue\n",
    "            x[i,j] = (M - (x[i,j]-x_min)*(M-m)/(x_max-x_min))\n",
    "    return x\n",
    "\n",
    "def tranform_interaction_matrix(interactions, inter_bayes):\n",
    "    interactions_masked = mask_by_bayes(interactions, inter_bayes)\n",
    "    transformed_interaction_matrix = mirror_transformation(np.absolute(np.log10(np.absolute(interactions_masked)))) * np.sign(interactions_masked)\n",
    "    return transformed_interaction_matrix\n",
    "\n",
    "def min_max_norm(x):\n",
    "    x = x.values.copy()\n",
    "    x_max = np.nanmax(x)\n",
    "    x_min = np.nanmin(x)\n",
    "    for i in range(x.shape[0]):\n",
    "        for j in range(x.shape[1]):\n",
    "            if np.isnan(x[i,j]):\n",
    "                continue\n",
    "            x[i,j] = (x[i,j] - x_min) / (x_max - x_min)\n",
    "    return x"
   ]
  },
  {
   "attachments": {},
   "cell_type": "markdown",
   "metadata": {},
   "source": [
    "## Transformación de las matrices de interacción --> Normalización"
   ]
  },
  {
   "cell_type": "code",
   "execution_count": 19,
   "metadata": {},
   "outputs": [],
   "source": [
    "def shift_to_positive(x):\n",
    "    x = x.copy()\n",
    "    C = np.absolute(np.nanmin(x)) + 0.01\n",
    "    for i in range(x.shape[0]):\n",
    "        for j in range(x.shape[1]):\n",
    "            if np.isnan(x[i,j]):\n",
    "                x[i,j] = 0\n",
    "            else:\n",
    "                x[i,j] = x[i,j] + C\n",
    "    return x\n",
    "\n",
    "def sum_norm(x):\n",
    "    x = x.copy()\n",
    "    for i in range(x.shape[0]):\n",
    "        for j in range(x.shape[1]):\n",
    "            x[i,j] = x[i,j]/np.nansum(x)\n",
    "    return x\n",
    "\n",
    "\n",
    "def softmax(x):\n",
    "    x = x.copy()\n",
    "    for i in range(x.shape[0]):\n",
    "        for j in range(x.shape[1]):\n",
    "            if x[i,j] == 0:\n",
    "                x[i,j] = 0\n",
    "            else:\n",
    "                x[i,j] = np.exp(x[i,j])\n",
    "    x = x / np.sum(x)\n",
    "    return x"
   ]
  },
  {
   "attachments": {},
   "cell_type": "markdown",
   "metadata": {},
   "source": [
    "## Cargar matrices ecológicas"
   ]
  },
  {
   "cell_type": "code",
   "execution_count": null,
   "metadata": {},
   "outputs": [],
   "source": [
    "inter_bayes_lf0 = pd.read_table('mcnulty-results/mcnulty-LF0-seed96/posteriors/interactions/bayes_factors.tsv', index_col=0)\n",
    "interactions_lf0 = pd.read_table('mcnulty-results/mcnulty-LF0-seed96/posteriors/interactions/mean_matrix.tsv', index_col=0)\n",
    "inter_bayes_hf0 = pd.read_table('mcnulty-results/mcnulty-HF0-seed12/posteriors/interactions/bayes_factors.tsv', index_col=0)\n",
    "interactions_hf0 = pd.read_table('mcnulty-results/mcnulty-HF0-seed12/posteriors/interactions/mean_matrix.tsv', index_col=0)\n",
    "###\n",
    "eco_lf0 = pd.DataFrame(tranform_interaction_matrix(interactions_lf0, inter_bayes_lf0), \n",
    "                                                  index=pretty_names, \n",
    "                                                  columns=pretty_names)\n",
    "eco_hf0 = pd.DataFrame(tranform_interaction_matrix(interactions_hf0, inter_bayes_hf0), \n",
    "                                                  index=pretty_names, \n",
    "                                                  columns=pretty_names)"
   ]
  },
  {
   "attachments": {},
   "cell_type": "markdown",
   "metadata": {},
   "source": [
    "## Cargar matrices metabólicas"
   ]
  },
  {
   "cell_type": "code",
   "execution_count": 21,
   "metadata": {},
   "outputs": [],
   "source": [
    "metabo_carbo = pd.read_table('metabolic-modeling/metabolic-metrics/metaddinfo_carbo.tsv', index_col=0)\n",
    "metabo_amino = pd.read_table('metabolic-modeling/metabolic-metrics/metaddinfo_amino.tsv', index_col=0)\n",
    "metabo_carbo_amino = pd.read_table('metabolic-modeling/metabolic-metrics/metaddinfo_carbo_amino.tsv', index_col=0)\n",
    "metabo_int = pd.read_table('metabolic-modeling/metabolic-metrics/metaddinfo_ECs_int.tsv', index_col=0)"
   ]
  },
  {
   "cell_type": "code",
   "execution_count": 22,
   "metadata": {},
   "outputs": [
    {
     "name": "stdout",
     "output_type": "stream",
     "text": [
      "0.1579356499514533\n"
     ]
    }
   ],
   "source": [
    "# matrix1 = softmax(eco_lf0.values)\n",
    "matrix1 = shift_to_positive(eco_lf0.values)\n",
    "# matrix2 = metabo_carbo.values/metabo_carbo.values.sum()\n",
    "matrix2 = metabo_carbo.values\n",
    "\n",
    "mean_matrix = (matrix1 + matrix2) / 2\n",
    "js_div = (entropy(matrix1.flatten(), mean_matrix.flatten()) + entropy(matrix2.flatten(), mean_matrix.flatten())) / 2\n",
    "print(js_div)"
   ]
  },
  {
   "cell_type": "code",
   "execution_count": 31,
   "metadata": {},
   "outputs": [
    {
     "name": "stdout",
     "output_type": "stream",
     "text": [
      "0.08304812116910543\n"
     ]
    }
   ],
   "source": [
    "# matrix1 = softmax(eco_lf0.values)\n",
    "matrix1 = sum_norm(shift_to_positive(eco_lf0.values))\n",
    "# matrix2 = metabo_carbo.values/metabo_carbo.values.sum()\n",
    "matrix2 = sum_norm(metabo_carbo.values)\n",
    "\n",
    "mean_matrix = (matrix1 + matrix2) / 2\n",
    "js_div = (entropy(matrix1.flatten(), mean_matrix.flatten()) + entropy(matrix2.flatten(), mean_matrix.flatten())) / 2\n",
    "print(js_div)"
   ]
  },
  {
   "cell_type": "code",
   "execution_count": 34,
   "metadata": {},
   "outputs": [
    {
     "data": {
      "text/plain": [
       "0.8382000000000001"
      ]
     },
     "execution_count": 34,
     "metadata": {},
     "output_type": "execute_result"
    }
   ],
   "source": [
    "# js null distribution\n",
    "js_null = []\n",
    "for i in range(10000):\n",
    "    matrix1 = sum_norm(shift_to_positive(eco_lf0.values))\n",
    "    matrix2_shuffled = np.random.permutation(sum_norm(metabo_carbo.values))\n",
    "    mean_matrix = (matrix1 + matrix2_shuffled) / 2\n",
    "    js_div = (entropy(matrix1.flatten(), mean_matrix.flatten()) + entropy(matrix2_shuffled.flatten(), mean_matrix.flatten())) / 2\n",
    "    js_null.append(js_div)\n",
    "js_null = np.array(js_null)\n",
    "\n",
    "p_value_ss = percentileofscore(js_null, js_div) / 100\n",
    "p_value_ss"
   ]
  },
  {
   "cell_type": "code",
   "execution_count": 25,
   "metadata": {},
   "outputs": [
    {
     "name": "stdout",
     "output_type": "stream",
     "text": [
      "LF0 ecological interactions with carbohydrate metabolism js divergence: 0.08304812116910543\n",
      "LF0 ecological interactions with amino acid metabolism js divergence: 0.10523692868109667\n",
      "HF0 ecological interactions with carbohydrate metabolism js divergence: 0.19778242066776275\n",
      "HF0 ecological interactions with amino acid metabolism js divergence: 0.14681350022249515\n"
     ]
    }
   ],
   "source": [
    "eco = [eco_lf0, eco_hf0]\n",
    "eco_name = ['LF0', 'HF0']\n",
    "metabo = [metabo_carbo, metabo_amino]\n",
    "metabo_name = ['carbohydrate', 'amino acid']\n",
    "for i in range(len(eco)):\n",
    "    for j in range(len(metabo)):\n",
    "        matrix1 = sum_norm(shift_to_positive(eco[i].values))\n",
    "        matrix2 = sum_norm(metabo[j].values)\n",
    "        mean_matrix = (matrix1 + matrix2) / 2\n",
    "        js_div = (entropy(matrix1.flatten(), mean_matrix.flatten()) + entropy(matrix2.flatten(), mean_matrix.flatten())) / 2\n",
    "        print(f'{eco_name[i]} ecological interactions with {metabo_name[j]} metabolism js divergence: {js_div}')"
   ]
  },
  {
   "cell_type": "code",
   "execution_count": 26,
   "metadata": {},
   "outputs": [
    {
     "name": "stdout",
     "output_type": "stream",
     "text": [
      "LF0 ecological interactions with carbohydrate and amino acid metabolism js divergence: 0.08150406185115816\n",
      "HF0 ecological interactions with carbohydrate and amino acid metabolism js divergence: 0.16349277144994043\n"
     ]
    }
   ],
   "source": [
    "for i in range(len(eco)):\n",
    "    matrix1 = sum_norm(shift_to_positive(eco[i].values))\n",
    "    matrix2 = sum_norm(metabo_carbo_amino.values)\n",
    "    mean_matrix = (matrix1 + matrix2) / 2\n",
    "    js_div = (entropy(matrix1.flatten(), mean_matrix.flatten()) + entropy(matrix2.flatten(), mean_matrix.flatten())) / 2\n",
    "    print(f'{eco_name[i]} ecological interactions with carbohydrate and amino acid metabolism js divergence: {js_div}')"
   ]
  },
  {
   "cell_type": "code",
   "execution_count": 27,
   "metadata": {},
   "outputs": [
    {
     "name": "stdout",
     "output_type": "stream",
     "text": [
      "LF0 ecological interactions with carbohydrate and amino acid metabolism js divergence: 0.07925671922610927\n"
     ]
    }
   ],
   "source": [
    "matrix1 = sum_norm(shift_to_positive(eco_lf0.values))\n",
    "matrix2 = sum_norm(metabo_int.values)\n",
    "mean_matrix = (matrix1 + matrix2) / 2\n",
    "js_div = (entropy(matrix1.flatten(), mean_matrix.flatten()) + entropy(matrix2.flatten(), mean_matrix.flatten())) / 2\n",
    "print(f'LF0 ecological interactions with carbohydrate and amino acid metabolism js divergence: {js_div}')"
   ]
  },
  {
   "cell_type": "code",
   "execution_count": 28,
   "metadata": {},
   "outputs": [
    {
     "name": "stdout",
     "output_type": "stream",
     "text": [
      "LF0 ecological interactions with carbohydrate and amino acid metabolism js divergence: 0.14729807242092546\n"
     ]
    }
   ],
   "source": [
    "matrix1 = sum_norm(shift_to_positive(eco_hf0.values))\n",
    "matrix2 = sum_norm(metabo_int.values)\n",
    "mean_matrix = (matrix1 + matrix2) / 2\n",
    "js_div = (entropy(matrix1.flatten(), mean_matrix.flatten()) + entropy(matrix2.flatten(), mean_matrix.flatten())) / 2\n",
    "print(f'HF0 ecological interactions with carbohydrate and amino acid metabolism js divergence: {js_div}')"
   ]
  }
 ],
 "metadata": {
  "kernelspec": {
   "display_name": "matrix-analysis",
   "language": "python",
   "name": "python3"
  },
  "language_info": {
   "codemirror_mode": {
    "name": "ipython",
    "version": 3
   },
   "file_extension": ".py",
   "mimetype": "text/x-python",
   "name": "python",
   "nbconvert_exporter": "python",
   "pygments_lexer": "ipython3",
   "version": "3.11.2"
  },
  "orig_nbformat": 4,
  "vscode": {
   "interpreter": {
    "hash": "ecfd9f404a1b1fa608b8aca284508632db504aef05723c7f61a893faf02cd0fa"
   }
  }
 },
 "nbformat": 4,
 "nbformat_minor": 2
}
