{
 "cells": [
  {
   "cell_type": "code",
   "execution_count": 1,
   "metadata": {},
   "outputs": [],
   "source": [
    "import numpy as np\n",
    "import pandas as pd\n",
    "from pathlib import Path\n",
    "import matplotlib.pyplot as plt; plt.rc('font', size=12)\n",
    "import seaborn as sns\n",
    "from scipy.stats import entropy\n",
    "import re"
   ]
  },
  {
   "cell_type": "code",
   "execution_count": 2,
   "metadata": {},
   "outputs": [],
   "source": [
    "def norm(x):\n",
    "    x = x.copy()\n",
    "    for i in range(x.shape[0]):\n",
    "        for j in range(x.shape[1]):\n",
    "            if np.isnan(x[i,j]):\n",
    "                continue\n",
    "            x[i,j] = (x[i,j] - x_min) / (x_max - x_min)\n",
    "    x = x\n",
    "    return x\n",
    "\n",
    "def softmax(x):\n",
    "    x = x.copy()\n",
    "    for i in range(x.shape[0]):\n",
    "        for j in range(x.shape[1]):\n",
    "            if np.isnan(x[i,j]):\n",
    "                x[i,j] = 0\n",
    "            elif x[i,j] == 0:\n",
    "                x[i,j] = 0\n",
    "            else:\n",
    "                x[i,j] = np.exp(x[i,j])\n",
    "    x = x / np.sum(x)\n",
    "    return x\n",
    "\n",
    "def softmin(x):\n",
    "    x = x.copy()\n",
    "    for i in range(x.shape[0]):\n",
    "        for j in range(x.shape[1]):\n",
    "            if np.isnan(x[i,j]):\n",
    "                x[i,j] = 0\n",
    "            elif x[i,j] == 0:\n",
    "                x[i,j] = 0\n",
    "            else:\n",
    "                x[i,j] = np.exp(-x[i,j])\n",
    "    x = x / np.sum(x)\n",
    "    return x"
   ]
  },
  {
   "cell_type": "code",
   "execution_count": 3,
   "metadata": {},
   "outputs": [],
   "source": [
    "eco_lf0 = pd.read_table('ecological-modeling/mcnulty-results/mcnulty-LF0-seed96/posteriors/interactions/mean_matrix_transf.tsv', index_col=0)\n",
    "eco_hf0 = pd.read_table('ecological-modeling/mcnulty-results/mcnulty-HF0-seed12/posteriors/interactions/mean_matrix_transf.tsv', index_col=0)"
   ]
  },
  {
   "cell_type": "code",
   "execution_count": 21,
   "metadata": {},
   "outputs": [],
   "source": [
    "metabo_carbo = pd.read_table('metabolic-modeling/metabolic-metrics/metaddinfo_carbo.tsv', index_col=0)\n",
    "metabo_amino = pd.read_table('metabolic-modeling/metabolic-metrics/metaddinfo_amino.tsv', index_col=0)\n",
    "metabo_carbo_amino = pd.read_table('metabolic-modeling/metabolic-metrics/metaddinfo_carbo_amino.tsv', index_col=0)\n",
    "metabo_int = pd.read_table('metabolic-modeling/metabolic-metrics/metaddinfo_ecs_int.tsv', index_col=0)"
   ]
  },
  {
   "cell_type": "code",
   "execution_count": 12,
   "metadata": {},
   "outputs": [],
   "source": [
    "matrix1 = softmax(eco_lf0.values)\n",
    "matrix2 = metabo_carbo.values/metabo_carbo.values.sum()"
   ]
  },
  {
   "cell_type": "code",
   "execution_count": 13,
   "metadata": {},
   "outputs": [
    {
     "data": {
      "text/plain": [
       "array([[0.        , 0.        , 0.00946971, 0.00954   , 0.        ,\n",
       "        0.        , 0.00939873, 0.00960442, 0.00935801, 0.00957114,\n",
       "        0.00944721],\n",
       "       [0.        , 0.        , 0.00943774, 0.00948399, 0.01189121,\n",
       "        0.01170362, 0.00931945, 0.01169358, 0.00934644, 0.00953896,\n",
       "        0.00939709],\n",
       "       [0.01174408, 0.0117909 , 0.        , 0.0096015 , 0.0119094 ,\n",
       "        0.01173912, 0.00935735, 0.00959649, 0.00940886, 0.00952462,\n",
       "        0.00948407],\n",
       "       [0.        , 0.        , 0.00959973, 0.        , 0.01168062,\n",
       "        0.        , 0.00944504, 0.01181549, 0.00944817, 0.00957407,\n",
       "        0.00954484],\n",
       "       [0.        , 0.0116835 , 0.00959049, 0.00961549, 0.        ,\n",
       "        0.01168789, 0.00941039, 0.01182725, 0.00945689, 0.00956098,\n",
       "        0.0095112 ],\n",
       "       [0.        , 0.01171181, 0.00963029, 0.00961591, 0.01181787,\n",
       "        0.        , 0.00943407, 0.01178458, 0.0094009 , 0.00964986,\n",
       "        0.009607  ],\n",
       "       [0.00961384, 0.00965902, 0.00959145, 0.00955506, 0.0094639 ,\n",
       "        0.00958816, 0.        , 0.0094748 , 0.00951342, 0.00945475,\n",
       "        0.00949942],\n",
       "       [0.01170821, 0.        , 0.00951014, 0.00960923, 0.01178525,\n",
       "        0.01170315, 0.00941181, 0.        , 0.00940727, 0.0095795 ,\n",
       "        0.00946717],\n",
       "       [0.00958421, 0.01173518, 0.00958292, 0.00947093, 0.00949943,\n",
       "        0.0097158 , 0.00934434, 0.00947762, 0.        , 0.00945498,\n",
       "        0.00943434],\n",
       "       [0.00965246, 0.01184133, 0.01181822, 0.00957739, 0.0096678 ,\n",
       "        0.01170926, 0.0094254 , 0.00954081, 0.00955293, 0.        ,\n",
       "        0.01173246],\n",
       "       [0.        , 0.01167578, 0.0095347 , 0.00957408, 0.01174362,\n",
       "        0.01164885, 0.00939127, 0.00955601, 0.00946461, 0.00953567,\n",
       "        0.        ]])"
      ]
     },
     "execution_count": 13,
     "metadata": {},
     "output_type": "execute_result"
    }
   ],
   "source": [
    "matrix1"
   ]
  },
  {
   "cell_type": "code",
   "execution_count": 16,
   "metadata": {},
   "outputs": [
    {
     "data": {
      "text/plain": [
       "array([[0.        , 0.01776371, 0.01387999, 0.0138098 , 0.0109049 ,\n",
       "        0.00989032, 0.00126274, 0.00295343, 0.00364784, 0.00631522,\n",
       "        0.00351664],\n",
       "       [0.00316931, 0.        , 0.00246572, 0.00281437, 0.00167869,\n",
       "        0.00218615, 0.00083872, 0.00295343, 0.00394591, 0.00362784,\n",
       "        0.00351664],\n",
       "       [0.00138068, 0.00456081, 0.        , 0.00246854, 0.0038096 ,\n",
       "        0.00087847, 0.00083872, 0.00252941, 0.00407186, 0.00236792,\n",
       "        0.00351664],\n",
       "       [0.00229477, 0.00589374, 0.00345282, 0.        , 0.00517815,\n",
       "        0.00179256, 0.00083872, 0.00252941, 0.00317606, 0.00329932,\n",
       "        0.00351664],\n",
       "       [0.00298021, 0.00834839, 0.00838422, 0.00876848, 0.        ,\n",
       "        0.0067544 , 0.00083872, 0.00295343, 0.00381892, 0.00351299,\n",
       "        0.00301864],\n",
       "       [0.00399603, 0.01088625, 0.00748349, 0.0074133 , 0.0087848 ,\n",
       "        0.        , 0.00083872, 0.00295343, 0.0049199 , 0.00461914,\n",
       "        0.00351664],\n",
       "       [0.01518201, 0.02935239, 0.0272573 , 0.02627302, 0.02268268,\n",
       "        0.02065228, 0.        , 0.00412027, 0.0074912 , 0.01625385,\n",
       "        0.00581647],\n",
       "       [0.01465855, 0.02925295, 0.02673383, 0.02574956, 0.02258324,\n",
       "        0.02055284, 0.00190612, 0.        , 0.00672385, 0.01573038,\n",
       "        0.00486506],\n",
       "       [0.01187091, 0.02676338, 0.02479423, 0.02291416, 0.01996669,\n",
       "        0.01903726, 0.001795  , 0.0032418 , 0.        , 0.01331901,\n",
       "        0.0050886 ],\n",
       "       [0.00524339, 0.0171504 , 0.01379539, 0.01374252, 0.01036584,\n",
       "        0.0094416 , 0.00126274, 0.00295343, 0.0040241 , 0.        ,\n",
       "        0.00269297],\n",
       "       [0.01288218, 0.02747658, 0.02538149, 0.02439721, 0.02030887,\n",
       "        0.01877648, 0.00126274, 0.00252548, 0.00623108, 0.01313035,\n",
       "        0.        ]])"
      ]
     },
     "execution_count": 16,
     "metadata": {},
     "output_type": "execute_result"
    }
   ],
   "source": [
    "matrix2"
   ]
  },
  {
   "cell_type": "code",
   "execution_count": 17,
   "metadata": {},
   "outputs": [
    {
     "name": "stdout",
     "output_type": "stream",
     "text": [
      "LF0 ecological interactions with carbohydrate metabolism js divergence: 0.1266268993041118\n",
      "LF0 ecological interactions with amino acid metabolism js divergence: 0.09200746345395415\n",
      "HF0 ecological interactions with carbohydrate metabolism js divergence: 0.22595808897158037\n",
      "HF0 ecological interactions with amino acid metabolism js divergence: 0.15818782243975527\n"
     ]
    }
   ],
   "source": [
    "eco = [eco_lf0, eco_hf0]\n",
    "eco_name = ['LF0', 'HF0']\n",
    "metabo = [metabo_carbo, metabo_amino]\n",
    "metabo_name = ['carbohydrate', 'amino acid']\n",
    "for i in range(len(eco)):\n",
    "    for j in range(len(metabo)):\n",
    "        matrix1 = softmax(eco[i].values)\n",
    "        matrix2 = metabo[j].values/metabo[j].values.sum()\n",
    "        mean_matrix = (matrix1 + matrix2) / 2\n",
    "        js_div = (entropy(matrix1.flatten(), mean_matrix.flatten()) + entropy(matrix2.flatten(), mean_matrix.flatten())) / 2\n",
    "        print(f'{eco_name[i]} ecological interactions with {metabo_name[j]} metabolism js divergence: {js_div}')"
   ]
  },
  {
   "cell_type": "code",
   "execution_count": 19,
   "metadata": {},
   "outputs": [
    {
     "name": "stdout",
     "output_type": "stream",
     "text": [
      "LF0 ecological interactions with carbohydrate and amino acid metabolism js divergence: 0.09117987906608682\n",
      "HF0 ecological interactions with carbohydrate and amino acid metabolism js divergence: 0.1785906549315783\n"
     ]
    }
   ],
   "source": [
    "for i in range(len(eco)):\n",
    "    matrix1 = softmax(eco[i].values)\n",
    "    matrix2 = metabo_carbo_amino.values/metabo_carbo_amino.values.sum()\n",
    "    mean_matrix = (matrix1 + matrix2) / 2\n",
    "    js_div = (entropy(matrix1.flatten(), mean_matrix.flatten()) + entropy(matrix2.flatten(), mean_matrix.flatten())) / 2\n",
    "    print(f'{eco_name[i]} ecological interactions with carbohydrate and amino acid metabolism js divergence: {js_div}')"
   ]
  },
  {
   "cell_type": "code",
   "execution_count": 22,
   "metadata": {},
   "outputs": [
    {
     "name": "stdout",
     "output_type": "stream",
     "text": [
      "HF0 ecological interactions with carbohydrate and amino acid metabolism js divergence: 0.0761122000657101\n"
     ]
    }
   ],
   "source": [
    "matrix1 = softmax(eco_lf0.values)\n",
    "matrix2 = metabo_int.values/metabo_int.values.sum()\n",
    "mean_matrix = (matrix1 + matrix2) / 2\n",
    "js_div = (entropy(matrix1.flatten(), mean_matrix.flatten()) + entropy(matrix2.flatten(), mean_matrix.flatten())) / 2\n",
    "print(f'{eco_name[i]} ecological interactions with carbohydrate and amino acid metabolism js divergence: {js_div}')"
   ]
  },
  {
   "cell_type": "code",
   "execution_count": 23,
   "metadata": {},
   "outputs": [
    {
     "name": "stdout",
     "output_type": "stream",
     "text": [
      "HF0 ecological interactions with carbohydrate and amino acid metabolism js divergence: 0.15484177224652054\n"
     ]
    }
   ],
   "source": [
    "matrix1 = softmax(eco_hf0.values)\n",
    "matrix2 = metabo_int.values/metabo_int.values.sum()\n",
    "mean_matrix = (matrix1 + matrix2) / 2\n",
    "js_div = (entropy(matrix1.flatten(), mean_matrix.flatten()) + entropy(matrix2.flatten(), mean_matrix.flatten())) / 2\n",
    "print(f'{eco_name[i]} ecological interactions with carbohydrate and amino acid metabolism js divergence: {js_div}')"
   ]
  }
 ],
 "metadata": {
  "kernelspec": {
   "display_name": "matrix-analysis",
   "language": "python",
   "name": "python3"
  },
  "language_info": {
   "codemirror_mode": {
    "name": "ipython",
    "version": 3
   },
   "file_extension": ".py",
   "mimetype": "text/x-python",
   "name": "python",
   "nbconvert_exporter": "python",
   "pygments_lexer": "ipython3",
   "version": "3.11.2"
  },
  "orig_nbformat": 4
 },
 "nbformat": 4,
 "nbformat_minor": 2
}
