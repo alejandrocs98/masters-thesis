{
 "cells": [
  {
   "cell_type": "code",
   "execution_count": 1,
   "metadata": {},
   "outputs": [],
   "source": [
    "import numpy as np\n",
    "import pandas as pd\n",
    "from pathlib import Path\n",
    "import matplotlib.pyplot as plt; plt.rc('font', size=12)\n",
    "import seaborn as sns\n",
    "from scipy.stats import entropy\n",
    "from scipy.stats import percentileofscore\n",
    "import re"
   ]
  },
  {
   "cell_type": "code",
   "execution_count": 19,
   "metadata": {},
   "outputs": [],
   "source": [
    "def shift_to_positive(x):\n",
    "    x = x.copy()\n",
    "    C = np.absolute(np.nanmin(x)) + 0.01\n",
    "    for i in range(x.shape[0]):\n",
    "        for j in range(x.shape[1]):\n",
    "            if np.isnan(x[i,j]):\n",
    "                x[i,j] = 0\n",
    "            else:\n",
    "                x[i,j] = x[i,j] + C\n",
    "    return x\n",
    "\n",
    "def sum_norm(x):\n",
    "    x = x.copy()\n",
    "    for i in range(x.shape[0]):\n",
    "        for j in range(x.shape[1]):\n",
    "            x[i,j] = x[i,j]/np.nansum(x)\n",
    "    return x\n",
    "\n",
    "\n",
    "def softmax(x):\n",
    "    x = x.copy()\n",
    "    for i in range(x.shape[0]):\n",
    "        for j in range(x.shape[1]):\n",
    "            if x[i,j] == 0:\n",
    "                x[i,j] = 0\n",
    "            else:\n",
    "                x[i,j] = np.exp(x[i,j])\n",
    "    x = x / np.sum(x)\n",
    "    return x"
   ]
  },
  {
   "cell_type": "code",
   "execution_count": 20,
   "metadata": {},
   "outputs": [],
   "source": [
    "eco_lf0 = pd.read_table('ecological-modeling/mcnulty-results/mcnulty-LF0-seed96/posteriors/interactions/mean_matrix_transf.tsv', index_col=0)\n",
    "eco_hf0 = pd.read_table('ecological-modeling/mcnulty-results/mcnulty-HF0-seed12/posteriors/interactions/mean_matrix_transf.tsv', index_col=0)"
   ]
  },
  {
   "cell_type": "code",
   "execution_count": 21,
   "metadata": {},
   "outputs": [],
   "source": [
    "metabo_carbo = pd.read_table('metabolic-modeling/metabolic-metrics/metaddinfo_carbo.tsv', index_col=0)\n",
    "metabo_amino = pd.read_table('metabolic-modeling/metabolic-metrics/metaddinfo_amino.tsv', index_col=0)\n",
    "metabo_carbo_amino = pd.read_table('metabolic-modeling/metabolic-metrics/metaddinfo_carbo_amino.tsv', index_col=0)\n",
    "metabo_int = pd.read_table('metabolic-modeling/metabolic-metrics/metaddinfo_ECs_int.tsv', index_col=0)"
   ]
  },
  {
   "cell_type": "code",
   "execution_count": 22,
   "metadata": {},
   "outputs": [
    {
     "name": "stdout",
     "output_type": "stream",
     "text": [
      "0.1579356499514533\n"
     ]
    }
   ],
   "source": [
    "# matrix1 = softmax(eco_lf0.values)\n",
    "matrix1 = shift_to_positive(eco_lf0.values)\n",
    "# matrix2 = metabo_carbo.values/metabo_carbo.values.sum()\n",
    "matrix2 = metabo_carbo.values\n",
    "\n",
    "mean_matrix = (matrix1 + matrix2) / 2\n",
    "js_div = (entropy(matrix1.flatten(), mean_matrix.flatten()) + entropy(matrix2.flatten(), mean_matrix.flatten())) / 2\n",
    "print(js_div)"
   ]
  },
  {
   "cell_type": "code",
   "execution_count": 31,
   "metadata": {},
   "outputs": [
    {
     "name": "stdout",
     "output_type": "stream",
     "text": [
      "0.08304812116910543\n"
     ]
    }
   ],
   "source": [
    "# matrix1 = softmax(eco_lf0.values)\n",
    "matrix1 = sum_norm(shift_to_positive(eco_lf0.values))\n",
    "# matrix2 = metabo_carbo.values/metabo_carbo.values.sum()\n",
    "matrix2 = sum_norm(metabo_carbo.values)\n",
    "\n",
    "mean_matrix = (matrix1 + matrix2) / 2\n",
    "js_div = (entropy(matrix1.flatten(), mean_matrix.flatten()) + entropy(matrix2.flatten(), mean_matrix.flatten())) / 2\n",
    "print(js_div)"
   ]
  },
  {
   "cell_type": "code",
   "execution_count": 34,
   "metadata": {},
   "outputs": [
    {
     "data": {
      "text/plain": [
       "0.8382000000000001"
      ]
     },
     "execution_count": 34,
     "metadata": {},
     "output_type": "execute_result"
    }
   ],
   "source": [
    "# js null distribution\n",
    "js_null = []\n",
    "for i in range(10000):\n",
    "    matrix1 = sum_norm(shift_to_positive(eco_lf0.values))\n",
    "    matrix2_shuffled = np.random.permutation(sum_norm(metabo_carbo.values))\n",
    "    mean_matrix = (matrix1 + matrix2_shuffled) / 2\n",
    "    js_div = (entropy(matrix1.flatten(), mean_matrix.flatten()) + entropy(matrix2_shuffled.flatten(), mean_matrix.flatten())) / 2\n",
    "    js_null.append(js_div)\n",
    "js_null = np.array(js_null)\n",
    "\n",
    "p_value_ss = percentileofscore(js_null, js_div) / 100\n",
    "p_value_ss"
   ]
  },
  {
   "cell_type": "code",
   "execution_count": 25,
   "metadata": {},
   "outputs": [
    {
     "name": "stdout",
     "output_type": "stream",
     "text": [
      "LF0 ecological interactions with carbohydrate metabolism js divergence: 0.08304812116910543\n",
      "LF0 ecological interactions with amino acid metabolism js divergence: 0.10523692868109667\n",
      "HF0 ecological interactions with carbohydrate metabolism js divergence: 0.19778242066776275\n",
      "HF0 ecological interactions with amino acid metabolism js divergence: 0.14681350022249515\n"
     ]
    }
   ],
   "source": [
    "eco = [eco_lf0, eco_hf0]\n",
    "eco_name = ['LF0', 'HF0']\n",
    "metabo = [metabo_carbo, metabo_amino]\n",
    "metabo_name = ['carbohydrate', 'amino acid']\n",
    "for i in range(len(eco)):\n",
    "    for j in range(len(metabo)):\n",
    "        matrix1 = sum_norm(shift_to_positive(eco[i].values))\n",
    "        matrix2 = sum_norm(metabo[j].values)\n",
    "        mean_matrix = (matrix1 + matrix2) / 2\n",
    "        js_div = (entropy(matrix1.flatten(), mean_matrix.flatten()) + entropy(matrix2.flatten(), mean_matrix.flatten())) / 2\n",
    "        print(f'{eco_name[i]} ecological interactions with {metabo_name[j]} metabolism js divergence: {js_div}')"
   ]
  },
  {
   "cell_type": "code",
   "execution_count": 26,
   "metadata": {},
   "outputs": [
    {
     "name": "stdout",
     "output_type": "stream",
     "text": [
      "LF0 ecological interactions with carbohydrate and amino acid metabolism js divergence: 0.08150406185115816\n",
      "HF0 ecological interactions with carbohydrate and amino acid metabolism js divergence: 0.16349277144994043\n"
     ]
    }
   ],
   "source": [
    "for i in range(len(eco)):\n",
    "    matrix1 = sum_norm(shift_to_positive(eco[i].values))\n",
    "    matrix2 = sum_norm(metabo_carbo_amino.values)\n",
    "    mean_matrix = (matrix1 + matrix2) / 2\n",
    "    js_div = (entropy(matrix1.flatten(), mean_matrix.flatten()) + entropy(matrix2.flatten(), mean_matrix.flatten())) / 2\n",
    "    print(f'{eco_name[i]} ecological interactions with carbohydrate and amino acid metabolism js divergence: {js_div}')"
   ]
  },
  {
   "cell_type": "code",
   "execution_count": 27,
   "metadata": {},
   "outputs": [
    {
     "name": "stdout",
     "output_type": "stream",
     "text": [
      "LF0 ecological interactions with carbohydrate and amino acid metabolism js divergence: 0.07925671922610927\n"
     ]
    }
   ],
   "source": [
    "matrix1 = sum_norm(shift_to_positive(eco_lf0.values))\n",
    "matrix2 = sum_norm(metabo_int.values)\n",
    "mean_matrix = (matrix1 + matrix2) / 2\n",
    "js_div = (entropy(matrix1.flatten(), mean_matrix.flatten()) + entropy(matrix2.flatten(), mean_matrix.flatten())) / 2\n",
    "print(f'LF0 ecological interactions with carbohydrate and amino acid metabolism js divergence: {js_div}')"
   ]
  },
  {
   "cell_type": "code",
   "execution_count": 28,
   "metadata": {},
   "outputs": [
    {
     "name": "stdout",
     "output_type": "stream",
     "text": [
      "LF0 ecological interactions with carbohydrate and amino acid metabolism js divergence: 0.14729807242092546\n"
     ]
    }
   ],
   "source": [
    "matrix1 = sum_norm(shift_to_positive(eco_hf0.values))\n",
    "matrix2 = sum_norm(metabo_int.values)\n",
    "mean_matrix = (matrix1 + matrix2) / 2\n",
    "js_div = (entropy(matrix1.flatten(), mean_matrix.flatten()) + entropy(matrix2.flatten(), mean_matrix.flatten())) / 2\n",
    "print(f'HF0 ecological interactions with carbohydrate and amino acid metabolism js divergence: {js_div}')"
   ]
  }
 ],
 "metadata": {
  "kernelspec": {
   "display_name": "matrix-analysis",
   "language": "python",
   "name": "python3"
  },
  "language_info": {
   "codemirror_mode": {
    "name": "ipython",
    "version": 3
   },
   "file_extension": ".py",
   "mimetype": "text/x-python",
   "name": "python",
   "nbconvert_exporter": "python",
   "pygments_lexer": "ipython3",
   "version": "3.11.2"
  },
  "orig_nbformat": 4,
  "vscode": {
   "interpreter": {
    "hash": "ecfd9f404a1b1fa608b8aca284508632db504aef05723c7f61a893faf02cd0fa"
   }
  }
 },
 "nbformat": 4,
 "nbformat_minor": 2
}
