{
 "cells": [
  {
   "cell_type": "code",
   "execution_count": 104,
   "metadata": {},
   "outputs": [],
   "source": [
    "import numpy as np\n",
    "import pandas as pd\n",
    "from pathlib import Path\n",
    "import matplotlib.pyplot as plt; plt.rc('font', size=12)\n",
    "import matplotlib.cm as cm\n",
    "import seaborn as sns\n",
    "from scipy.stats import entropy\n",
    "from scipy.stats import percentileofscore\n",
    "from scipy.spatial.distance import jensenshannon"
   ]
  },
  {
   "cell_type": "code",
   "execution_count": 2,
   "metadata": {},
   "outputs": [],
   "source": [
    "taxa = ['B_caccae',\n",
    "        'B_cellulosilyticus_WH2',\n",
    "        'B_ovatus',\n",
    "        'B_thetaiotaomicron',\n",
    "        'B_uniformis',\n",
    "        'B_vulgatus',\n",
    "        'C_aerofaciens',\n",
    "        'C_scindens',\n",
    "        'C_spiroforme',\n",
    "        # 'D_longicatena',\n",
    "        'P_distasonis',\n",
    "        'R_obeum'\n",
    "        ]\n",
    "\n",
    "pretty_names_dir = {'B_caccae': '$B. caccae$',\n",
    "                'B_cellulosilyticus_WH2': '$B. cellulosilyticus$',\n",
    "                'B_ovatus': '$B. ovatus$',\n",
    "                'B_thetaiotaomicron': '$B. thetaiotaomicron$',\n",
    "                'B_uniformis': '$B. uniformis$',\n",
    "                'B_vulgatus': '$B. vulgatus$',\n",
    "                'C_aerofaciens': '$C. aerofaciens$',\n",
    "                'C_scindens': '$C. scindens$',\n",
    "                'C_spiroforme': '$C. spiroforme$',\n",
    "                # 'D_longicatena': '$D. longicatena$',\n",
    "                'P_distasonis': '$P. distasonis$',\n",
    "                'R_obeum': '$R. obeum$'\n",
    "                }\n",
    "\n",
    "abbr_names_dir = {'B_caccae': 'Bca',\n",
    "                'B_cellulosilyticus_WH2': 'Bce',\n",
    "                'B_ovatus': 'Bov',\n",
    "                'B_thetaiotaomicron': 'Bth',\n",
    "                'B_uniformis': 'Bun',\n",
    "                'B_vulgatus': 'Bvu',\n",
    "                'C_aerofaciens': 'Cae',\n",
    "                'C_scindens': 'Csc',\n",
    "                'C_spiroforme': 'Csp',\n",
    "                # 'D_longicatena': 'Dlo',\n",
    "                'P_distasonis': 'Pdi',\n",
    "                'R_obeum': 'Rob'\n",
    "                }\n",
    "\n",
    "pretty_names = [pretty_names_dir[taxa] for taxa in taxa]"
   ]
  },
  {
   "attachments": {},
   "cell_type": "markdown",
   "metadata": {},
   "source": [
    "## Transformación de las matrices de interacción"
   ]
  },
  {
   "cell_type": "code",
   "execution_count": 80,
   "metadata": {},
   "outputs": [],
   "source": [
    "def mask_by_bayes(interactions, inter_bayes):\n",
    "    inter_bayes = inter_bayes.copy()\n",
    "    interactions = interactions.copy()\n",
    "\n",
    "    inter_bayes_mask = inter_bayes > np.sqrt(10)\n",
    "    inter_bayes_mask = inter_bayes_mask.values\n",
    "    \n",
    "    interactions_matrix = interactions.values\n",
    "    interactions_masked = np.ma.masked_array(interactions_matrix, mask=~inter_bayes_mask)\n",
    "    interactions_masked = interactions_masked.filled(np.nan)\n",
    "    return interactions_masked\n",
    "\n",
    "def get_smallest_order_of_magnitude(x):\n",
    "    return int(np.floor(np.log10(np.nanmin(np.abs(x)))))\n",
    "\n",
    "# def max_min_swap(x):\n",
    "#     x = x.copy()\n",
    "#     x_min = np.nanmin(x)\n",
    "#     x_max = np.nanmax(x)\n",
    "#     for i in range(x.shape[0]):\n",
    "#         for j in range(x.shape[1]):\n",
    "#             if np.isnan(x[i,j]):\n",
    "#                 continue\n",
    "#             x[i,j] = x_max + x_min - x[i,j]\n",
    "#     return x\n",
    "\n",
    "# def tranform_interaction_matrix(interactions, inter_bayes):\n",
    "#     interactions_masked = mask_by_bayes(interactions, inter_bayes)\n",
    "#     transformed_interaction_matrix = max_min_swap(np.absolute(np.log10(np.absolute(interactions_masked)))) * np.sign(interactions_masked)\n",
    "#     return transformed_interaction_matrix\n",
    "\n",
    "def tranform_interaction_matrix(interactions, inter_bayes):\n",
    "    interactions_masked = mask_by_bayes(interactions, inter_bayes)\n",
    "    smallest_order_of_magnitude = get_smallest_order_of_magnitude(interactions_masked)\n",
    "    transformed_interaction_matrix = np.log10(np.abs(interactions_masked * 10**(-1*smallest_order_of_magnitude))) * np.sign(interactions_masked)\n",
    "    return transformed_interaction_matrix\n",
    "\n",
    "def shift_to_positive(x):\n",
    "    x = x.copy()\n",
    "    C = np.absolute(np.nanmin(x)) + 0.01\n",
    "    for i in range(x.shape[0]):\n",
    "        for j in range(x.shape[1]):\n",
    "            if np.isnan(x[i,j]):\n",
    "                x[i,j] = 0\n",
    "            else:\n",
    "                x[i,j] = x[i,j] + C\n",
    "    return x"
   ]
  },
  {
   "attachments": {},
   "cell_type": "markdown",
   "metadata": {},
   "source": [
    "## Cargar matrices ecológicas"
   ]
  },
  {
   "cell_type": "code",
   "execution_count": 81,
   "metadata": {},
   "outputs": [],
   "source": [
    "inter_bayes_lf0 = pd.read_table('ecological-modeling/mcnulty-results/mcnulty-LF0-seed96/posteriors/interactions/bayes_factors.tsv', index_col=0)\n",
    "interactions_lf0 = pd.read_table('ecological-modeling/mcnulty-results/mcnulty-LF0-seed96/posteriors/interactions/mean_matrix.tsv', index_col=0)\n",
    "inter_bayes_hf0 = pd.read_table('ecological-modeling/mcnulty-results/mcnulty-HF0-seed12/posteriors/interactions/bayes_factors.tsv', index_col=0)\n",
    "interactions_hf0 = pd.read_table('ecological-modeling/mcnulty-results/mcnulty-HF0-seed12/posteriors/interactions/mean_matrix.tsv', index_col=0)\n",
    "###\n",
    "eco_lf0 = pd.DataFrame(tranform_interaction_matrix(interactions_lf0, inter_bayes_lf0), \n",
    "                                                  index=pretty_names, \n",
    "                                                  columns=pretty_names)\n",
    "eco_hf0 = pd.DataFrame(tranform_interaction_matrix(interactions_hf0, inter_bayes_hf0), \n",
    "                                                  index=pretty_names, \n",
    "                                                  columns=pretty_names)"
   ]
  },
  {
   "attachments": {},
   "cell_type": "markdown",
   "metadata": {},
   "source": [
    "## Cargar matrices metabólicas"
   ]
  },
  {
   "cell_type": "code",
   "execution_count": 86,
   "metadata": {},
   "outputs": [],
   "source": [
    "metabo_ECs_int_lf = pd.read_table('metabolic-modeling/metabolic-metrics/metaddinfo_ECs_int_lf.tsv', index_col=0)\n",
    "metabo_ECs_int_hf = pd.read_table('metabolic-modeling/metabolic-metrics/metaddinfo_ECs_int_hf.tsv', index_col=0)\n",
    "metabo_ECs_int_lf_carbo = pd.read_table('metabolic-modeling/metabolic-metrics/metaddinfo_ECs_int_lf_carbo.tsv', index_col=0)\n",
    "metabo_ECs_int_hf_carbo = pd.read_table('metabolic-modeling/metabolic-metrics/metaddinfo_ECs_int_hf_carbo.tsv', index_col=0)\n",
    "metabo_ECs_int_lf_amino = pd.read_table('metabolic-modeling/metabolic-metrics/metaddinfo_ECs_int_lf_amino.tsv', index_col=0)\n",
    "metabo_ECs_int_hf_amino = pd.read_table('metabolic-modeling/metabolic-metrics/metaddinfo_ECs_int_hf_amino.tsv', index_col=0)"
   ]
  },
  {
   "attachments": {},
   "cell_type": "markdown",
   "metadata": {},
   "source": [
    "## Divergencia de Jensen-Shannon"
   ]
  },
  {
   "cell_type": "code",
   "execution_count": 87,
   "metadata": {},
   "outputs": [
    {
     "name": "stdout",
     "output_type": "stream",
     "text": [
      "Jensen-Shannon divergence for LF0 dataset focusing on general metabolism:  0.20317920174370788\n",
      "Jensen-Shannon divergence for HF0 dataset focusing on general metabolism:  0.16912936269613632\n",
      "Jensen-Shannon divergence for LF0 dataset focusing on carbohydrate metabolism:  0.18279049786135512\n",
      "Jensen-Shannon divergence for HF0 dataset focusing on carbohydrate metabolism:  0.1811680909048595\n",
      "Jensen-Shannon divergence for LF0 dataset focusing on amino acid metabolism:  0.29073308786551566\n",
      "Jensen-Shannon divergence for HF0 dataset focusing on amino acid metabolism:  0.1974196596145463\n"
     ]
    }
   ],
   "source": [
    "js_lf0_general = jensenshannon(shift_to_positive(eco_lf0.values).flatten(), metabo_ECs_int_lf.values.flatten())**2\n",
    "js_hf0_general = jensenshannon(shift_to_positive(eco_hf0.values).flatten(), metabo_ECs_int_hf.values.flatten())**2\n",
    "\n",
    "js_lf0_carbo = jensenshannon(shift_to_positive(eco_lf0.values).flatten(), metabo_ECs_int_lf_carbo.values.flatten())**2\n",
    "js_hf0_carbo = jensenshannon(shift_to_positive(eco_hf0.values).flatten(), metabo_ECs_int_hf_carbo.values.flatten())**2\n",
    "\n",
    "js_lf0_amino = jensenshannon(shift_to_positive(eco_lf0.values).flatten(), metabo_ECs_int_lf_amino.values.flatten())**2\n",
    "js_hf0_amino = jensenshannon(shift_to_positive(eco_hf0.values).flatten(), metabo_ECs_int_hf_amino.values.flatten())**2\n",
    "\n",
    "print('Jensen-Shannon divergence for LF0 dataset focusing on general metabolism: ', js_lf0_general)\n",
    "print('Jensen-Shannon divergence for HF0 dataset focusing on general metabolism: ', js_hf0_general)\n",
    "print('Jensen-Shannon divergence for LF0 dataset focusing on carbohydrate metabolism: ', js_lf0_carbo)\n",
    "print('Jensen-Shannon divergence for HF0 dataset focusing on carbohydrate metabolism: ', js_hf0_carbo)\n",
    "print('Jensen-Shannon divergence for LF0 dataset focusing on amino acid metabolism: ', js_lf0_amino)\n",
    "print('Jensen-Shannon divergence for HF0 dataset focusing on amino acid metabolism: ', js_hf0_amino)"
   ]
  },
  {
   "attachments": {},
   "cell_type": "markdown",
   "metadata": {},
   "source": [
    "## Distancia de Jensen-Shannon"
   ]
  },
  {
   "cell_type": "code",
   "execution_count": 92,
   "metadata": {},
   "outputs": [
    {
     "name": "stdout",
     "output_type": "stream",
     "text": [
      "Jensen-Shannon divergence for LF0 dataset focusing on general metabolism:  0.45075403685791643\n",
      "Jensen-Shannon divergence for HF0 dataset focusing on general metabolism:  0.411253404479691\n",
      "Jensen-Shannon divergence for LF0 dataset focusing on carbohydrate metabolism:  0.42754005410178253\n",
      "Jensen-Shannon divergence for HF0 dataset focusing on carbohydrate metabolism:  0.42563845092385566\n",
      "Jensen-Shannon divergence for LF0 dataset focusing on amino acid metabolism:  0.5391967060966857\n",
      "Jensen-Shannon divergence for HF0 dataset focusing on amino acid metabolism:  0.4443193216759162\n"
     ]
    }
   ],
   "source": [
    "js_lf0_general = jensenshannon(shift_to_positive(eco_lf0.values).flatten(), metabo_ECs_int_lf.values.flatten())\n",
    "js_hf0_general = jensenshannon(shift_to_positive(eco_hf0.values).flatten(), metabo_ECs_int_hf.values.flatten())\n",
    "\n",
    "js_lf0_carbo = jensenshannon(shift_to_positive(eco_lf0.values).flatten(), metabo_ECs_int_lf_carbo.values.flatten())\n",
    "js_hf0_carbo = jensenshannon(shift_to_positive(eco_hf0.values).flatten(), metabo_ECs_int_hf_carbo.values.flatten())\n",
    "\n",
    "js_lf0_amino = jensenshannon(shift_to_positive(eco_lf0.values).flatten(), metabo_ECs_int_lf_amino.values.flatten())\n",
    "js_hf0_amino = jensenshannon(shift_to_positive(eco_hf0.values).flatten(), metabo_ECs_int_hf_amino.values.flatten())\n",
    "\n",
    "print('Jensen-Shannon divergence for LF0 dataset focusing on general metabolism: ', js_lf0_general)\n",
    "print('Jensen-Shannon divergence for HF0 dataset focusing on general metabolism: ', js_hf0_general)\n",
    "print('Jensen-Shannon divergence for LF0 dataset focusing on carbohydrate metabolism: ', js_lf0_carbo)\n",
    "print('Jensen-Shannon divergence for HF0 dataset focusing on carbohydrate metabolism: ', js_hf0_carbo)\n",
    "print('Jensen-Shannon divergence for LF0 dataset focusing on amino acid metabolism: ', js_lf0_amino)\n",
    "print('Jensen-Shannon divergence for HF0 dataset focusing on amino acid metabolism: ', js_hf0_amino)"
   ]
  },
  {
   "cell_type": "code",
   "execution_count": 108,
   "metadata": {},
   "outputs": [],
   "source": [
    "js_table = pd.DataFrame({'LF0':[js_lf0_general, js_lf0_carbo, js_lf0_amino], 'HF0':[js_hf0_general, js_hf0_carbo, js_hf0_amino]}, index=['General', 'Carbohydrates', 'Amino acids'])"
   ]
  },
  {
   "cell_type": "code",
   "execution_count": 109,
   "metadata": {},
   "outputs": [
    {
     "data": {
      "image/png": "[encoded data removed]",
      "text/plain": [
       "<Figure size 640x480 with 1 Axes>"
      ]
     },
     "metadata": {},
     "output_type": "display_data"
    }
   ],
   "source": [
    "js_table.plot(kind='bar', rot=0, color=[cm.Paired(9), cm.Paired(7)])\n",
    "plt.ylim(0, 1)\n",
    "plt.ylabel('Jensen-Shannon distance')\n",
    "plt.xlabel('Metabolism')\n",
    "plt.show()"
   ]
  }
 ],
 "metadata": {
  "kernelspec": {
   "display_name": "matrix-analysis",
   "language": "python",
   "name": "python3"
  },
  "language_info": {
   "codemirror_mode": {
    "name": "ipython",
    "version": 3
   },
   "file_extension": ".py",
   "mimetype": "text/x-python",
   "name": "python",
   "nbconvert_exporter": "python",
   "pygments_lexer": "ipython3",
   "version": "3.11.2"
  },
  "orig_nbformat": 4,
  "vscode": {
   "interpreter": {
    "hash": "ecfd9f404a1b1fa608b8aca284508632db504aef05723c7f61a893faf02cd0fa"
   }
  }
 },
 "nbformat": 4,
 "nbformat_minor": 2
}
